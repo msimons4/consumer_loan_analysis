{
 "cells": [
  {
   "cell_type": "code",
   "execution_count": 3,
   "id": "5097043e",
   "metadata": {},
   "outputs": [],
   "source": [
    "import pandas as pd\n",
    "import numpy as np\n",
    "import PyPDF2\n",
    "import os\n",
    "import re\n",
    "from matplotlib import pyplot as plt\n",
    "plt.style.use('ggplot')\n",
    "import seaborn as sns"
   ]
  },
  {
   "cell_type": "markdown",
   "id": "da4f463f",
   "metadata": {},
   "source": [
    "reader = PyPDF2.PdfReader('./dataset/omfit-2019-2-monthly-servicer-report-september-2023-pdf.pdf')"
   ]
  },
  {
   "cell_type": "markdown",
   "id": "46409f7d",
   "metadata": {},
   "source": [
    "page4 = reader.pages[3]\n",
    "page4_text = page4.extract_text()"
   ]
  },
  {
   "cell_type": "markdown",
   "id": "71b8ede9",
   "metadata": {
    "scrolled": false
   },
   "source": [
    "print(page4_text)"
   ]
  },
  {
   "cell_type": "markdown",
   "id": "102a700f",
   "metadata": {},
   "source": [
    "startpoint = page3_text.find('Back-up Servicer Fees') + 21\n",
    "startpoint"
   ]
  },
  {
   "cell_type": "markdown",
   "id": "12c69af7",
   "metadata": {},
   "source": [
    "len('Back-up Servicer Fees')"
   ]
  },
  {
   "cell_type": "markdown",
   "id": "28bf5e5f",
   "metadata": {},
   "source": [
    "endpoint = page3_text.find(\" \", startpoint+1)"
   ]
  },
  {
   "cell_type": "markdown",
   "id": "37907415",
   "metadata": {},
   "source": [
    "float(page3_text[startpoint:endpoint].replace(',','').strip())"
   ]
  },
  {
   "cell_type": "markdown",
   "id": "2a921d61",
   "metadata": {},
   "source": [
    "len('Interest: \\n')"
   ]
  },
  {
   "cell_type": "markdown",
   "id": "7964c1ac",
   "metadata": {},
   "source": [
    "midpoint = page3_text.find('\\n', startpoint) + 2\n",
    "midpoint"
   ]
  },
  {
   "cell_type": "markdown",
   "id": "7f56a74a",
   "metadata": {},
   "source": [
    "endpoint = page3_text.find(\" \", midpoint+1)\n",
    "endpoint"
   ]
  },
  {
   "cell_type": "markdown",
   "id": "09e70257",
   "metadata": {},
   "source": [
    "float(page3_text[midpoint:endpoint].replace(',','').strip())"
   ]
  },
  {
   "cell_type": "markdown",
   "id": "a9da4eee",
   "metadata": {},
   "source": [
    "ending_loan_bal = float(page.extract_text()[startpoint:endpoint].replace(',','').strip())"
   ]
  },
  {
   "cell_type": "markdown",
   "id": "3507a0f8",
   "metadata": {},
   "source": [
    "collat_dict = {}\n",
    "collat_dict['ending_loan_balance'] = [ending_loan_bal]"
   ]
  },
  {
   "cell_type": "markdown",
   "id": "6830096e",
   "metadata": {},
   "source": [
    "startpoint = page.extract_text().find('roposed Loans, and Replacement Loans')"
   ]
  },
  {
   "cell_type": "markdown",
   "id": "d60d6592",
   "metadata": {},
   "source": [
    "midpoint = page.extract_text().find('%', startpoint) + 3"
   ]
  },
  {
   "cell_type": "markdown",
   "id": "21529a46",
   "metadata": {},
   "source": [
    "endpoint = page.extract_text().find('%', midpoint+1) - 1"
   ]
  },
  {
   "cell_type": "markdown",
   "id": "827fc9aa",
   "metadata": {},
   "source": [
    "collat_dict['num_loans'] = [float(page.extract_text()[midpoint:endpoint].split()[0].replace(',','').strip())]\n",
    "collat_dict['wac'] = [float(page.extract_text()[midpoint:endpoint].split()[-1].replace(',','').strip())]\n",
    "collat_dict['fico'] = [int(page.extract_text()[endpoint+4:endpoint+7])]"
   ]
  },
  {
   "cell_type": "markdown",
   "id": "a64ddf2c",
   "metadata": {},
   "source": [
    "startpoint = endpoint + 1"
   ]
  },
  {
   "cell_type": "markdown",
   "id": "400006de",
   "metadata": {},
   "source": [
    "endpoint = page.extract_text().find(\"Page\", startpoint)"
   ]
  },
  {
   "cell_type": "markdown",
   "id": "3bce1e8a",
   "metadata": {},
   "source": [
    "collat_dict['wart'] = [float(page.extract_text()[startpoint+7:endpoint-1])]"
   ]
  },
  {
   "cell_type": "markdown",
   "id": "c463e818",
   "metadata": {},
   "source": [
    "def get_filename(filename):\n",
    "    \"\"\"\n",
    "    returns name of onemain files\n",
    "    filename should be a OS dir object\"\"\"\n",
    "    return str(filename)[str(filename).find('\\\\')+1:str(filename).find(\".\", 1)].split()[1].replace(\"'\", \"\")"
   ]
  },
  {
   "cell_type": "markdown",
   "id": "b15b7274",
   "metadata": {},
   "source": [
    "def create_readers(directory):\n",
    "    \"\"\"for the given directory, returns a dict of PyPDF2 readers for each filename in the directory\n",
    "    dict key is the name of the file\n",
    "    dict value is the reader\n",
    "    this function only looks for the naming convention used in  OneMain PDFs\"\"\"\n",
    "    readers = {}\n",
    "    for filename in os.scandir(directory):\n",
    "        if filename.is_file():\n",
    "            name = get_filename(filename)\n",
    "            readers[name] = PyPDF2.PdfReader(filename.path)\n",
    "    return readers"
   ]
  },
  {
   "cell_type": "markdown",
   "id": "0982597d",
   "metadata": {},
   "source": [
    "directory = './dataset'\n",
    "collat_dict = {}\n",
    "collat_dict['ending_loan_balance'] = []\n",
    "collat_dict['num_loans'] = []\n",
    "collat_dict['wac'] = []\n",
    "collat_dict['fico'] = []\n",
    "collat_dict['wart'] = []\n",
    "collat_dict['total_prin_coll'] = []\n",
    "collat_dict['total_int_coll'] = []\n",
    "\n",
    "readers_dict = create_readers(directory)\n",
    "\n",
    "dates_pattern = \"[0-9]{2}[/][0-9]{2}[/][0-9]{4}\"\n",
    "\n",
    "for key, value in readers_dict.items():\n",
    "    if 'monthly-servicer-report' in key: #looking at just the trustee reports \n",
    "        reader = value\n",
    "        page2 = reader.pages[1] #second page for loan information\n",
    "        page2_text = page2.extract_text()\n",
    "        dates = re.findall(dates_pattern, page2_text)\n",
    "        payment_date = dates[0]\n",
    "        end_of_coll_period = dates[1]\n",
    "        startpoint = page2.extract_text().find('Loan Action Date Loan Principal Balance') + 39\n",
    "        endpoint = page2.extract_text().find('\\n', startpoint) - 1\n",
    "        ending_loan_bal = float(page2.extract_text()[startpoint:endpoint].replace(',','').strip())            \n",
    "        collat_dict['ending_loan_balance'].append((payment_date, ending_loan_bal))\n",
    "        startpoint = page2.extract_text().find('roposed Loans, and Replacement Loans')\n",
    "        midpoint = page2.extract_text().find('%', startpoint) + 3\n",
    "        endpoint = page2.extract_text().find('%', midpoint+1) - 1\n",
    "        collat_dict['num_loans'].append((payment_date, float(page2.extract_text()[midpoint:endpoint].split()[0].replace(',','').strip())))\n",
    "        collat_dict['wac'].append((payment_date, float(page2.extract_text()[midpoint:endpoint].split()[-1].replace(',','').strip())))\n",
    "        collat_dict['fico'].append((payment_date, int(page2.extract_text()[endpoint+4:endpoint+7])))\n",
    "        startpoint = endpoint + 1\n",
    "        endpoint = page2.extract_text().find(\"Page\", startpoint)\n",
    "        collat_dict['wart'].append((payment_date, float(page2.extract_text()[startpoint+7:endpoint-1])))\n",
    "        page3 = reader.pages[2]\n",
    "        page3_text = page3.extract_text()\n",
    "        startpoint = page3_text.find('Total Principal Collections') + 28\n",
    "        midpoint = page3_text.find('\\n', startpoint) + 2\n",
    "        endpoint = page3_text.find(\" \", midpoint+1)\n",
    "        collat_dict['total_prin_coll'].append((payment_date, float(page3_text[midpoint:endpoint].replace(',','').strip())))\n",
    "        startpoint = page3_text.find('Interest:') + 11\n",
    "        endpoint = page3_text.find(\" \", startpoint+1)\n",
    "        collat_dict['total_int_coll'] = float(page3_text[startpoint:endpoint].replace(',','').strip())"
   ]
  },
  {
   "cell_type": "markdown",
   "id": "ae5f2446",
   "metadata": {},
   "source": [
    "collat_dict"
   ]
  },
  {
   "cell_type": "markdown",
   "id": "a4761fbd",
   "metadata": {},
   "source": [
    "create_readers('./dataset')"
   ]
  },
  {
   "cell_type": "markdown",
   "id": "f58ab014",
   "metadata": {},
   "source": [
    "\n",
    "reader = PyPDF2.PdfReader('./dataset/omfit-2019-2-monthly-servicer-report-august-2023-pdf.pdf')\n",
    "print(filename.path)\n",
    "page2 = reader.pages[1]\n",
    "page2_text = page.extract_text()\n",
    "print(page2_text)\n",
    "reader = PyPDF2.PdfReader('./dataset/omfit-2019-2-monthly-servicer-report-june-2023-pdf.pdf')\n",
    "print(filename.path)\n",
    "page2 = reader.pages[1]\n",
    "page2_text = page.extract_text()\n",
    "print(page2_text)\n",
    "\n",
    "reader = PyPDF2.PdfReader('./dataset/omfit-2019-2-monthly-servicer-report-september-2023-pdf.pdf')\n",
    "print(filename.path)\n",
    "page2 = reader.pages[1]\n",
    "page2_text = page.extract_text()\n",
    "print(page2_text)"
   ]
  },
  {
   "cell_type": "markdown",
   "id": "ba168b46",
   "metadata": {},
   "source": [
    "text = \"Monthly Servicer Report Collection Period  3010/16/202309/30/2023 Transaction MonthPayment DateEnd DateBeginning Date  4909/01/2023 30/360 Days\"\n",
    "\n",
    "r = \"[0-9]{2}[/][0-9]{2}[/][0-9]{4}\"\n",
    "re.findall(r, text)"
   ]
  },
  {
   "cell_type": "markdown",
   "id": "2414a780",
   "metadata": {},
   "source": [
    "payment_date = pd.read_excel('.\\dataset\\omfit-2019-2-monthly-servicer-report-september-2023-excel_investorversion.xlsx', usecols='G', skiprows=6, nrows=1, header=None, names=['payment_date'])\n",
    "payment_date = payment_date['payment_date'][0]\n",
    "payment_date\n",
    "\n",
    "pool_info_df = pd.read_excel('.\\dataset\\omfit-2019-2-monthly-servicer-report-september-2023-excel_investorversion.xlsx', usecols='F', skiprows=55, nrows=5, header=None, names=['end_of_period']).T.reset_index(drop=True)\n",
    "\n",
    "pool_info_df.columns = ['wac', 'wa_fico', 'wart', 'ending_balance', 'num_loans']\n",
    "pool_info_df.index = [payment_date]\n",
    "pool_info_df\n",
    "\n",
    "prin_coll = pd.read_excel('.\\dataset\\omfit-2019-2-monthly-servicer-report-september-2023-excel_investorversion.xlsx', usecols='F', skiprows=77, nrows=1, header=None, names=['total_prin_coll'])\n",
    "prin_coll.index = [payment_date]\n",
    "prin_coll\n",
    "\n",
    "int_coll = pd.read_excel('.\\dataset\\omfit-2019-2-monthly-servicer-report-september-2023-excel_investorversion.xlsx', usecols='F', skiprows=82, nrows=1, header=None, names=['total_int_coll'])\n",
    "int_coll.index = [payment_date]\n",
    "int_coll\n",
    "\n",
    "distributions = pd.read_excel('.\\dataset\\omfit-2019-2-monthly-servicer-report-september-2023-excel_investorversion.xlsx', usecols='F', skiprows=101, nrows=19, header=None, names=['distributions'])\n",
    "\n",
    "wf_steps = pd.read_excel('.\\dataset\\omfit-2019-2-monthly-servicer-report-september-2023-excel_investorversion.xlsx', usecols='A', skiprows=101, nrows=19, header=None, names=['wf_steps'])\n",
    "\n",
    "distributions.index = [wf_steps['wf_steps']]\n",
    "\n",
    "distributions = distributions.T\n",
    "distributions.index = [payment_date]\n",
    "distributions\n",
    "\n",
    "rsv_acct = pd.read_excel('.\\dataset\\omfit-2019-2-monthly-servicer-report-september-2023-excel_investorversion.xlsx', usecols='F', skiprows=126, nrows=1, header=None, names=['reserve_acct_bal'])\n",
    "rsv_acct.index = [payment_date]\n",
    "rsv_acct\n",
    "\n",
    "oc = pd.read_excel('.\\dataset\\omfit-2019-2-monthly-servicer-report-september-2023-excel_investorversion.xlsx', usecols='F', skiprows=151, nrows=3, header=None, names=['oc'])\n",
    "oc.index = ['total_oc', 'required_oc', 'in_compliance']\n",
    "oc = oc.T\n",
    "oc.index = [payment_date]\n",
    "oc\n",
    "\n",
    "events_df = pd.read_excel('.\\dataset\\omfit-2019-2-monthly-servicer-report-september-2023-excel_investorversion.xlsx', usecols='A, C:F', skiprows=181, nrows=31, header=None, names=['event', 'initial_pool', 'current_pool', 'limit', 'in_compliance'])\n",
    "events_df.dropna(axis=0, how='all', inplace=True)\n",
    "events_df = events_df.reset_index(drop=True)\n",
    "\n",
    "events_df = events_df[(events_df['event'] != 'AMORTIZATION EVENTS') & (pd.notna(events_df['event']))].reset_index(drop=True)\n",
    "events_df"
   ]
  },
  {
   "cell_type": "code",
   "execution_count": 4,
   "id": "1b436dfb",
   "metadata": {},
   "outputs": [],
   "source": [
    "directory = \"./dataset\"\n",
    "filenames = []\n",
    "payment_dates = []\n",
    "for filename in os.scandir(directory):\n",
    "    if filename.is_file():\n",
    "        filenames.append(filename)\n",
    "        payment_date = pd.read_excel(filename, usecols='G', skiprows=6, nrows=1, header=None, names=['payment_date'])\n",
    "        payment_date = payment_date['payment_date'][0]\n",
    "        payment_dates.append(payment_date)"
   ]
  },
  {
   "cell_type": "code",
   "execution_count": 5,
   "id": "b36e7045",
   "metadata": {},
   "outputs": [],
   "source": [
    "files_dates = list(zip(payment_dates, filenames))"
   ]
  },
  {
   "cell_type": "code",
   "execution_count": 6,
   "id": "24fdb6ba",
   "metadata": {},
   "outputs": [],
   "source": [
    "files_dates = sorted(files_dates, key = lambda x: x[0])\n",
    "# files_dates"
   ]
  },
  {
   "cell_type": "code",
   "execution_count": 7,
   "id": "68b1a601",
   "metadata": {},
   "outputs": [],
   "source": [
    "initial_pool_info_dict = {'bal': {}, 'num_loans': {}, 'wa_fico': {}, 'wac': {}, 'wart': {}}\n",
    "\n",
    "initial_pool = pd.read_excel(files_dates[0][1], usecols='B:F', skiprows=17, nrows=1, header=None, names=['bal', 'num_loans', 'wa_fico', 'wac', 'wart']).reset_index(drop=True)\n",
    "initial_pool.index = [files_dates[0][0]]\n",
    "# initial_pool"
   ]
  },
  {
   "cell_type": "code",
   "execution_count": 8,
   "id": "40e0dd26",
   "metadata": {},
   "outputs": [],
   "source": [
    "initial_bal = float(initial_pool.loc[:, 'bal'])"
   ]
  },
  {
   "cell_type": "code",
   "execution_count": 9,
   "id": "0a5d653b",
   "metadata": {},
   "outputs": [
    {
     "data": {
      "text/plain": [
       "947374173.76"
      ]
     },
     "execution_count": 9,
     "metadata": {},
     "output_type": "execute_result"
    }
   ],
   "source": [
    "initial_bal"
   ]
  },
  {
   "cell_type": "code",
   "execution_count": 10,
   "id": "038cb52f",
   "metadata": {},
   "outputs": [],
   "source": [
    "class_a_coupon = 3.14\n",
    "class_b_coupon = 3.41\n",
    "class_c_coupon = 3.66\n",
    "class_d_coupon = 4.05"
   ]
  },
  {
   "cell_type": "code",
   "execution_count": 11,
   "id": "29ed895f",
   "metadata": {},
   "outputs": [],
   "source": [
    "bond_info_dict = {}\n",
    "\n",
    "for i in range(len(files_dates)):\n",
    "    if files_dates[i][0] <= pd.Timestamp('2021-08-16 00:00:00'):\n",
    "        row_adjustment = 0\n",
    "    else:\n",
    "        row_adjustment = 0\n",
    "    bonds_info_df = pd.read_excel(files_dates[i][1], usecols='A, B, E, F', skiprows=30+row_adjustment, nrows=4, header=None, names=['bond_name', 'beg_bond_bal', 'end_bond_bal', 'factor'])\n",
    "    bonds_info_df.dropna(axis=0, how='all', inplace=True)\n",
    "    bonds_info_df.set_index('bond_name', inplace=True)\n",
    "\n",
    "    bond_info_dict[files_dates[i][0]] = {(outerKey, innerKey): values for outerKey, innerDict in bonds_info_df.T.to_dict().items() for innerKey, values in innerDict.items()}"
   ]
  },
  {
   "cell_type": "code",
   "execution_count": 12,
   "id": "a5840d1f",
   "metadata": {},
   "outputs": [],
   "source": [
    "bond_df = pd.DataFrame(bond_info_dict)\n",
    "bond_df = bond_df.T\n",
    "bond_df.sort_index(inplace=True)"
   ]
  },
  {
   "cell_type": "code",
   "execution_count": 13,
   "id": "d4a641a5",
   "metadata": {},
   "outputs": [],
   "source": [
    "names_list = []\n",
    "for col in bond_df.columns:\n",
    "    new_name = f\"{col[0]}_{col[1]}\"\n",
    "    names_list.append(new_name)"
   ]
  },
  {
   "cell_type": "code",
   "execution_count": 14,
   "id": "de044d72",
   "metadata": {},
   "outputs": [],
   "source": [
    "bond_df.columns = names_list"
   ]
  },
  {
   "cell_type": "code",
   "execution_count": 15,
   "id": "a63b1ca9",
   "metadata": {},
   "outputs": [],
   "source": [
    "pool_info_dict = {'beg_bal': {}, 'wac': {}, 'wa_fico': {}, 'wart': {}, 'ending_balance': {}, 'num_loans': {}}\n",
    "\n",
    "for i in range(len(files_dates)):\n",
    "    if files_dates[i][0] <= pd.Timestamp('2021-08-16 00:00:00'):\n",
    "        row_adjustment = 2\n",
    "    else:\n",
    "        row_adjustment = 0\n",
    "    end_period_info_df = pd.read_excel(files_dates[i][1], usecols='F', skiprows=55+row_adjustment, nrows=5, header=None, names=['end_of_period']).T.reset_index(drop=True)\n",
    "    end_period_info_df.columns = ['wac', 'wa_fico', 'wart', 'ending_balance', 'num_loans']\n",
    "    end_period_info_df.index = [files_dates[i][0]]\n",
    "    beg_period_info_df = pd.read_excel(files_dates[i][1], usecols='F', skiprows=39, nrows=1, header=None, names=['beg_bal']).T.reset_index(drop=True)\n",
    "    beg_period_info_df.columns = ['beg_bal']\n",
    "    beg_period_info_df.index = [files_dates[i][0]]\n",
    "    pool_info_df = beg_period_info_df.merge(end_period_info_df, how='outer', left_index=True, right_index=True)\n",
    "    for key, value in pool_info_df.to_dict().items():\n",
    "        pool_info_dict[key].update(value)"
   ]
  },
  {
   "cell_type": "code",
   "execution_count": 16,
   "id": "6f8f4f68",
   "metadata": {},
   "outputs": [],
   "source": [
    "pool_info_df = pd.DataFrame(pool_info_dict)\n",
    "pool_info_df.sort_index(inplace=True)"
   ]
  },
  {
   "cell_type": "code",
   "execution_count": 17,
   "id": "c6845935",
   "metadata": {},
   "outputs": [],
   "source": [
    "prin_coll_dict = {'total_prin_coll': {}}\n",
    "\n",
    "for i in range(len(files_dates)):\n",
    "    if files_dates[i][0] <= pd.Timestamp('2021-08-16 00:00:00'):\n",
    "        row_adjustment = 2\n",
    "    else:\n",
    "        row_adjustment = 0\n",
    "    prin_coll = pd.read_excel(files_dates[i][1], usecols='F', skiprows=77+row_adjustment, nrows=1, header=None, names=['total_prin_coll'])\n",
    "    prin_coll.index = [files_dates[i][0]]\n",
    "    for key, value in prin_coll.to_dict().items():\n",
    "        prin_coll_dict[key].update(value)"
   ]
  },
  {
   "cell_type": "code",
   "execution_count": 18,
   "id": "b5f8aadd",
   "metadata": {},
   "outputs": [],
   "source": [
    "prin_coll = pd.DataFrame(prin_coll_dict)"
   ]
  },
  {
   "cell_type": "code",
   "execution_count": 19,
   "id": "1a04b7f0",
   "metadata": {},
   "outputs": [],
   "source": [
    "prin_coll.sort_index(inplace=True)"
   ]
  },
  {
   "cell_type": "code",
   "execution_count": 20,
   "id": "1bb3a4e6",
   "metadata": {},
   "outputs": [],
   "source": [
    "# prin_coll"
   ]
  },
  {
   "cell_type": "code",
   "execution_count": 21,
   "id": "d1593335",
   "metadata": {},
   "outputs": [],
   "source": [
    "int_coll_dict = {'total_int_coll': {}}\n",
    "\n",
    "for i in range(len(files_dates)):\n",
    "    if files_dates[i][0] <= pd.Timestamp('2021-08-16 00:00:00'):\n",
    "        row_adjustment = 2\n",
    "    else:\n",
    "        row_adjustment = 0\n",
    "    int_coll = pd.read_excel(files_dates[i][1], usecols='F', skiprows=82+row_adjustment, nrows=1, header=None, names=['total_int_coll'])\n",
    "    int_coll.index = [files_dates[i][0]]\n",
    "    for key, value in int_coll.to_dict().items():\n",
    "        int_coll_dict[key].update(value)"
   ]
  },
  {
   "cell_type": "code",
   "execution_count": 22,
   "id": "41157527",
   "metadata": {},
   "outputs": [],
   "source": [
    "int_coll = pd.DataFrame(int_coll_dict)"
   ]
  },
  {
   "cell_type": "code",
   "execution_count": 23,
   "id": "e11ce8da",
   "metadata": {},
   "outputs": [],
   "source": [
    "int_coll.sort_index(inplace=True)"
   ]
  },
  {
   "cell_type": "code",
   "execution_count": 24,
   "id": "2ee0b83a",
   "metadata": {
    "scrolled": true
   },
   "outputs": [],
   "source": [
    "# int_coll"
   ]
  },
  {
   "cell_type": "code",
   "execution_count": 25,
   "id": "10fe652e",
   "metadata": {},
   "outputs": [
    {
     "name": "stderr",
     "output_type": "stream",
     "text": [
      "C:\\Users\\msimo\\AppData\\Local\\Temp\\ipykernel_5480\\1050491315.py:17: UserWarning: DataFrame columns are not unique, some columns will be omitted.\n",
      "  for key, value in distributions.to_dict().items():\n"
     ]
    }
   ],
   "source": [
    "wf_dict = {}\n",
    "\n",
    "counter = 0\n",
    "for i in range(len(files_dates)):\n",
    "    if files_dates[i][0] <= pd.Timestamp('2021-08-16 00:00:00'):\n",
    "        row_adjustment = 2\n",
    "    else:\n",
    "        row_adjustment = 0\n",
    "    distributions = pd.read_excel(files_dates[i][1], usecols='F', skiprows=101+row_adjustment, nrows=19+row_adjustment, header=None, names=['distributions'])\n",
    "    wf_steps = pd.read_excel(files_dates[i][1], usecols='A', skiprows=101+row_adjustment, nrows=19+row_adjustment, header=None, names=['wf_steps'])\n",
    "    distributions.index = [wf_steps['wf_steps']]\n",
    "    distributions = distributions.T\n",
    "    distributions.index = [payment_dates[i]]\n",
    "    if counter == 0:\n",
    "        wf_dict = distributions.to_dict()\n",
    "    else:\n",
    "        for key, value in distributions.to_dict().items():\n",
    "            try:\n",
    "                wf_dict[key].update(value)\n",
    "            except KeyError:\n",
    "                pass\n",
    "    counter += 1"
   ]
  },
  {
   "cell_type": "code",
   "execution_count": 26,
   "id": "ce1da850",
   "metadata": {},
   "outputs": [],
   "source": [
    "wf_df = pd.DataFrame(wf_dict)"
   ]
  },
  {
   "cell_type": "code",
   "execution_count": 27,
   "id": "85b696db",
   "metadata": {},
   "outputs": [],
   "source": [
    "wf_df.sort_index(inplace=True)"
   ]
  },
  {
   "cell_type": "code",
   "execution_count": 28,
   "id": "e8fde9e8",
   "metadata": {},
   "outputs": [],
   "source": [
    "# wf_df"
   ]
  },
  {
   "cell_type": "code",
   "execution_count": 29,
   "id": "30c21dc8",
   "metadata": {},
   "outputs": [],
   "source": [
    "rsv_acct_dict = {'reserve_acct_bal': {}}\n",
    "\n",
    "for i in range(len(files_dates)):\n",
    "    if files_dates[i][0] <= pd.Timestamp('2021-08-16 00:00:00'):\n",
    "        row_adjustment = 4\n",
    "    else:\n",
    "        row_adjustment = 0\n",
    "    rsv_acct = pd.read_excel(files_dates[i][1], usecols='F', skiprows=126+row_adjustment, nrows=1, header=None, names=['reserve_acct_bal'])\n",
    "    rsv_acct.index = [files_dates[i][0]]\n",
    "    for key, value in rsv_acct.to_dict().items():\n",
    "        rsv_acct_dict[key].update(value)"
   ]
  },
  {
   "cell_type": "code",
   "execution_count": 30,
   "id": "1e154055",
   "metadata": {},
   "outputs": [],
   "source": [
    "rsv_df = pd.DataFrame(rsv_acct_dict)\n",
    "rsv_df.sort_index(inplace=True)"
   ]
  },
  {
   "cell_type": "code",
   "execution_count": 31,
   "id": "63a39de7",
   "metadata": {},
   "outputs": [],
   "source": [
    "# rsv_df"
   ]
  },
  {
   "cell_type": "code",
   "execution_count": 32,
   "id": "d0d2ef3a",
   "metadata": {},
   "outputs": [],
   "source": [
    "oc_dict = {'total_oc': {}, 'required_oc': {}, 'in_compliance': {}}\n",
    "\n",
    "for i in range(len(files_dates)):\n",
    "    if files_dates[i][0] <= pd.Timestamp('2021-08-16 00:00:00'):\n",
    "        row_adjustment = 2\n",
    "        if (files_dates[i][0] == pd.Timestamp('2020-04-14 00:00:00')) or (files_dates[i][0] == pd.Timestamp('2020-05-14 00:00:00')):\n",
    "            row_adjustment += 2\n",
    "    else:\n",
    "        row_adjustment = 0\n",
    "    oc = pd.read_excel(files_dates[i][1], usecols='F', skiprows=151+row_adjustment, nrows=3, header=None, names=['oc'])\n",
    "    oc.index = ['total_oc', 'required_oc', 'in_compliance']\n",
    "    oc = oc.T\n",
    "    oc.index = [files_dates[i][0]]\n",
    "    for key, value in oc.to_dict().items():\n",
    "        oc_dict[key].update(value)"
   ]
  },
  {
   "cell_type": "code",
   "execution_count": 33,
   "id": "5135ddaf",
   "metadata": {},
   "outputs": [],
   "source": [
    "oc_df = pd.DataFrame(oc_dict)\n",
    "oc_df.sort_index(inplace=True)\n",
    "# oc_df"
   ]
  },
  {
   "cell_type": "code",
   "execution_count": 34,
   "id": "ea9164fa",
   "metadata": {},
   "outputs": [],
   "source": [
    "events_dict = {}\n",
    "\n",
    "for i in range(len(files_dates)):\n",
    "    if files_dates[i][0] <= pd.Timestamp('2021-08-16 00:00:00'):\n",
    "        row_adjustment = 2\n",
    "        if (files_dates[i][0] == pd.Timestamp('2020-04-14 00:00:00')) or (files_dates[i][0] == pd.Timestamp('2020-05-14 00:00:00')):\n",
    "            row_adjustment += 2\n",
    "    else:\n",
    "        row_adjustment = 0\n",
    "    events_df = pd.read_excel(files_dates[i][1], usecols='A, C:F', skiprows=181+row_adjustment, nrows=31, header=None, names=['event', 'initial_pool', 'current_pool', 'limit', 'in_compliance'])\n",
    "    events_df.dropna(axis=0, how='all', inplace=True)\n",
    "    events_df = events_df[(events_df['event'] != 'AMORTIZATION EVENTS') & (pd.notna(events_df['event']))].reset_index(drop=True)\n",
    "    events_df.set_index('event', inplace=True)\n",
    "\n",
    "    events_dict[files_dates[i][0]] = {(outerKey, innerKey): values for outerKey, innerDict in events_df.T.to_dict().items() for innerKey, values in innerDict.items()}"
   ]
  },
  {
   "cell_type": "code",
   "execution_count": 35,
   "id": "2f0ae3e6",
   "metadata": {},
   "outputs": [],
   "source": [
    "df = pd.DataFrame(events_dict)\n",
    "df = df.T\n",
    "df.sort_index(inplace=True)"
   ]
  },
  {
   "cell_type": "code",
   "execution_count": 36,
   "id": "a6b18e23",
   "metadata": {},
   "outputs": [],
   "source": [
    "# df"
   ]
  },
  {
   "cell_type": "code",
   "execution_count": 49,
   "id": "735acd3d",
   "metadata": {},
   "outputs": [],
   "source": [
    "combined_df = pool_info_df.merge(prin_coll, how='outer',  left_index=True, right_index=True)\n",
    "\n",
    "combined_df = combined_df.merge(int_coll, how='outer',  left_index=True, right_index=True)\n",
    "\n",
    "combined_df = combined_df.merge(rsv_df, how='outer',  left_index=True, right_index=True)\n",
    "\n",
    "combined_df = combined_df.merge(oc_df, how='outer',  left_index=True, right_index=True)\n",
    "\n",
    "combined_df = combined_df.merge(bond_df, how='outer',  left_index=True, right_index=True)"
   ]
  },
  {
   "cell_type": "code",
   "execution_count": 50,
   "id": "9fc87a73",
   "metadata": {
    "scrolled": true
   },
   "outputs": [
    {
     "data": {
      "text/html": [
       "<div>\n",
       "<style scoped>\n",
       "    .dataframe tbody tr th:only-of-type {\n",
       "        vertical-align: middle;\n",
       "    }\n",
       "\n",
       "    .dataframe tbody tr th {\n",
       "        vertical-align: top;\n",
       "    }\n",
       "\n",
       "    .dataframe thead th {\n",
       "        text-align: right;\n",
       "    }\n",
       "</style>\n",
       "<table border=\"1\" class=\"dataframe\">\n",
       "  <thead>\n",
       "    <tr style=\"text-align: right;\">\n",
       "      <th></th>\n",
       "      <th>beg_bal</th>\n",
       "      <th>wac</th>\n",
       "      <th>wa_fico</th>\n",
       "      <th>wart</th>\n",
       "      <th>ending_balance</th>\n",
       "      <th>num_loans</th>\n",
       "      <th>total_prin_coll</th>\n",
       "      <th>total_int_coll</th>\n",
       "      <th>reserve_acct_bal</th>\n",
       "      <th>total_oc</th>\n",
       "      <th>...</th>\n",
       "      <th>Class A Notes_factor</th>\n",
       "      <th>Class B Notes_beg_bond_bal</th>\n",
       "      <th>Class B Notes_end_bond_bal</th>\n",
       "      <th>Class B Notes_factor</th>\n",
       "      <th>Class C Notes_beg_bond_bal</th>\n",
       "      <th>Class C Notes_end_bond_bal</th>\n",
       "      <th>Class C Notes_factor</th>\n",
       "      <th>Class D Notes_beg_bond_bal</th>\n",
       "      <th>Class D Notes_end_bond_bal</th>\n",
       "      <th>Class D Notes_factor</th>\n",
       "    </tr>\n",
       "  </thead>\n",
       "  <tbody>\n",
       "    <tr>\n",
       "      <th>2019-10-15</th>\n",
       "      <td>9.473742e+08</td>\n",
       "      <td>26.9000</td>\n",
       "      <td>629.00</td>\n",
       "      <td>47.000000</td>\n",
       "      <td>9.474302e+08</td>\n",
       "      <td>126478.0</td>\n",
       "      <td>21238282.59</td>\n",
       "      <td>20422691.08</td>\n",
       "      <td>4500000</td>\n",
       "      <td>47430162.18</td>\n",
       "      <td>...</td>\n",
       "      <td>1</td>\n",
       "      <td>91420000</td>\n",
       "      <td>91420000</td>\n",
       "      <td>1</td>\n",
       "      <td>59210000</td>\n",
       "      <td>59210000</td>\n",
       "      <td>1</td>\n",
       "      <td>98050000</td>\n",
       "      <td>98050000</td>\n",
       "      <td>1</td>\n",
       "    </tr>\n",
       "    <tr>\n",
       "      <th>2019-11-14</th>\n",
       "      <td>9.474302e+08</td>\n",
       "      <td>26.8690</td>\n",
       "      <td>628.73</td>\n",
       "      <td>47.143849</td>\n",
       "      <td>9.474250e+08</td>\n",
       "      <td>125787.0</td>\n",
       "      <td>23244260.58</td>\n",
       "      <td>20285276.13</td>\n",
       "      <td>4500000</td>\n",
       "      <td>47424989.11</td>\n",
       "      <td>...</td>\n",
       "      <td>1</td>\n",
       "      <td>91420000</td>\n",
       "      <td>91420000</td>\n",
       "      <td>1</td>\n",
       "      <td>59210000</td>\n",
       "      <td>59210000</td>\n",
       "      <td>1</td>\n",
       "      <td>98050000</td>\n",
       "      <td>98050000</td>\n",
       "      <td>1</td>\n",
       "    </tr>\n",
       "    <tr>\n",
       "      <th>2019-12-16</th>\n",
       "      <td>9.474250e+08</td>\n",
       "      <td>26.8148</td>\n",
       "      <td>628.49</td>\n",
       "      <td>47.091538</td>\n",
       "      <td>9.474261e+08</td>\n",
       "      <td>124616.0</td>\n",
       "      <td>21917157.92</td>\n",
       "      <td>20819435.76</td>\n",
       "      <td>4500000</td>\n",
       "      <td>47426092.06</td>\n",
       "      <td>...</td>\n",
       "      <td>1</td>\n",
       "      <td>91420000</td>\n",
       "      <td>91420000</td>\n",
       "      <td>1</td>\n",
       "      <td>59210000</td>\n",
       "      <td>59210000</td>\n",
       "      <td>1</td>\n",
       "      <td>98050000</td>\n",
       "      <td>98050000</td>\n",
       "      <td>1</td>\n",
       "    </tr>\n",
       "    <tr>\n",
       "      <th>2020-01-14</th>\n",
       "      <td>9.474261e+08</td>\n",
       "      <td>26.7715</td>\n",
       "      <td>628.29</td>\n",
       "      <td>46.898766</td>\n",
       "      <td>9.474281e+08</td>\n",
       "      <td>124101.0</td>\n",
       "      <td>21558623.72</td>\n",
       "      <td>19454255.41</td>\n",
       "      <td>4500000</td>\n",
       "      <td>47428054.87</td>\n",
       "      <td>...</td>\n",
       "      <td>1</td>\n",
       "      <td>91420000</td>\n",
       "      <td>91420000</td>\n",
       "      <td>1</td>\n",
       "      <td>59210000</td>\n",
       "      <td>59210000</td>\n",
       "      <td>1</td>\n",
       "      <td>98050000</td>\n",
       "      <td>98050000</td>\n",
       "      <td>1</td>\n",
       "    </tr>\n",
       "    <tr>\n",
       "      <th>2020-02-14</th>\n",
       "      <td>9.474281e+08</td>\n",
       "      <td>26.7108</td>\n",
       "      <td>628.09</td>\n",
       "      <td>46.575797</td>\n",
       "      <td>9.474294e+08</td>\n",
       "      <td>123814.0</td>\n",
       "      <td>22119150.17</td>\n",
       "      <td>21098722.08</td>\n",
       "      <td>4500000</td>\n",
       "      <td>47429412.48</td>\n",
       "      <td>...</td>\n",
       "      <td>1</td>\n",
       "      <td>91420000</td>\n",
       "      <td>91420000</td>\n",
       "      <td>1</td>\n",
       "      <td>59210000</td>\n",
       "      <td>59210000</td>\n",
       "      <td>1</td>\n",
       "      <td>98050000</td>\n",
       "      <td>98050000</td>\n",
       "      <td>1</td>\n",
       "    </tr>\n",
       "    <tr>\n",
       "      <th>2020-03-16</th>\n",
       "      <td>9.474294e+08</td>\n",
       "      <td>26.6160</td>\n",
       "      <td>627.89</td>\n",
       "      <td>46.255265</td>\n",
       "      <td>9.474349e+08</td>\n",
       "      <td>123437.0</td>\n",
       "      <td>23210406.20</td>\n",
       "      <td>20099411.73</td>\n",
       "      <td>4500000</td>\n",
       "      <td>47434890.57</td>\n",
       "      <td>...</td>\n",
       "      <td>1</td>\n",
       "      <td>91420000</td>\n",
       "      <td>91420000</td>\n",
       "      <td>1</td>\n",
       "      <td>59210000</td>\n",
       "      <td>59210000</td>\n",
       "      <td>1</td>\n",
       "      <td>98050000</td>\n",
       "      <td>98050000</td>\n",
       "      <td>1</td>\n",
       "    </tr>\n",
       "    <tr>\n",
       "      <th>2020-04-14</th>\n",
       "      <td>9.474349e+08</td>\n",
       "      <td>26.5487</td>\n",
       "      <td>627.77</td>\n",
       "      <td>45.885982</td>\n",
       "      <td>9.474282e+08</td>\n",
       "      <td>123667.0</td>\n",
       "      <td>23284459.01</td>\n",
       "      <td>18897837.31</td>\n",
       "      <td>4500000</td>\n",
       "      <td>47428211.70</td>\n",
       "      <td>...</td>\n",
       "      <td>1</td>\n",
       "      <td>91420000</td>\n",
       "      <td>91420000</td>\n",
       "      <td>1</td>\n",
       "      <td>59210000</td>\n",
       "      <td>59210000</td>\n",
       "      <td>1</td>\n",
       "      <td>98050000</td>\n",
       "      <td>98050000</td>\n",
       "      <td>1</td>\n",
       "    </tr>\n",
       "    <tr>\n",
       "      <th>2020-05-14</th>\n",
       "      <td>9.474282e+08</td>\n",
       "      <td>26.1735</td>\n",
       "      <td>627.50</td>\n",
       "      <td>45.929313</td>\n",
       "      <td>9.947993e+08</td>\n",
       "      <td>128450.0</td>\n",
       "      <td>22080028.05</td>\n",
       "      <td>19344946.61</td>\n",
       "      <td>4500000</td>\n",
       "      <td>94799319.07</td>\n",
       "      <td>...</td>\n",
       "      <td>1</td>\n",
       "      <td>91420000</td>\n",
       "      <td>91420000</td>\n",
       "      <td>1</td>\n",
       "      <td>59210000</td>\n",
       "      <td>59210000</td>\n",
       "      <td>1</td>\n",
       "      <td>98050000</td>\n",
       "      <td>98050000</td>\n",
       "      <td>1</td>\n",
       "    </tr>\n",
       "    <tr>\n",
       "      <th>2020-06-15</th>\n",
       "      <td>9.947993e+08</td>\n",
       "      <td>25.9223</td>\n",
       "      <td>627.48</td>\n",
       "      <td>45.504034</td>\n",
       "      <td>9.947980e+08</td>\n",
       "      <td>128628.0</td>\n",
       "      <td>25669886.34</td>\n",
       "      <td>20537830.07</td>\n",
       "      <td>4500000</td>\n",
       "      <td>94798041.17</td>\n",
       "      <td>...</td>\n",
       "      <td>1</td>\n",
       "      <td>91420000</td>\n",
       "      <td>91420000</td>\n",
       "      <td>1</td>\n",
       "      <td>59210000</td>\n",
       "      <td>59210000</td>\n",
       "      <td>1</td>\n",
       "      <td>98050000</td>\n",
       "      <td>98050000</td>\n",
       "      <td>1</td>\n",
       "    </tr>\n",
       "    <tr>\n",
       "      <th>2020-07-14</th>\n",
       "      <td>9.947980e+08</td>\n",
       "      <td>26.0488</td>\n",
       "      <td>627.68</td>\n",
       "      <td>45.133056</td>\n",
       "      <td>9.947959e+08</td>\n",
       "      <td>128909.0</td>\n",
       "      <td>27359920.41</td>\n",
       "      <td>20736804.90</td>\n",
       "      <td>4500000</td>\n",
       "      <td>94795894.36</td>\n",
       "      <td>...</td>\n",
       "      <td>1</td>\n",
       "      <td>91420000</td>\n",
       "      <td>91420000</td>\n",
       "      <td>1</td>\n",
       "      <td>59210000</td>\n",
       "      <td>59210000</td>\n",
       "      <td>1</td>\n",
       "      <td>98050000</td>\n",
       "      <td>98050000</td>\n",
       "      <td>1</td>\n",
       "    </tr>\n",
       "    <tr>\n",
       "      <th>2020-08-14</th>\n",
       "      <td>9.947959e+08</td>\n",
       "      <td>26.1969</td>\n",
       "      <td>627.91</td>\n",
       "      <td>44.764131</td>\n",
       "      <td>9.947945e+08</td>\n",
       "      <td>129133.0</td>\n",
       "      <td>27935604.56</td>\n",
       "      <td>21354872.76</td>\n",
       "      <td>4500000</td>\n",
       "      <td>94794517.85</td>\n",
       "      <td>...</td>\n",
       "      <td>1</td>\n",
       "      <td>91420000</td>\n",
       "      <td>91420000</td>\n",
       "      <td>1</td>\n",
       "      <td>59210000</td>\n",
       "      <td>59210000</td>\n",
       "      <td>1</td>\n",
       "      <td>98050000</td>\n",
       "      <td>98050000</td>\n",
       "      <td>1</td>\n",
       "    </tr>\n",
       "    <tr>\n",
       "      <th>2020-09-14</th>\n",
       "      <td>9.947945e+08</td>\n",
       "      <td>26.1979</td>\n",
       "      <td>628.16</td>\n",
       "      <td>44.440793</td>\n",
       "      <td>9.947987e+08</td>\n",
       "      <td>129340.0</td>\n",
       "      <td>26493420.75</td>\n",
       "      <td>20795942.78</td>\n",
       "      <td>4500000</td>\n",
       "      <td>94798725.69</td>\n",
       "      <td>...</td>\n",
       "      <td>1</td>\n",
       "      <td>91420000</td>\n",
       "      <td>91420000</td>\n",
       "      <td>1</td>\n",
       "      <td>59210000</td>\n",
       "      <td>59210000</td>\n",
       "      <td>1</td>\n",
       "      <td>98050000</td>\n",
       "      <td>98050000</td>\n",
       "      <td>1</td>\n",
       "    </tr>\n",
       "    <tr>\n",
       "      <th>2020-10-14</th>\n",
       "      <td>9.947987e+08</td>\n",
       "      <td>26.1589</td>\n",
       "      <td>628.38</td>\n",
       "      <td>44.206667</td>\n",
       "      <td>9.947937e+08</td>\n",
       "      <td>129238.0</td>\n",
       "      <td>26708516.82</td>\n",
       "      <td>20836664.06</td>\n",
       "      <td>4500000</td>\n",
       "      <td>94793667.06</td>\n",
       "      <td>...</td>\n",
       "      <td>1</td>\n",
       "      <td>91420000</td>\n",
       "      <td>91420000</td>\n",
       "      <td>1</td>\n",
       "      <td>59210000</td>\n",
       "      <td>59210000</td>\n",
       "      <td>1</td>\n",
       "      <td>98050000</td>\n",
       "      <td>98050000</td>\n",
       "      <td>1</td>\n",
       "    </tr>\n",
       "    <tr>\n",
       "      <th>2020-11-16</th>\n",
       "      <td>9.947937e+08</td>\n",
       "      <td>26.1047</td>\n",
       "      <td>628.65</td>\n",
       "      <td>43.944103</td>\n",
       "      <td>9.947953e+08</td>\n",
       "      <td>129296.0</td>\n",
       "      <td>28318981.73</td>\n",
       "      <td>21248037.36</td>\n",
       "      <td>4500000</td>\n",
       "      <td>94795264.23</td>\n",
       "      <td>...</td>\n",
       "      <td>1</td>\n",
       "      <td>91420000</td>\n",
       "      <td>91420000</td>\n",
       "      <td>1</td>\n",
       "      <td>59210000</td>\n",
       "      <td>59210000</td>\n",
       "      <td>1</td>\n",
       "      <td>98050000</td>\n",
       "      <td>98050000</td>\n",
       "      <td>1</td>\n",
       "    </tr>\n",
       "    <tr>\n",
       "      <th>2020-12-14</th>\n",
       "      <td>9.947953e+08</td>\n",
       "      <td>26.0755</td>\n",
       "      <td>628.91</td>\n",
       "      <td>43.874407</td>\n",
       "      <td>9.947945e+08</td>\n",
       "      <td>128761.0</td>\n",
       "      <td>25001964.92</td>\n",
       "      <td>20387940.33</td>\n",
       "      <td>4500000</td>\n",
       "      <td>94794532.32</td>\n",
       "      <td>...</td>\n",
       "      <td>1</td>\n",
       "      <td>91420000</td>\n",
       "      <td>91420000</td>\n",
       "      <td>1</td>\n",
       "      <td>59210000</td>\n",
       "      <td>59210000</td>\n",
       "      <td>1</td>\n",
       "      <td>98050000</td>\n",
       "      <td>98050000</td>\n",
       "      <td>1</td>\n",
       "    </tr>\n",
       "    <tr>\n",
       "      <th>2021-01-14</th>\n",
       "      <td>9.947945e+08</td>\n",
       "      <td>26.0177</td>\n",
       "      <td>629.16</td>\n",
       "      <td>43.755606</td>\n",
       "      <td>9.947949e+08</td>\n",
       "      <td>128457.0</td>\n",
       "      <td>26469674.72</td>\n",
       "      <td>20256004.36</td>\n",
       "      <td>4500000</td>\n",
       "      <td>94794863.29</td>\n",
       "      <td>...</td>\n",
       "      <td>1</td>\n",
       "      <td>91420000</td>\n",
       "      <td>91420000</td>\n",
       "      <td>1</td>\n",
       "      <td>59210000</td>\n",
       "      <td>59210000</td>\n",
       "      <td>1</td>\n",
       "      <td>98050000</td>\n",
       "      <td>98050000</td>\n",
       "      <td>1</td>\n",
       "    </tr>\n",
       "    <tr>\n",
       "      <th>2021-02-16</th>\n",
       "      <td>9.947949e+08</td>\n",
       "      <td>25.9706</td>\n",
       "      <td>629.27</td>\n",
       "      <td>43.349367</td>\n",
       "      <td>9.947982e+08</td>\n",
       "      <td>128963.0</td>\n",
       "      <td>27236539.61</td>\n",
       "      <td>21567725.84</td>\n",
       "      <td>4500000</td>\n",
       "      <td>94798179.24</td>\n",
       "      <td>...</td>\n",
       "      <td>1</td>\n",
       "      <td>91420000</td>\n",
       "      <td>91420000</td>\n",
       "      <td>1</td>\n",
       "      <td>59210000</td>\n",
       "      <td>59210000</td>\n",
       "      <td>1</td>\n",
       "      <td>98050000</td>\n",
       "      <td>98050000</td>\n",
       "      <td>1</td>\n",
       "    </tr>\n",
       "    <tr>\n",
       "      <th>2021-03-15</th>\n",
       "      <td>9.947982e+08</td>\n",
       "      <td>25.9281</td>\n",
       "      <td>629.47</td>\n",
       "      <td>43.151208</td>\n",
       "      <td>9.947971e+08</td>\n",
       "      <td>128681.0</td>\n",
       "      <td>28083461.70</td>\n",
       "      <td>20517323.57</td>\n",
       "      <td>4500000</td>\n",
       "      <td>94797072.21</td>\n",
       "      <td>...</td>\n",
       "      <td>1</td>\n",
       "      <td>91420000</td>\n",
       "      <td>91420000</td>\n",
       "      <td>1</td>\n",
       "      <td>59210000</td>\n",
       "      <td>59210000</td>\n",
       "      <td>1</td>\n",
       "      <td>98050000</td>\n",
       "      <td>98050000</td>\n",
       "      <td>1</td>\n",
       "    </tr>\n",
       "    <tr>\n",
       "      <th>2021-04-14</th>\n",
       "      <td>9.947971e+08</td>\n",
       "      <td>25.8603</td>\n",
       "      <td>629.76</td>\n",
       "      <td>43.072368</td>\n",
       "      <td>9.947933e+08</td>\n",
       "      <td>128054.0</td>\n",
       "      <td>37306773.37</td>\n",
       "      <td>20350238.78</td>\n",
       "      <td>4500000</td>\n",
       "      <td>94793302.61</td>\n",
       "      <td>...</td>\n",
       "      <td>1</td>\n",
       "      <td>91420000</td>\n",
       "      <td>91420000</td>\n",
       "      <td>1</td>\n",
       "      <td>59210000</td>\n",
       "      <td>59210000</td>\n",
       "      <td>1</td>\n",
       "      <td>98050000</td>\n",
       "      <td>98050000</td>\n",
       "      <td>1</td>\n",
       "    </tr>\n",
       "    <tr>\n",
       "      <th>2021-05-14</th>\n",
       "      <td>9.947933e+08</td>\n",
       "      <td>25.8176</td>\n",
       "      <td>630.03</td>\n",
       "      <td>42.799217</td>\n",
       "      <td>9.948020e+08</td>\n",
       "      <td>128095.0</td>\n",
       "      <td>34367389.87</td>\n",
       "      <td>21359310.37</td>\n",
       "      <td>4500000</td>\n",
       "      <td>94802016.83</td>\n",
       "      <td>...</td>\n",
       "      <td>1</td>\n",
       "      <td>91420000</td>\n",
       "      <td>91420000</td>\n",
       "      <td>1</td>\n",
       "      <td>59210000</td>\n",
       "      <td>59210000</td>\n",
       "      <td>1</td>\n",
       "      <td>98050000</td>\n",
       "      <td>98050000</td>\n",
       "      <td>1</td>\n",
       "    </tr>\n",
       "    <tr>\n",
       "      <th>2021-06-14</th>\n",
       "      <td>9.948020e+08</td>\n",
       "      <td>25.8081</td>\n",
       "      <td>630.25</td>\n",
       "      <td>42.673172</td>\n",
       "      <td>9.948018e+08</td>\n",
       "      <td>128165.0</td>\n",
       "      <td>31231834.70</td>\n",
       "      <td>20157097.64</td>\n",
       "      <td>4500000</td>\n",
       "      <td>94801800.76</td>\n",
       "      <td>...</td>\n",
       "      <td>1</td>\n",
       "      <td>91420000</td>\n",
       "      <td>91420000</td>\n",
       "      <td>1</td>\n",
       "      <td>59210000</td>\n",
       "      <td>59210000</td>\n",
       "      <td>1</td>\n",
       "      <td>98050000</td>\n",
       "      <td>98050000</td>\n",
       "      <td>1</td>\n",
       "    </tr>\n",
       "    <tr>\n",
       "      <th>2021-07-14</th>\n",
       "      <td>9.948018e+08</td>\n",
       "      <td>25.8100</td>\n",
       "      <td>630.48</td>\n",
       "      <td>42.580006</td>\n",
       "      <td>9.947966e+08</td>\n",
       "      <td>128169.0</td>\n",
       "      <td>32765044.99</td>\n",
       "      <td>20621009.95</td>\n",
       "      <td>4500000</td>\n",
       "      <td>94796646.93</td>\n",
       "      <td>...</td>\n",
       "      <td>1</td>\n",
       "      <td>91420000</td>\n",
       "      <td>91420000</td>\n",
       "      <td>1</td>\n",
       "      <td>59210000</td>\n",
       "      <td>59210000</td>\n",
       "      <td>1</td>\n",
       "      <td>98050000</td>\n",
       "      <td>98050000</td>\n",
       "      <td>1</td>\n",
       "    </tr>\n",
       "    <tr>\n",
       "      <th>2021-08-16</th>\n",
       "      <td>9.947966e+08</td>\n",
       "      <td>25.8200</td>\n",
       "      <td>630.63</td>\n",
       "      <td>42.380000</td>\n",
       "      <td>9.947950e+08</td>\n",
       "      <td>128184.0</td>\n",
       "      <td>33600079.45</td>\n",
       "      <td>21118880.31</td>\n",
       "      <td>4500000</td>\n",
       "      <td>94795015.65</td>\n",
       "      <td>...</td>\n",
       "      <td>1</td>\n",
       "      <td>91420000</td>\n",
       "      <td>91420000</td>\n",
       "      <td>1</td>\n",
       "      <td>59210000</td>\n",
       "      <td>59210000</td>\n",
       "      <td>1</td>\n",
       "      <td>98050000</td>\n",
       "      <td>98050000</td>\n",
       "      <td>1</td>\n",
       "    </tr>\n",
       "    <tr>\n",
       "      <th>2021-09-14</th>\n",
       "      <td>9.947950e+08</td>\n",
       "      <td>25.8189</td>\n",
       "      <td>630.74</td>\n",
       "      <td>42.406457</td>\n",
       "      <td>9.947952e+08</td>\n",
       "      <td>128201.0</td>\n",
       "      <td>33431720.51</td>\n",
       "      <td>20597123.62</td>\n",
       "      <td>4500000</td>\n",
       "      <td>94795231.51</td>\n",
       "      <td>...</td>\n",
       "      <td>1</td>\n",
       "      <td>91420000</td>\n",
       "      <td>91420000</td>\n",
       "      <td>1</td>\n",
       "      <td>59210000</td>\n",
       "      <td>59210000</td>\n",
       "      <td>1</td>\n",
       "      <td>98050000</td>\n",
       "      <td>98050000</td>\n",
       "      <td>1</td>\n",
       "    </tr>\n",
       "    <tr>\n",
       "      <th>2021-10-14</th>\n",
       "      <td>9.947952e+08</td>\n",
       "      <td>25.8295</td>\n",
       "      <td>630.80</td>\n",
       "      <td>42.318299</td>\n",
       "      <td>9.947944e+08</td>\n",
       "      <td>128242.0</td>\n",
       "      <td>32704352.37</td>\n",
       "      <td>20711243.90</td>\n",
       "      <td>4500000</td>\n",
       "      <td>94794356.60</td>\n",
       "      <td>...</td>\n",
       "      <td>1</td>\n",
       "      <td>91420000</td>\n",
       "      <td>91420000</td>\n",
       "      <td>1</td>\n",
       "      <td>59210000</td>\n",
       "      <td>59210000</td>\n",
       "      <td>1</td>\n",
       "      <td>98050000</td>\n",
       "      <td>98050000</td>\n",
       "      <td>1</td>\n",
       "    </tr>\n",
       "    <tr>\n",
       "      <th>2021-11-15</th>\n",
       "      <td>9.947944e+08</td>\n",
       "      <td>25.7901</td>\n",
       "      <td>630.74</td>\n",
       "      <td>42.343255</td>\n",
       "      <td>9.948046e+08</td>\n",
       "      <td>128071.0</td>\n",
       "      <td>34138016.97</td>\n",
       "      <td>20850529.37</td>\n",
       "      <td>4500000</td>\n",
       "      <td>94804618.45</td>\n",
       "      <td>...</td>\n",
       "      <td>1</td>\n",
       "      <td>91420000</td>\n",
       "      <td>91420000</td>\n",
       "      <td>1</td>\n",
       "      <td>59210000</td>\n",
       "      <td>59210000</td>\n",
       "      <td>1</td>\n",
       "      <td>98050000</td>\n",
       "      <td>98050000</td>\n",
       "      <td>1</td>\n",
       "    </tr>\n",
       "    <tr>\n",
       "      <th>2021-12-14</th>\n",
       "      <td>9.948046e+08</td>\n",
       "      <td>25.7484</td>\n",
       "      <td>630.80</td>\n",
       "      <td>42.489710</td>\n",
       "      <td>9.948025e+08</td>\n",
       "      <td>127560.0</td>\n",
       "      <td>32114687.16</td>\n",
       "      <td>20277600.20</td>\n",
       "      <td>4500000</td>\n",
       "      <td>94802478.45</td>\n",
       "      <td>...</td>\n",
       "      <td>1</td>\n",
       "      <td>91420000</td>\n",
       "      <td>91420000</td>\n",
       "      <td>1</td>\n",
       "      <td>59210000</td>\n",
       "      <td>59210000</td>\n",
       "      <td>1</td>\n",
       "      <td>98050000</td>\n",
       "      <td>98050000</td>\n",
       "      <td>1</td>\n",
       "    </tr>\n",
       "    <tr>\n",
       "      <th>2022-01-14</th>\n",
       "      <td>9.948025e+08</td>\n",
       "      <td>25.7074</td>\n",
       "      <td>630.77</td>\n",
       "      <td>42.585680</td>\n",
       "      <td>9.947953e+08</td>\n",
       "      <td>127069.0</td>\n",
       "      <td>33243215.55</td>\n",
       "      <td>20480382.49</td>\n",
       "      <td>4500000</td>\n",
       "      <td>94795339.71</td>\n",
       "      <td>...</td>\n",
       "      <td>1</td>\n",
       "      <td>91420000</td>\n",
       "      <td>91420000</td>\n",
       "      <td>1</td>\n",
       "      <td>59210000</td>\n",
       "      <td>59210000</td>\n",
       "      <td>1</td>\n",
       "      <td>98050000</td>\n",
       "      <td>98050000</td>\n",
       "      <td>1</td>\n",
       "    </tr>\n",
       "    <tr>\n",
       "      <th>2022-02-14</th>\n",
       "      <td>9.947953e+08</td>\n",
       "      <td>25.7260</td>\n",
       "      <td>630.52</td>\n",
       "      <td>42.492300</td>\n",
       "      <td>9.948070e+08</td>\n",
       "      <td>127121.0</td>\n",
       "      <td>31647047.71</td>\n",
       "      <td>20540336.91</td>\n",
       "      <td>4500000</td>\n",
       "      <td>94807004.57</td>\n",
       "      <td>...</td>\n",
       "      <td>1</td>\n",
       "      <td>91420000</td>\n",
       "      <td>91420000</td>\n",
       "      <td>1</td>\n",
       "      <td>59210000</td>\n",
       "      <td>59210000</td>\n",
       "      <td>1</td>\n",
       "      <td>98050000</td>\n",
       "      <td>98050000</td>\n",
       "      <td>1</td>\n",
       "    </tr>\n",
       "    <tr>\n",
       "      <th>2022-03-14</th>\n",
       "      <td>9.948070e+08</td>\n",
       "      <td>25.7708</td>\n",
       "      <td>630.31</td>\n",
       "      <td>42.454711</td>\n",
       "      <td>9.947946e+08</td>\n",
       "      <td>127057.0</td>\n",
       "      <td>32416048.62</td>\n",
       "      <td>20342230.52</td>\n",
       "      <td>4500000</td>\n",
       "      <td>94794640.10</td>\n",
       "      <td>...</td>\n",
       "      <td>1</td>\n",
       "      <td>91420000</td>\n",
       "      <td>91420000</td>\n",
       "      <td>1</td>\n",
       "      <td>59210000</td>\n",
       "      <td>59210000</td>\n",
       "      <td>1</td>\n",
       "      <td>98050000</td>\n",
       "      <td>98050000</td>\n",
       "      <td>1</td>\n",
       "    </tr>\n",
       "    <tr>\n",
       "      <th>2022-04-14</th>\n",
       "      <td>9.947946e+08</td>\n",
       "      <td>25.7879</td>\n",
       "      <td>630.12</td>\n",
       "      <td>42.556154</td>\n",
       "      <td>9.948007e+08</td>\n",
       "      <td>126767.0</td>\n",
       "      <td>37656229.72</td>\n",
       "      <td>19818286.83</td>\n",
       "      <td>4500000</td>\n",
       "      <td>94800702.76</td>\n",
       "      <td>...</td>\n",
       "      <td>1</td>\n",
       "      <td>91420000</td>\n",
       "      <td>91420000</td>\n",
       "      <td>1</td>\n",
       "      <td>59210000</td>\n",
       "      <td>59210000</td>\n",
       "      <td>1</td>\n",
       "      <td>98050000</td>\n",
       "      <td>98050000</td>\n",
       "      <td>1</td>\n",
       "    </tr>\n",
       "    <tr>\n",
       "      <th>2022-05-16</th>\n",
       "      <td>9.948007e+08</td>\n",
       "      <td>25.7992</td>\n",
       "      <td>630.03</td>\n",
       "      <td>42.584987</td>\n",
       "      <td>9.947972e+08</td>\n",
       "      <td>126421.0</td>\n",
       "      <td>34346408.54</td>\n",
       "      <td>21056527.56</td>\n",
       "      <td>4500000</td>\n",
       "      <td>94797200.66</td>\n",
       "      <td>...</td>\n",
       "      <td>1</td>\n",
       "      <td>91420000</td>\n",
       "      <td>91420000</td>\n",
       "      <td>1</td>\n",
       "      <td>59210000</td>\n",
       "      <td>59210000</td>\n",
       "      <td>1</td>\n",
       "      <td>98050000</td>\n",
       "      <td>98050000</td>\n",
       "      <td>1</td>\n",
       "    </tr>\n",
       "    <tr>\n",
       "      <th>2022-06-14</th>\n",
       "      <td>9.947972e+08</td>\n",
       "      <td>25.8213</td>\n",
       "      <td>629.94</td>\n",
       "      <td>42.815324</td>\n",
       "      <td>9.947957e+08</td>\n",
       "      <td>125676.0</td>\n",
       "      <td>33036096.36</td>\n",
       "      <td>19927831.85</td>\n",
       "      <td>4500000</td>\n",
       "      <td>94795744.74</td>\n",
       "      <td>...</td>\n",
       "      <td>1</td>\n",
       "      <td>91420000</td>\n",
       "      <td>91420000</td>\n",
       "      <td>1</td>\n",
       "      <td>59210000</td>\n",
       "      <td>59210000</td>\n",
       "      <td>1</td>\n",
       "      <td>98050000</td>\n",
       "      <td>98050000</td>\n",
       "      <td>1</td>\n",
       "    </tr>\n",
       "    <tr>\n",
       "      <th>2022-07-14</th>\n",
       "      <td>9.947957e+08</td>\n",
       "      <td>25.8277</td>\n",
       "      <td>629.75</td>\n",
       "      <td>42.966718</td>\n",
       "      <td>9.947965e+08</td>\n",
       "      <td>125002.0</td>\n",
       "      <td>32534834.17</td>\n",
       "      <td>20418154.72</td>\n",
       "      <td>4500000</td>\n",
       "      <td>94796456.72</td>\n",
       "      <td>...</td>\n",
       "      <td>1</td>\n",
       "      <td>91420000</td>\n",
       "      <td>91420000</td>\n",
       "      <td>1</td>\n",
       "      <td>59210000</td>\n",
       "      <td>59210000</td>\n",
       "      <td>1</td>\n",
       "      <td>98050000</td>\n",
       "      <td>98050000</td>\n",
       "      <td>1</td>\n",
       "    </tr>\n",
       "    <tr>\n",
       "      <th>2022-08-15</th>\n",
       "      <td>9.947965e+08</td>\n",
       "      <td>25.7978</td>\n",
       "      <td>629.58</td>\n",
       "      <td>43.056918</td>\n",
       "      <td>9.947966e+08</td>\n",
       "      <td>124678.0</td>\n",
       "      <td>31480802.47</td>\n",
       "      <td>20402653.00</td>\n",
       "      <td>4500000</td>\n",
       "      <td>94796609.14</td>\n",
       "      <td>...</td>\n",
       "      <td>1</td>\n",
       "      <td>91420000</td>\n",
       "      <td>91420000</td>\n",
       "      <td>1</td>\n",
       "      <td>59210000</td>\n",
       "      <td>59210000</td>\n",
       "      <td>1</td>\n",
       "      <td>98050000</td>\n",
       "      <td>98050000</td>\n",
       "      <td>1</td>\n",
       "    </tr>\n",
       "    <tr>\n",
       "      <th>2022-09-14</th>\n",
       "      <td>9.947966e+08</td>\n",
       "      <td>25.7549</td>\n",
       "      <td>629.62</td>\n",
       "      <td>43.110943</td>\n",
       "      <td>9.947931e+08</td>\n",
       "      <td>124626.0</td>\n",
       "      <td>31116780.63</td>\n",
       "      <td>20295612.15</td>\n",
       "      <td>4500000</td>\n",
       "      <td>94793066.86</td>\n",
       "      <td>...</td>\n",
       "      <td>1</td>\n",
       "      <td>91420000</td>\n",
       "      <td>91420000</td>\n",
       "      <td>1</td>\n",
       "      <td>59210000</td>\n",
       "      <td>59210000</td>\n",
       "      <td>1</td>\n",
       "      <td>98050000</td>\n",
       "      <td>98050000</td>\n",
       "      <td>1</td>\n",
       "    </tr>\n",
       "    <tr>\n",
       "      <th>2022-10-14</th>\n",
       "      <td>9.947931e+08</td>\n",
       "      <td>25.7325</td>\n",
       "      <td>629.58</td>\n",
       "      <td>43.181346</td>\n",
       "      <td>9.948057e+08</td>\n",
       "      <td>124261.0</td>\n",
       "      <td>29599895.91</td>\n",
       "      <td>20847598.70</td>\n",
       "      <td>4500000</td>\n",
       "      <td>94805676.87</td>\n",
       "      <td>...</td>\n",
       "      <td>1</td>\n",
       "      <td>91420000</td>\n",
       "      <td>91420000</td>\n",
       "      <td>1</td>\n",
       "      <td>59210000</td>\n",
       "      <td>59210000</td>\n",
       "      <td>1</td>\n",
       "      <td>98050000</td>\n",
       "      <td>98050000</td>\n",
       "      <td>1</td>\n",
       "    </tr>\n",
       "    <tr>\n",
       "      <th>2022-11-14</th>\n",
       "      <td>9.948057e+08</td>\n",
       "      <td>25.7233</td>\n",
       "      <td>629.56</td>\n",
       "      <td>43.184169</td>\n",
       "      <td>9.947982e+08</td>\n",
       "      <td>124249.0</td>\n",
       "      <td>28361859.57</td>\n",
       "      <td>19654684.63</td>\n",
       "      <td>4500000</td>\n",
       "      <td>94798150.73</td>\n",
       "      <td>...</td>\n",
       "      <td>1</td>\n",
       "      <td>91420000</td>\n",
       "      <td>91420000</td>\n",
       "      <td>1</td>\n",
       "      <td>59210000</td>\n",
       "      <td>59210000</td>\n",
       "      <td>1</td>\n",
       "      <td>98050000</td>\n",
       "      <td>98050000</td>\n",
       "      <td>1</td>\n",
       "    </tr>\n",
       "    <tr>\n",
       "      <th>2022-12-14</th>\n",
       "      <td>9.947982e+08</td>\n",
       "      <td>25.7064</td>\n",
       "      <td>629.51</td>\n",
       "      <td>43.402606</td>\n",
       "      <td>9.947944e+08</td>\n",
       "      <td>123309.0</td>\n",
       "      <td>26462350.56</td>\n",
       "      <td>19746127.43</td>\n",
       "      <td>4500000</td>\n",
       "      <td>94794354.58</td>\n",
       "      <td>...</td>\n",
       "      <td>1</td>\n",
       "      <td>91420000</td>\n",
       "      <td>91420000</td>\n",
       "      <td>1</td>\n",
       "      <td>59210000</td>\n",
       "      <td>59210000</td>\n",
       "      <td>1</td>\n",
       "      <td>98050000</td>\n",
       "      <td>98050000</td>\n",
       "      <td>1</td>\n",
       "    </tr>\n",
       "    <tr>\n",
       "      <th>2023-01-17</th>\n",
       "      <td>9.947944e+08</td>\n",
       "      <td>25.6736</td>\n",
       "      <td>629.38</td>\n",
       "      <td>43.469387</td>\n",
       "      <td>9.948061e+08</td>\n",
       "      <td>122764.0</td>\n",
       "      <td>26450311.27</td>\n",
       "      <td>20049261.45</td>\n",
       "      <td>4500000</td>\n",
       "      <td>94806084.50</td>\n",
       "      <td>...</td>\n",
       "      <td>1</td>\n",
       "      <td>91420000</td>\n",
       "      <td>91420000</td>\n",
       "      <td>1</td>\n",
       "      <td>59210000</td>\n",
       "      <td>59210000</td>\n",
       "      <td>1</td>\n",
       "      <td>98050000</td>\n",
       "      <td>98050000</td>\n",
       "      <td>1</td>\n",
       "    </tr>\n",
       "    <tr>\n",
       "      <th>2023-02-14</th>\n",
       "      <td>9.948061e+08</td>\n",
       "      <td>25.6625</td>\n",
       "      <td>629.21</td>\n",
       "      <td>43.358973</td>\n",
       "      <td>9.947998e+08</td>\n",
       "      <td>122753.0</td>\n",
       "      <td>26429794.60</td>\n",
       "      <td>20053690.31</td>\n",
       "      <td>4500000</td>\n",
       "      <td>94799751.98</td>\n",
       "      <td>...</td>\n",
       "      <td>1</td>\n",
       "      <td>91420000</td>\n",
       "      <td>91420000</td>\n",
       "      <td>1</td>\n",
       "      <td>59210000</td>\n",
       "      <td>59210000</td>\n",
       "      <td>1</td>\n",
       "      <td>98050000</td>\n",
       "      <td>98050000</td>\n",
       "      <td>1</td>\n",
       "    </tr>\n",
       "    <tr>\n",
       "      <th>2023-03-14</th>\n",
       "      <td>9.947998e+08</td>\n",
       "      <td>25.6463</td>\n",
       "      <td>629.05</td>\n",
       "      <td>43.251859</td>\n",
       "      <td>9.948076e+08</td>\n",
       "      <td>122727.0</td>\n",
       "      <td>27607339.30</td>\n",
       "      <td>19923295.48</td>\n",
       "      <td>4500000</td>\n",
       "      <td>94807619.68</td>\n",
       "      <td>...</td>\n",
       "      <td>1</td>\n",
       "      <td>91420000</td>\n",
       "      <td>91420000</td>\n",
       "      <td>1</td>\n",
       "      <td>59210000</td>\n",
       "      <td>59210000</td>\n",
       "      <td>1</td>\n",
       "      <td>98050000</td>\n",
       "      <td>98050000</td>\n",
       "      <td>1</td>\n",
       "    </tr>\n",
       "    <tr>\n",
       "      <th>2023-04-14</th>\n",
       "      <td>9.948076e+08</td>\n",
       "      <td>25.6240</td>\n",
       "      <td>628.89</td>\n",
       "      <td>43.242493</td>\n",
       "      <td>9.947951e+08</td>\n",
       "      <td>122673.0</td>\n",
       "      <td>31176832.59</td>\n",
       "      <td>19974362.56</td>\n",
       "      <td>4500000</td>\n",
       "      <td>94795054.63</td>\n",
       "      <td>...</td>\n",
       "      <td>1</td>\n",
       "      <td>91420000</td>\n",
       "      <td>91420000</td>\n",
       "      <td>1</td>\n",
       "      <td>59210000</td>\n",
       "      <td>59210000</td>\n",
       "      <td>1</td>\n",
       "      <td>98050000</td>\n",
       "      <td>98050000</td>\n",
       "      <td>1</td>\n",
       "    </tr>\n",
       "    <tr>\n",
       "      <th>2023-05-15</th>\n",
       "      <td>9.947951e+08</td>\n",
       "      <td>25.5940</td>\n",
       "      <td>628.83</td>\n",
       "      <td>43.240201</td>\n",
       "      <td>9.947932e+08</td>\n",
       "      <td>122483.0</td>\n",
       "      <td>27130118.44</td>\n",
       "      <td>19749649.67</td>\n",
       "      <td>4500000</td>\n",
       "      <td>94793213.54</td>\n",
       "      <td>...</td>\n",
       "      <td>1</td>\n",
       "      <td>91420000</td>\n",
       "      <td>91420000</td>\n",
       "      <td>1</td>\n",
       "      <td>59210000</td>\n",
       "      <td>59210000</td>\n",
       "      <td>1</td>\n",
       "      <td>98050000</td>\n",
       "      <td>98050000</td>\n",
       "      <td>1</td>\n",
       "    </tr>\n",
       "    <tr>\n",
       "      <th>2023-06-14</th>\n",
       "      <td>9.947932e+08</td>\n",
       "      <td>25.5811</td>\n",
       "      <td>628.82</td>\n",
       "      <td>43.312221</td>\n",
       "      <td>9.948000e+08</td>\n",
       "      <td>122243.0</td>\n",
       "      <td>27483533.78</td>\n",
       "      <td>19502043.94</td>\n",
       "      <td>4500000</td>\n",
       "      <td>94799953.10</td>\n",
       "      <td>...</td>\n",
       "      <td>1</td>\n",
       "      <td>91420000</td>\n",
       "      <td>91420000</td>\n",
       "      <td>1</td>\n",
       "      <td>59210000</td>\n",
       "      <td>59210000</td>\n",
       "      <td>1</td>\n",
       "      <td>98050000</td>\n",
       "      <td>98050000</td>\n",
       "      <td>1</td>\n",
       "    </tr>\n",
       "    <tr>\n",
       "      <th>2023-07-14</th>\n",
       "      <td>9.948000e+08</td>\n",
       "      <td>25.5660</td>\n",
       "      <td>628.59</td>\n",
       "      <td>43.319593</td>\n",
       "      <td>9.947929e+08</td>\n",
       "      <td>122038.0</td>\n",
       "      <td>27178808.01</td>\n",
       "      <td>20525575.77</td>\n",
       "      <td>4500000</td>\n",
       "      <td>94792900.24</td>\n",
       "      <td>...</td>\n",
       "      <td>1</td>\n",
       "      <td>91420000</td>\n",
       "      <td>91420000</td>\n",
       "      <td>1</td>\n",
       "      <td>59210000</td>\n",
       "      <td>59210000</td>\n",
       "      <td>1</td>\n",
       "      <td>98050000</td>\n",
       "      <td>98050000</td>\n",
       "      <td>1</td>\n",
       "    </tr>\n",
       "    <tr>\n",
       "      <th>2023-08-14</th>\n",
       "      <td>9.947929e+08</td>\n",
       "      <td>25.5841</td>\n",
       "      <td>628.43</td>\n",
       "      <td>43.310952</td>\n",
       "      <td>9.947953e+08</td>\n",
       "      <td>122022.0</td>\n",
       "      <td>26199383.43</td>\n",
       "      <td>19282482.82</td>\n",
       "      <td>4500000</td>\n",
       "      <td>94795293.07</td>\n",
       "      <td>...</td>\n",
       "      <td>1</td>\n",
       "      <td>91420000</td>\n",
       "      <td>91420000</td>\n",
       "      <td>1</td>\n",
       "      <td>59210000</td>\n",
       "      <td>59210000</td>\n",
       "      <td>1</td>\n",
       "      <td>98050000</td>\n",
       "      <td>98050000</td>\n",
       "      <td>1</td>\n",
       "    </tr>\n",
       "    <tr>\n",
       "      <th>2023-09-14</th>\n",
       "      <td>9.947953e+08</td>\n",
       "      <td>25.6036</td>\n",
       "      <td>628.58</td>\n",
       "      <td>43.333592</td>\n",
       "      <td>9.947939e+08</td>\n",
       "      <td>122137.0</td>\n",
       "      <td>26545517.40</td>\n",
       "      <td>19821223.38</td>\n",
       "      <td>4500000</td>\n",
       "      <td>94793912.04</td>\n",
       "      <td>...</td>\n",
       "      <td>1</td>\n",
       "      <td>91420000</td>\n",
       "      <td>91420000</td>\n",
       "      <td>1</td>\n",
       "      <td>59210000</td>\n",
       "      <td>59210000</td>\n",
       "      <td>1</td>\n",
       "      <td>98050000</td>\n",
       "      <td>98050000</td>\n",
       "      <td>1</td>\n",
       "    </tr>\n",
       "    <tr>\n",
       "      <th>2023-10-16</th>\n",
       "      <td>9.947939e+08</td>\n",
       "      <td>25.6049</td>\n",
       "      <td>628.87</td>\n",
       "      <td>43.278203</td>\n",
       "      <td>9.947976e+08</td>\n",
       "      <td>122637.0</td>\n",
       "      <td>25971418.23</td>\n",
       "      <td>20232194.16</td>\n",
       "      <td>4500000</td>\n",
       "      <td>94797589.59</td>\n",
       "      <td>...</td>\n",
       "      <td>1</td>\n",
       "      <td>91420000</td>\n",
       "      <td>91420000</td>\n",
       "      <td>1</td>\n",
       "      <td>59210000</td>\n",
       "      <td>59210000</td>\n",
       "      <td>1</td>\n",
       "      <td>98050000</td>\n",
       "      <td>98050000</td>\n",
       "      <td>1</td>\n",
       "    </tr>\n",
       "  </tbody>\n",
       "</table>\n",
       "<p>49 rows × 24 columns</p>\n",
       "</div>"
      ],
      "text/plain": [
       "                 beg_bal      wac  wa_fico       wart  ending_balance  \\\n",
       "2019-10-15  9.473742e+08  26.9000   629.00  47.000000    9.474302e+08   \n",
       "2019-11-14  9.474302e+08  26.8690   628.73  47.143849    9.474250e+08   \n",
       "2019-12-16  9.474250e+08  26.8148   628.49  47.091538    9.474261e+08   \n",
       "2020-01-14  9.474261e+08  26.7715   628.29  46.898766    9.474281e+08   \n",
       "2020-02-14  9.474281e+08  26.7108   628.09  46.575797    9.474294e+08   \n",
       "2020-03-16  9.474294e+08  26.6160   627.89  46.255265    9.474349e+08   \n",
       "2020-04-14  9.474349e+08  26.5487   627.77  45.885982    9.474282e+08   \n",
       "2020-05-14  9.474282e+08  26.1735   627.50  45.929313    9.947993e+08   \n",
       "2020-06-15  9.947993e+08  25.9223   627.48  45.504034    9.947980e+08   \n",
       "2020-07-14  9.947980e+08  26.0488   627.68  45.133056    9.947959e+08   \n",
       "2020-08-14  9.947959e+08  26.1969   627.91  44.764131    9.947945e+08   \n",
       "2020-09-14  9.947945e+08  26.1979   628.16  44.440793    9.947987e+08   \n",
       "2020-10-14  9.947987e+08  26.1589   628.38  44.206667    9.947937e+08   \n",
       "2020-11-16  9.947937e+08  26.1047   628.65  43.944103    9.947953e+08   \n",
       "2020-12-14  9.947953e+08  26.0755   628.91  43.874407    9.947945e+08   \n",
       "2021-01-14  9.947945e+08  26.0177   629.16  43.755606    9.947949e+08   \n",
       "2021-02-16  9.947949e+08  25.9706   629.27  43.349367    9.947982e+08   \n",
       "2021-03-15  9.947982e+08  25.9281   629.47  43.151208    9.947971e+08   \n",
       "2021-04-14  9.947971e+08  25.8603   629.76  43.072368    9.947933e+08   \n",
       "2021-05-14  9.947933e+08  25.8176   630.03  42.799217    9.948020e+08   \n",
       "2021-06-14  9.948020e+08  25.8081   630.25  42.673172    9.948018e+08   \n",
       "2021-07-14  9.948018e+08  25.8100   630.48  42.580006    9.947966e+08   \n",
       "2021-08-16  9.947966e+08  25.8200   630.63  42.380000    9.947950e+08   \n",
       "2021-09-14  9.947950e+08  25.8189   630.74  42.406457    9.947952e+08   \n",
       "2021-10-14  9.947952e+08  25.8295   630.80  42.318299    9.947944e+08   \n",
       "2021-11-15  9.947944e+08  25.7901   630.74  42.343255    9.948046e+08   \n",
       "2021-12-14  9.948046e+08  25.7484   630.80  42.489710    9.948025e+08   \n",
       "2022-01-14  9.948025e+08  25.7074   630.77  42.585680    9.947953e+08   \n",
       "2022-02-14  9.947953e+08  25.7260   630.52  42.492300    9.948070e+08   \n",
       "2022-03-14  9.948070e+08  25.7708   630.31  42.454711    9.947946e+08   \n",
       "2022-04-14  9.947946e+08  25.7879   630.12  42.556154    9.948007e+08   \n",
       "2022-05-16  9.948007e+08  25.7992   630.03  42.584987    9.947972e+08   \n",
       "2022-06-14  9.947972e+08  25.8213   629.94  42.815324    9.947957e+08   \n",
       "2022-07-14  9.947957e+08  25.8277   629.75  42.966718    9.947965e+08   \n",
       "2022-08-15  9.947965e+08  25.7978   629.58  43.056918    9.947966e+08   \n",
       "2022-09-14  9.947966e+08  25.7549   629.62  43.110943    9.947931e+08   \n",
       "2022-10-14  9.947931e+08  25.7325   629.58  43.181346    9.948057e+08   \n",
       "2022-11-14  9.948057e+08  25.7233   629.56  43.184169    9.947982e+08   \n",
       "2022-12-14  9.947982e+08  25.7064   629.51  43.402606    9.947944e+08   \n",
       "2023-01-17  9.947944e+08  25.6736   629.38  43.469387    9.948061e+08   \n",
       "2023-02-14  9.948061e+08  25.6625   629.21  43.358973    9.947998e+08   \n",
       "2023-03-14  9.947998e+08  25.6463   629.05  43.251859    9.948076e+08   \n",
       "2023-04-14  9.948076e+08  25.6240   628.89  43.242493    9.947951e+08   \n",
       "2023-05-15  9.947951e+08  25.5940   628.83  43.240201    9.947932e+08   \n",
       "2023-06-14  9.947932e+08  25.5811   628.82  43.312221    9.948000e+08   \n",
       "2023-07-14  9.948000e+08  25.5660   628.59  43.319593    9.947929e+08   \n",
       "2023-08-14  9.947929e+08  25.5841   628.43  43.310952    9.947953e+08   \n",
       "2023-09-14  9.947953e+08  25.6036   628.58  43.333592    9.947939e+08   \n",
       "2023-10-16  9.947939e+08  25.6049   628.87  43.278203    9.947976e+08   \n",
       "\n",
       "            num_loans  total_prin_coll  total_int_coll  reserve_acct_bal  \\\n",
       "2019-10-15   126478.0      21238282.59     20422691.08           4500000   \n",
       "2019-11-14   125787.0      23244260.58     20285276.13           4500000   \n",
       "2019-12-16   124616.0      21917157.92     20819435.76           4500000   \n",
       "2020-01-14   124101.0      21558623.72     19454255.41           4500000   \n",
       "2020-02-14   123814.0      22119150.17     21098722.08           4500000   \n",
       "2020-03-16   123437.0      23210406.20     20099411.73           4500000   \n",
       "2020-04-14   123667.0      23284459.01     18897837.31           4500000   \n",
       "2020-05-14   128450.0      22080028.05     19344946.61           4500000   \n",
       "2020-06-15   128628.0      25669886.34     20537830.07           4500000   \n",
       "2020-07-14   128909.0      27359920.41     20736804.90           4500000   \n",
       "2020-08-14   129133.0      27935604.56     21354872.76           4500000   \n",
       "2020-09-14   129340.0      26493420.75     20795942.78           4500000   \n",
       "2020-10-14   129238.0      26708516.82     20836664.06           4500000   \n",
       "2020-11-16   129296.0      28318981.73     21248037.36           4500000   \n",
       "2020-12-14   128761.0      25001964.92     20387940.33           4500000   \n",
       "2021-01-14   128457.0      26469674.72     20256004.36           4500000   \n",
       "2021-02-16   128963.0      27236539.61     21567725.84           4500000   \n",
       "2021-03-15   128681.0      28083461.70     20517323.57           4500000   \n",
       "2021-04-14   128054.0      37306773.37     20350238.78           4500000   \n",
       "2021-05-14   128095.0      34367389.87     21359310.37           4500000   \n",
       "2021-06-14   128165.0      31231834.70     20157097.64           4500000   \n",
       "2021-07-14   128169.0      32765044.99     20621009.95           4500000   \n",
       "2021-08-16   128184.0      33600079.45     21118880.31           4500000   \n",
       "2021-09-14   128201.0      33431720.51     20597123.62           4500000   \n",
       "2021-10-14   128242.0      32704352.37     20711243.90           4500000   \n",
       "2021-11-15   128071.0      34138016.97     20850529.37           4500000   \n",
       "2021-12-14   127560.0      32114687.16     20277600.20           4500000   \n",
       "2022-01-14   127069.0      33243215.55     20480382.49           4500000   \n",
       "2022-02-14   127121.0      31647047.71     20540336.91           4500000   \n",
       "2022-03-14   127057.0      32416048.62     20342230.52           4500000   \n",
       "2022-04-14   126767.0      37656229.72     19818286.83           4500000   \n",
       "2022-05-16   126421.0      34346408.54     21056527.56           4500000   \n",
       "2022-06-14   125676.0      33036096.36     19927831.85           4500000   \n",
       "2022-07-14   125002.0      32534834.17     20418154.72           4500000   \n",
       "2022-08-15   124678.0      31480802.47     20402653.00           4500000   \n",
       "2022-09-14   124626.0      31116780.63     20295612.15           4500000   \n",
       "2022-10-14   124261.0      29599895.91     20847598.70           4500000   \n",
       "2022-11-14   124249.0      28361859.57     19654684.63           4500000   \n",
       "2022-12-14   123309.0      26462350.56     19746127.43           4500000   \n",
       "2023-01-17   122764.0      26450311.27     20049261.45           4500000   \n",
       "2023-02-14   122753.0      26429794.60     20053690.31           4500000   \n",
       "2023-03-14   122727.0      27607339.30     19923295.48           4500000   \n",
       "2023-04-14   122673.0      31176832.59     19974362.56           4500000   \n",
       "2023-05-15   122483.0      27130118.44     19749649.67           4500000   \n",
       "2023-06-14   122243.0      27483533.78     19502043.94           4500000   \n",
       "2023-07-14   122038.0      27178808.01     20525575.77           4500000   \n",
       "2023-08-14   122022.0      26199383.43     19282482.82           4500000   \n",
       "2023-09-14   122137.0      26545517.40     19821223.38           4500000   \n",
       "2023-10-16   122637.0      25971418.23     20232194.16           4500000   \n",
       "\n",
       "               total_oc  ...  Class A Notes_factor Class B Notes_beg_bond_bal  \\\n",
       "2019-10-15  47430162.18  ...                     1                   91420000   \n",
       "2019-11-14  47424989.11  ...                     1                   91420000   \n",
       "2019-12-16  47426092.06  ...                     1                   91420000   \n",
       "2020-01-14  47428054.87  ...                     1                   91420000   \n",
       "2020-02-14  47429412.48  ...                     1                   91420000   \n",
       "2020-03-16  47434890.57  ...                     1                   91420000   \n",
       "2020-04-14  47428211.70  ...                     1                   91420000   \n",
       "2020-05-14  94799319.07  ...                     1                   91420000   \n",
       "2020-06-15  94798041.17  ...                     1                   91420000   \n",
       "2020-07-14  94795894.36  ...                     1                   91420000   \n",
       "2020-08-14  94794517.85  ...                     1                   91420000   \n",
       "2020-09-14  94798725.69  ...                     1                   91420000   \n",
       "2020-10-14  94793667.06  ...                     1                   91420000   \n",
       "2020-11-16  94795264.23  ...                     1                   91420000   \n",
       "2020-12-14  94794532.32  ...                     1                   91420000   \n",
       "2021-01-14  94794863.29  ...                     1                   91420000   \n",
       "2021-02-16  94798179.24  ...                     1                   91420000   \n",
       "2021-03-15  94797072.21  ...                     1                   91420000   \n",
       "2021-04-14  94793302.61  ...                     1                   91420000   \n",
       "2021-05-14  94802016.83  ...                     1                   91420000   \n",
       "2021-06-14  94801800.76  ...                     1                   91420000   \n",
       "2021-07-14  94796646.93  ...                     1                   91420000   \n",
       "2021-08-16  94795015.65  ...                     1                   91420000   \n",
       "2021-09-14  94795231.51  ...                     1                   91420000   \n",
       "2021-10-14  94794356.60  ...                     1                   91420000   \n",
       "2021-11-15  94804618.45  ...                     1                   91420000   \n",
       "2021-12-14  94802478.45  ...                     1                   91420000   \n",
       "2022-01-14  94795339.71  ...                     1                   91420000   \n",
       "2022-02-14  94807004.57  ...                     1                   91420000   \n",
       "2022-03-14  94794640.10  ...                     1                   91420000   \n",
       "2022-04-14  94800702.76  ...                     1                   91420000   \n",
       "2022-05-16  94797200.66  ...                     1                   91420000   \n",
       "2022-06-14  94795744.74  ...                     1                   91420000   \n",
       "2022-07-14  94796456.72  ...                     1                   91420000   \n",
       "2022-08-15  94796609.14  ...                     1                   91420000   \n",
       "2022-09-14  94793066.86  ...                     1                   91420000   \n",
       "2022-10-14  94805676.87  ...                     1                   91420000   \n",
       "2022-11-14  94798150.73  ...                     1                   91420000   \n",
       "2022-12-14  94794354.58  ...                     1                   91420000   \n",
       "2023-01-17  94806084.50  ...                     1                   91420000   \n",
       "2023-02-14  94799751.98  ...                     1                   91420000   \n",
       "2023-03-14  94807619.68  ...                     1                   91420000   \n",
       "2023-04-14  94795054.63  ...                     1                   91420000   \n",
       "2023-05-15  94793213.54  ...                     1                   91420000   \n",
       "2023-06-14  94799953.10  ...                     1                   91420000   \n",
       "2023-07-14  94792900.24  ...                     1                   91420000   \n",
       "2023-08-14  94795293.07  ...                     1                   91420000   \n",
       "2023-09-14  94793912.04  ...                     1                   91420000   \n",
       "2023-10-16  94797589.59  ...                     1                   91420000   \n",
       "\n",
       "            Class B Notes_end_bond_bal  Class B Notes_factor  \\\n",
       "2019-10-15                    91420000                     1   \n",
       "2019-11-14                    91420000                     1   \n",
       "2019-12-16                    91420000                     1   \n",
       "2020-01-14                    91420000                     1   \n",
       "2020-02-14                    91420000                     1   \n",
       "2020-03-16                    91420000                     1   \n",
       "2020-04-14                    91420000                     1   \n",
       "2020-05-14                    91420000                     1   \n",
       "2020-06-15                    91420000                     1   \n",
       "2020-07-14                    91420000                     1   \n",
       "2020-08-14                    91420000                     1   \n",
       "2020-09-14                    91420000                     1   \n",
       "2020-10-14                    91420000                     1   \n",
       "2020-11-16                    91420000                     1   \n",
       "2020-12-14                    91420000                     1   \n",
       "2021-01-14                    91420000                     1   \n",
       "2021-02-16                    91420000                     1   \n",
       "2021-03-15                    91420000                     1   \n",
       "2021-04-14                    91420000                     1   \n",
       "2021-05-14                    91420000                     1   \n",
       "2021-06-14                    91420000                     1   \n",
       "2021-07-14                    91420000                     1   \n",
       "2021-08-16                    91420000                     1   \n",
       "2021-09-14                    91420000                     1   \n",
       "2021-10-14                    91420000                     1   \n",
       "2021-11-15                    91420000                     1   \n",
       "2021-12-14                    91420000                     1   \n",
       "2022-01-14                    91420000                     1   \n",
       "2022-02-14                    91420000                     1   \n",
       "2022-03-14                    91420000                     1   \n",
       "2022-04-14                    91420000                     1   \n",
       "2022-05-16                    91420000                     1   \n",
       "2022-06-14                    91420000                     1   \n",
       "2022-07-14                    91420000                     1   \n",
       "2022-08-15                    91420000                     1   \n",
       "2022-09-14                    91420000                     1   \n",
       "2022-10-14                    91420000                     1   \n",
       "2022-11-14                    91420000                     1   \n",
       "2022-12-14                    91420000                     1   \n",
       "2023-01-17                    91420000                     1   \n",
       "2023-02-14                    91420000                     1   \n",
       "2023-03-14                    91420000                     1   \n",
       "2023-04-14                    91420000                     1   \n",
       "2023-05-15                    91420000                     1   \n",
       "2023-06-14                    91420000                     1   \n",
       "2023-07-14                    91420000                     1   \n",
       "2023-08-14                    91420000                     1   \n",
       "2023-09-14                    91420000                     1   \n",
       "2023-10-16                    91420000                     1   \n",
       "\n",
       "            Class C Notes_beg_bond_bal  Class C Notes_end_bond_bal  \\\n",
       "2019-10-15                    59210000                    59210000   \n",
       "2019-11-14                    59210000                    59210000   \n",
       "2019-12-16                    59210000                    59210000   \n",
       "2020-01-14                    59210000                    59210000   \n",
       "2020-02-14                    59210000                    59210000   \n",
       "2020-03-16                    59210000                    59210000   \n",
       "2020-04-14                    59210000                    59210000   \n",
       "2020-05-14                    59210000                    59210000   \n",
       "2020-06-15                    59210000                    59210000   \n",
       "2020-07-14                    59210000                    59210000   \n",
       "2020-08-14                    59210000                    59210000   \n",
       "2020-09-14                    59210000                    59210000   \n",
       "2020-10-14                    59210000                    59210000   \n",
       "2020-11-16                    59210000                    59210000   \n",
       "2020-12-14                    59210000                    59210000   \n",
       "2021-01-14                    59210000                    59210000   \n",
       "2021-02-16                    59210000                    59210000   \n",
       "2021-03-15                    59210000                    59210000   \n",
       "2021-04-14                    59210000                    59210000   \n",
       "2021-05-14                    59210000                    59210000   \n",
       "2021-06-14                    59210000                    59210000   \n",
       "2021-07-14                    59210000                    59210000   \n",
       "2021-08-16                    59210000                    59210000   \n",
       "2021-09-14                    59210000                    59210000   \n",
       "2021-10-14                    59210000                    59210000   \n",
       "2021-11-15                    59210000                    59210000   \n",
       "2021-12-14                    59210000                    59210000   \n",
       "2022-01-14                    59210000                    59210000   \n",
       "2022-02-14                    59210000                    59210000   \n",
       "2022-03-14                    59210000                    59210000   \n",
       "2022-04-14                    59210000                    59210000   \n",
       "2022-05-16                    59210000                    59210000   \n",
       "2022-06-14                    59210000                    59210000   \n",
       "2022-07-14                    59210000                    59210000   \n",
       "2022-08-15                    59210000                    59210000   \n",
       "2022-09-14                    59210000                    59210000   \n",
       "2022-10-14                    59210000                    59210000   \n",
       "2022-11-14                    59210000                    59210000   \n",
       "2022-12-14                    59210000                    59210000   \n",
       "2023-01-17                    59210000                    59210000   \n",
       "2023-02-14                    59210000                    59210000   \n",
       "2023-03-14                    59210000                    59210000   \n",
       "2023-04-14                    59210000                    59210000   \n",
       "2023-05-15                    59210000                    59210000   \n",
       "2023-06-14                    59210000                    59210000   \n",
       "2023-07-14                    59210000                    59210000   \n",
       "2023-08-14                    59210000                    59210000   \n",
       "2023-09-14                    59210000                    59210000   \n",
       "2023-10-16                    59210000                    59210000   \n",
       "\n",
       "            Class C Notes_factor  Class D Notes_beg_bond_bal  \\\n",
       "2019-10-15                     1                    98050000   \n",
       "2019-11-14                     1                    98050000   \n",
       "2019-12-16                     1                    98050000   \n",
       "2020-01-14                     1                    98050000   \n",
       "2020-02-14                     1                    98050000   \n",
       "2020-03-16                     1                    98050000   \n",
       "2020-04-14                     1                    98050000   \n",
       "2020-05-14                     1                    98050000   \n",
       "2020-06-15                     1                    98050000   \n",
       "2020-07-14                     1                    98050000   \n",
       "2020-08-14                     1                    98050000   \n",
       "2020-09-14                     1                    98050000   \n",
       "2020-10-14                     1                    98050000   \n",
       "2020-11-16                     1                    98050000   \n",
       "2020-12-14                     1                    98050000   \n",
       "2021-01-14                     1                    98050000   \n",
       "2021-02-16                     1                    98050000   \n",
       "2021-03-15                     1                    98050000   \n",
       "2021-04-14                     1                    98050000   \n",
       "2021-05-14                     1                    98050000   \n",
       "2021-06-14                     1                    98050000   \n",
       "2021-07-14                     1                    98050000   \n",
       "2021-08-16                     1                    98050000   \n",
       "2021-09-14                     1                    98050000   \n",
       "2021-10-14                     1                    98050000   \n",
       "2021-11-15                     1                    98050000   \n",
       "2021-12-14                     1                    98050000   \n",
       "2022-01-14                     1                    98050000   \n",
       "2022-02-14                     1                    98050000   \n",
       "2022-03-14                     1                    98050000   \n",
       "2022-04-14                     1                    98050000   \n",
       "2022-05-16                     1                    98050000   \n",
       "2022-06-14                     1                    98050000   \n",
       "2022-07-14                     1                    98050000   \n",
       "2022-08-15                     1                    98050000   \n",
       "2022-09-14                     1                    98050000   \n",
       "2022-10-14                     1                    98050000   \n",
       "2022-11-14                     1                    98050000   \n",
       "2022-12-14                     1                    98050000   \n",
       "2023-01-17                     1                    98050000   \n",
       "2023-02-14                     1                    98050000   \n",
       "2023-03-14                     1                    98050000   \n",
       "2023-04-14                     1                    98050000   \n",
       "2023-05-15                     1                    98050000   \n",
       "2023-06-14                     1                    98050000   \n",
       "2023-07-14                     1                    98050000   \n",
       "2023-08-14                     1                    98050000   \n",
       "2023-09-14                     1                    98050000   \n",
       "2023-10-16                     1                    98050000   \n",
       "\n",
       "            Class D Notes_end_bond_bal  Class D Notes_factor  \n",
       "2019-10-15                    98050000                     1  \n",
       "2019-11-14                    98050000                     1  \n",
       "2019-12-16                    98050000                     1  \n",
       "2020-01-14                    98050000                     1  \n",
       "2020-02-14                    98050000                     1  \n",
       "2020-03-16                    98050000                     1  \n",
       "2020-04-14                    98050000                     1  \n",
       "2020-05-14                    98050000                     1  \n",
       "2020-06-15                    98050000                     1  \n",
       "2020-07-14                    98050000                     1  \n",
       "2020-08-14                    98050000                     1  \n",
       "2020-09-14                    98050000                     1  \n",
       "2020-10-14                    98050000                     1  \n",
       "2020-11-16                    98050000                     1  \n",
       "2020-12-14                    98050000                     1  \n",
       "2021-01-14                    98050000                     1  \n",
       "2021-02-16                    98050000                     1  \n",
       "2021-03-15                    98050000                     1  \n",
       "2021-04-14                    98050000                     1  \n",
       "2021-05-14                    98050000                     1  \n",
       "2021-06-14                    98050000                     1  \n",
       "2021-07-14                    98050000                     1  \n",
       "2021-08-16                    98050000                     1  \n",
       "2021-09-14                    98050000                     1  \n",
       "2021-10-14                    98050000                     1  \n",
       "2021-11-15                    98050000                     1  \n",
       "2021-12-14                    98050000                     1  \n",
       "2022-01-14                    98050000                     1  \n",
       "2022-02-14                    98050000                     1  \n",
       "2022-03-14                    98050000                     1  \n",
       "2022-04-14                    98050000                     1  \n",
       "2022-05-16                    98050000                     1  \n",
       "2022-06-14                    98050000                     1  \n",
       "2022-07-14                    98050000                     1  \n",
       "2022-08-15                    98050000                     1  \n",
       "2022-09-14                    98050000                     1  \n",
       "2022-10-14                    98050000                     1  \n",
       "2022-11-14                    98050000                     1  \n",
       "2022-12-14                    98050000                     1  \n",
       "2023-01-17                    98050000                     1  \n",
       "2023-02-14                    98050000                     1  \n",
       "2023-03-14                    98050000                     1  \n",
       "2023-04-14                    98050000                     1  \n",
       "2023-05-15                    98050000                     1  \n",
       "2023-06-14                    98050000                     1  \n",
       "2023-07-14                    98050000                     1  \n",
       "2023-08-14                    98050000                     1  \n",
       "2023-09-14                    98050000                     1  \n",
       "2023-10-16                    98050000                     1  \n",
       "\n",
       "[49 rows x 24 columns]"
      ]
     },
     "execution_count": 50,
     "metadata": {},
     "output_type": "execute_result"
    }
   ],
   "source": [
    "combined_df"
   ]
  },
  {
   "cell_type": "code",
   "execution_count": 51,
   "id": "8a13fa30",
   "metadata": {},
   "outputs": [],
   "source": [
    "combined_df['rsv_pct_initial'] = combined_df.apply(lambda row: row['reserve_acct_bal']/initial_bal*100, axis=1)\n",
    "\n",
    "combined_df['rsv_pct_curr'] = combined_df.apply(lambda row: row['reserve_acct_bal']/row['beg_bal']*100, axis=1)\n",
    "\n",
    "combined_df['total_oc_pct_initial'] = combined_df.apply(lambda row: row['total_oc']/initial_bal*100, axis=1)\n",
    "\n",
    "combined_df['total_oc_pct_curr'] = combined_df.apply(lambda row: row['total_oc']/row['beg_bal']*100, axis=1)\n",
    "\n",
    "combined_df['req_oc_initial'] = combined_df.apply(lambda row: row['required_oc']/initial_bal*100, axis=1)\n",
    "\n",
    "combined_df['req_oc_curr'] = combined_df.apply(lambda row: row['required_oc']/row['beg_bal']*100, axis=1)\n",
    "\n",
    "combined_df['total_coll'] = combined_df.apply(lambda row: row['total_prin_coll'] + row['total_int_coll'], axis=1)\n",
    "\n",
    "combined_df['class_a_pct_of_pool'] = combined_df.apply(lambda row: row['Class A Notes_beg_bond_bal'] / row['ending_balance'] * 100, axis=1)\n",
    "\n",
    "combined_df['class_b_pct_of_pool'] = combined_df.apply(lambda row: row['Class B Notes_beg_bond_bal'] / row['ending_balance'] * 100, axis=1)\n",
    "\n",
    "combined_df['class_c_pct_of_pool'] = combined_df.apply(lambda row: row['Class C Notes_beg_bond_bal'] / row['ending_balance'] * 100, axis=1)\n",
    "\n",
    "combined_df['class_d_pct_of_pool'] = combined_df.apply(lambda row: row['Class D Notes_beg_bond_bal'] / row['ending_balance'] * 100, axis=1)\n",
    "\n",
    "combined_df['bond_wac'] = combined_df.apply(lambda row: ((row['Class A Notes_beg_bond_bal'] * class_a_coupon)+(row['Class B Notes_beg_bond_bal'] * class_b_coupon) + (row['Class C Notes_beg_bond_bal'] * class_c_coupon) + (row['Class D Notes_beg_bond_bal'] * class_d_coupon)) / (row['Class A Notes_beg_bond_bal'] + row['Class B Notes_beg_bond_bal'] + row['Class C Notes_beg_bond_bal'] + row['Class D Notes_beg_bond_bal']), axis=1)\n",
    "\n",
    "combined_df['excess_spread'] = combined_df.apply(lambda row: row['wac'] - row['bond_wac'], axis = 1)\n",
    "\n",
    "combined_df['class_a_subordination'] = combined_df.apply(lambda row: row['class_b_pct_of_pool'] + row['class_c_pct_of_pool'] + row['class_d_pct_of_pool'], axis=1)\n",
    "\n",
    "combined_df['class_b_subordination'] = combined_df.apply(lambda row: row['class_c_pct_of_pool'] + row['class_d_pct_of_pool'], axis=1)\n",
    "\n",
    "combined_df['class_c_subordination'] = combined_df.apply(lambda row: row['class_d_pct_of_pool'], axis=1)\n",
    "\n",
    "combined_df['class_a_ce'] = combined_df.apply(lambda row: row['class_a_subordination'] + row['total_oc_pct_curr'] + row['rsv_pct_curr'] + row['excess_spread'], axis=1)\n",
    "\n",
    "combined_df['class_b_ce'] = combined_df.apply(lambda row: row['class_b_subordination'] + row['total_oc_pct_curr'] + row['rsv_pct_curr'] + row['excess_spread'], axis=1)\n",
    "\n",
    "combined_df['class_c_ce'] = combined_df.apply(lambda row: row['class_c_subordination'] + row['total_oc_pct_curr'] + row['rsv_pct_curr'] + row['excess_spread'], axis=1)\n",
    "\n",
    "combined_df['class_d_ce'] = combined_df.apply(lambda row: row['total_oc_pct_curr'] + row['rsv_pct_curr'] + row['excess_spread'], axis=1)"
   ]
  },
  {
   "cell_type": "code",
   "execution_count": 52,
   "id": "5f85d8dd",
   "metadata": {},
   "outputs": [],
   "source": [
    "combined_df.reset_index(inplace=True)"
   ]
  },
  {
   "cell_type": "code",
   "execution_count": 53,
   "id": "83457d0e",
   "metadata": {},
   "outputs": [],
   "source": [
    "combined_df.rename(columns={'index': 'payment_date'}, inplace=True)"
   ]
  },
  {
   "cell_type": "code",
   "execution_count": 54,
   "id": "b591477d",
   "metadata": {
    "scrolled": true
   },
   "outputs": [
    {
     "data": {
      "text/html": [
       "<div>\n",
       "<style scoped>\n",
       "    .dataframe tbody tr th:only-of-type {\n",
       "        vertical-align: middle;\n",
       "    }\n",
       "\n",
       "    .dataframe tbody tr th {\n",
       "        vertical-align: top;\n",
       "    }\n",
       "\n",
       "    .dataframe thead th {\n",
       "        text-align: right;\n",
       "    }\n",
       "</style>\n",
       "<table border=\"1\" class=\"dataframe\">\n",
       "  <thead>\n",
       "    <tr style=\"text-align: right;\">\n",
       "      <th></th>\n",
       "      <th>payment_date</th>\n",
       "      <th>beg_bal</th>\n",
       "      <th>wac</th>\n",
       "      <th>wa_fico</th>\n",
       "      <th>wart</th>\n",
       "      <th>ending_balance</th>\n",
       "      <th>num_loans</th>\n",
       "      <th>total_prin_coll</th>\n",
       "      <th>total_int_coll</th>\n",
       "      <th>reserve_acct_bal</th>\n",
       "      <th>...</th>\n",
       "      <th>class_d_pct_of_pool</th>\n",
       "      <th>bond_wac</th>\n",
       "      <th>excess_spread</th>\n",
       "      <th>class_a_subordination</th>\n",
       "      <th>class_b_subordination</th>\n",
       "      <th>class_c_subordination</th>\n",
       "      <th>class_a_ce</th>\n",
       "      <th>class_b_ce</th>\n",
       "      <th>class_c_ce</th>\n",
       "      <th>class_d_ce</th>\n",
       "    </tr>\n",
       "  </thead>\n",
       "  <tbody>\n",
       "    <tr>\n",
       "      <th>0</th>\n",
       "      <td>2019-10-15</td>\n",
       "      <td>9.473742e+08</td>\n",
       "      <td>26.9000</td>\n",
       "      <td>629.00</td>\n",
       "      <td>47.000000</td>\n",
       "      <td>9.474302e+08</td>\n",
       "      <td>126478.0</td>\n",
       "      <td>21238282.59</td>\n",
       "      <td>20422691.08</td>\n",
       "      <td>4500000</td>\n",
       "      <td>...</td>\n",
       "      <td>10.349048</td>\n",
       "      <td>3.300776</td>\n",
       "      <td>23.599224</td>\n",
       "      <td>26.247845</td>\n",
       "      <td>16.598585</td>\n",
       "      <td>10.349048</td>\n",
       "      <td>55.328553</td>\n",
       "      <td>45.679293</td>\n",
       "      <td>39.429756</td>\n",
       "      <td>29.080708</td>\n",
       "    </tr>\n",
       "    <tr>\n",
       "      <th>1</th>\n",
       "      <td>2019-11-14</td>\n",
       "      <td>9.474302e+08</td>\n",
       "      <td>26.8690</td>\n",
       "      <td>628.73</td>\n",
       "      <td>47.143849</td>\n",
       "      <td>9.474250e+08</td>\n",
       "      <td>125787.0</td>\n",
       "      <td>23244260.58</td>\n",
       "      <td>20285276.13</td>\n",
       "      <td>4500000</td>\n",
       "      <td>...</td>\n",
       "      <td>10.349104</td>\n",
       "      <td>3.300776</td>\n",
       "      <td>23.568224</td>\n",
       "      <td>26.247988</td>\n",
       "      <td>16.598676</td>\n",
       "      <td>10.349104</td>\n",
       "      <td>55.296826</td>\n",
       "      <td>45.647514</td>\n",
       "      <td>39.397942</td>\n",
       "      <td>29.048838</td>\n",
       "    </tr>\n",
       "    <tr>\n",
       "      <th>2</th>\n",
       "      <td>2019-12-16</td>\n",
       "      <td>9.474250e+08</td>\n",
       "      <td>26.8148</td>\n",
       "      <td>628.49</td>\n",
       "      <td>47.091538</td>\n",
       "      <td>9.474261e+08</td>\n",
       "      <td>124616.0</td>\n",
       "      <td>21917157.92</td>\n",
       "      <td>20819435.76</td>\n",
       "      <td>4500000</td>\n",
       "      <td>...</td>\n",
       "      <td>10.349092</td>\n",
       "      <td>3.300776</td>\n",
       "      <td>23.514024</td>\n",
       "      <td>26.247958</td>\n",
       "      <td>16.598656</td>\n",
       "      <td>10.349092</td>\n",
       "      <td>55.242742</td>\n",
       "      <td>45.593441</td>\n",
       "      <td>39.343877</td>\n",
       "      <td>28.994785</td>\n",
       "    </tr>\n",
       "    <tr>\n",
       "      <th>3</th>\n",
       "      <td>2020-01-14</td>\n",
       "      <td>9.474261e+08</td>\n",
       "      <td>26.7715</td>\n",
       "      <td>628.29</td>\n",
       "      <td>46.898766</td>\n",
       "      <td>9.474281e+08</td>\n",
       "      <td>124101.0</td>\n",
       "      <td>21558623.72</td>\n",
       "      <td>19454255.41</td>\n",
       "      <td>4500000</td>\n",
       "      <td>...</td>\n",
       "      <td>10.349071</td>\n",
       "      <td>3.300776</td>\n",
       "      <td>23.470724</td>\n",
       "      <td>26.247903</td>\n",
       "      <td>16.598622</td>\n",
       "      <td>10.349071</td>\n",
       "      <td>55.199589</td>\n",
       "      <td>45.550307</td>\n",
       "      <td>39.300756</td>\n",
       "      <td>28.951685</td>\n",
       "    </tr>\n",
       "    <tr>\n",
       "      <th>4</th>\n",
       "      <td>2020-02-14</td>\n",
       "      <td>9.474281e+08</td>\n",
       "      <td>26.7108</td>\n",
       "      <td>628.09</td>\n",
       "      <td>46.575797</td>\n",
       "      <td>9.474294e+08</td>\n",
       "      <td>123814.0</td>\n",
       "      <td>22119150.17</td>\n",
       "      <td>21098722.08</td>\n",
       "      <td>4500000</td>\n",
       "      <td>...</td>\n",
       "      <td>10.349056</td>\n",
       "      <td>3.300776</td>\n",
       "      <td>23.410024</td>\n",
       "      <td>26.247866</td>\n",
       "      <td>16.598598</td>\n",
       "      <td>10.349056</td>\n",
       "      <td>55.138983</td>\n",
       "      <td>45.489715</td>\n",
       "      <td>39.240173</td>\n",
       "      <td>28.891117</td>\n",
       "    </tr>\n",
       "    <tr>\n",
       "      <th>5</th>\n",
       "      <td>2020-03-16</td>\n",
       "      <td>9.474294e+08</td>\n",
       "      <td>26.6160</td>\n",
       "      <td>627.89</td>\n",
       "      <td>46.255265</td>\n",
       "      <td>9.474349e+08</td>\n",
       "      <td>123437.0</td>\n",
       "      <td>23210406.20</td>\n",
       "      <td>20099411.73</td>\n",
       "      <td>4500000</td>\n",
       "      <td>...</td>\n",
       "      <td>10.348996</td>\n",
       "      <td>3.300776</td>\n",
       "      <td>23.315224</td>\n",
       "      <td>26.247714</td>\n",
       "      <td>16.598502</td>\n",
       "      <td>10.348996</td>\n",
       "      <td>55.044602</td>\n",
       "      <td>45.395390</td>\n",
       "      <td>39.145884</td>\n",
       "      <td>28.796888</td>\n",
       "    </tr>\n",
       "    <tr>\n",
       "      <th>6</th>\n",
       "      <td>2020-04-14</td>\n",
       "      <td>9.474349e+08</td>\n",
       "      <td>26.5487</td>\n",
       "      <td>627.77</td>\n",
       "      <td>45.885982</td>\n",
       "      <td>9.474282e+08</td>\n",
       "      <td>123667.0</td>\n",
       "      <td>23284459.01</td>\n",
       "      <td>18897837.31</td>\n",
       "      <td>4500000</td>\n",
       "      <td>...</td>\n",
       "      <td>10.349069</td>\n",
       "      <td>3.300776</td>\n",
       "      <td>23.247924</td>\n",
       "      <td>26.247899</td>\n",
       "      <td>16.598619</td>\n",
       "      <td>10.349069</td>\n",
       "      <td>54.976750</td>\n",
       "      <td>45.327470</td>\n",
       "      <td>39.077920</td>\n",
       "      <td>28.728851</td>\n",
       "    </tr>\n",
       "    <tr>\n",
       "      <th>7</th>\n",
       "      <td>2020-05-14</td>\n",
       "      <td>9.474282e+08</td>\n",
       "      <td>26.1735</td>\n",
       "      <td>627.50</td>\n",
       "      <td>45.929313</td>\n",
       "      <td>9.947993e+08</td>\n",
       "      <td>128450.0</td>\n",
       "      <td>22080028.05</td>\n",
       "      <td>19344946.61</td>\n",
       "      <td>4500000</td>\n",
       "      <td>...</td>\n",
       "      <td>9.856259</td>\n",
       "      <td>3.300776</td>\n",
       "      <td>22.872724</td>\n",
       "      <td>24.998007</td>\n",
       "      <td>15.808213</td>\n",
       "      <td>9.856259</td>\n",
       "      <td>58.351664</td>\n",
       "      <td>49.161871</td>\n",
       "      <td>43.209917</td>\n",
       "      <td>33.353658</td>\n",
       "    </tr>\n",
       "    <tr>\n",
       "      <th>8</th>\n",
       "      <td>2020-06-15</td>\n",
       "      <td>9.947993e+08</td>\n",
       "      <td>25.9223</td>\n",
       "      <td>627.48</td>\n",
       "      <td>45.504034</td>\n",
       "      <td>9.947980e+08</td>\n",
       "      <td>128628.0</td>\n",
       "      <td>25669886.34</td>\n",
       "      <td>20537830.07</td>\n",
       "      <td>4500000</td>\n",
       "      <td>...</td>\n",
       "      <td>9.856272</td>\n",
       "      <td>3.300776</td>\n",
       "      <td>22.621524</td>\n",
       "      <td>24.998039</td>\n",
       "      <td>15.808234</td>\n",
       "      <td>9.856272</td>\n",
       "      <td>57.601279</td>\n",
       "      <td>48.411474</td>\n",
       "      <td>42.459512</td>\n",
       "      <td>32.603240</td>\n",
       "    </tr>\n",
       "    <tr>\n",
       "      <th>9</th>\n",
       "      <td>2020-07-14</td>\n",
       "      <td>9.947980e+08</td>\n",
       "      <td>26.0488</td>\n",
       "      <td>627.68</td>\n",
       "      <td>45.133056</td>\n",
       "      <td>9.947959e+08</td>\n",
       "      <td>128909.0</td>\n",
       "      <td>27359920.41</td>\n",
       "      <td>20736804.90</td>\n",
       "      <td>4500000</td>\n",
       "      <td>...</td>\n",
       "      <td>9.856293</td>\n",
       "      <td>3.300776</td>\n",
       "      <td>22.748024</td>\n",
       "      <td>24.998093</td>\n",
       "      <td>15.808268</td>\n",
       "      <td>9.856293</td>\n",
       "      <td>57.727630</td>\n",
       "      <td>48.537805</td>\n",
       "      <td>42.585830</td>\n",
       "      <td>32.729537</td>\n",
       "    </tr>\n",
       "    <tr>\n",
       "      <th>10</th>\n",
       "      <td>2020-08-14</td>\n",
       "      <td>9.947959e+08</td>\n",
       "      <td>26.1969</td>\n",
       "      <td>627.91</td>\n",
       "      <td>44.764131</td>\n",
       "      <td>9.947945e+08</td>\n",
       "      <td>129133.0</td>\n",
       "      <td>27935604.56</td>\n",
       "      <td>21354872.76</td>\n",
       "      <td>4500000</td>\n",
       "      <td>...</td>\n",
       "      <td>9.856307</td>\n",
       "      <td>3.300776</td>\n",
       "      <td>22.896124</td>\n",
       "      <td>24.998127</td>\n",
       "      <td>15.808290</td>\n",
       "      <td>9.856307</td>\n",
       "      <td>57.875648</td>\n",
       "      <td>48.685810</td>\n",
       "      <td>42.733827</td>\n",
       "      <td>32.877520</td>\n",
       "    </tr>\n",
       "    <tr>\n",
       "      <th>11</th>\n",
       "      <td>2020-09-14</td>\n",
       "      <td>9.947945e+08</td>\n",
       "      <td>26.1979</td>\n",
       "      <td>628.16</td>\n",
       "      <td>44.440793</td>\n",
       "      <td>9.947987e+08</td>\n",
       "      <td>129340.0</td>\n",
       "      <td>26493420.75</td>\n",
       "      <td>20795942.78</td>\n",
       "      <td>4500000</td>\n",
       "      <td>...</td>\n",
       "      <td>9.856265</td>\n",
       "      <td>3.300776</td>\n",
       "      <td>22.897124</td>\n",
       "      <td>24.998022</td>\n",
       "      <td>15.808223</td>\n",
       "      <td>9.856265</td>\n",
       "      <td>57.876979</td>\n",
       "      <td>48.687180</td>\n",
       "      <td>42.735222</td>\n",
       "      <td>32.878957</td>\n",
       "    </tr>\n",
       "    <tr>\n",
       "      <th>12</th>\n",
       "      <td>2020-10-14</td>\n",
       "      <td>9.947987e+08</td>\n",
       "      <td>26.1589</td>\n",
       "      <td>628.38</td>\n",
       "      <td>44.206667</td>\n",
       "      <td>9.947937e+08</td>\n",
       "      <td>129238.0</td>\n",
       "      <td>26708516.82</td>\n",
       "      <td>20836664.06</td>\n",
       "      <td>4500000</td>\n",
       "      <td>...</td>\n",
       "      <td>9.856315</td>\n",
       "      <td>3.300776</td>\n",
       "      <td>22.858124</td>\n",
       "      <td>24.998149</td>\n",
       "      <td>15.808303</td>\n",
       "      <td>9.856315</td>\n",
       "      <td>57.837555</td>\n",
       "      <td>48.647710</td>\n",
       "      <td>42.695722</td>\n",
       "      <td>32.839406</td>\n",
       "    </tr>\n",
       "    <tr>\n",
       "      <th>13</th>\n",
       "      <td>2020-11-16</td>\n",
       "      <td>9.947937e+08</td>\n",
       "      <td>26.1047</td>\n",
       "      <td>628.65</td>\n",
       "      <td>43.944103</td>\n",
       "      <td>9.947953e+08</td>\n",
       "      <td>129296.0</td>\n",
       "      <td>28318981.73</td>\n",
       "      <td>21248037.36</td>\n",
       "      <td>4500000</td>\n",
       "      <td>...</td>\n",
       "      <td>9.856299</td>\n",
       "      <td>3.300776</td>\n",
       "      <td>22.803924</td>\n",
       "      <td>24.998109</td>\n",
       "      <td>15.808278</td>\n",
       "      <td>9.856299</td>\n",
       "      <td>57.783526</td>\n",
       "      <td>48.593696</td>\n",
       "      <td>42.641717</td>\n",
       "      <td>32.785418</td>\n",
       "    </tr>\n",
       "    <tr>\n",
       "      <th>14</th>\n",
       "      <td>2020-12-14</td>\n",
       "      <td>9.947953e+08</td>\n",
       "      <td>26.0755</td>\n",
       "      <td>628.91</td>\n",
       "      <td>43.874407</td>\n",
       "      <td>9.947945e+08</td>\n",
       "      <td>128761.0</td>\n",
       "      <td>25001964.92</td>\n",
       "      <td>20387940.33</td>\n",
       "      <td>4500000</td>\n",
       "      <td>...</td>\n",
       "      <td>9.856307</td>\n",
       "      <td>3.300776</td>\n",
       "      <td>22.774724</td>\n",
       "      <td>24.998127</td>\n",
       "      <td>15.808290</td>\n",
       "      <td>9.856307</td>\n",
       "      <td>57.754255</td>\n",
       "      <td>48.564418</td>\n",
       "      <td>42.612435</td>\n",
       "      <td>32.756128</td>\n",
       "    </tr>\n",
       "    <tr>\n",
       "      <th>15</th>\n",
       "      <td>2021-01-14</td>\n",
       "      <td>9.947945e+08</td>\n",
       "      <td>26.0177</td>\n",
       "      <td>629.16</td>\n",
       "      <td>43.755606</td>\n",
       "      <td>9.947949e+08</td>\n",
       "      <td>128457.0</td>\n",
       "      <td>26469674.72</td>\n",
       "      <td>20256004.36</td>\n",
       "      <td>4500000</td>\n",
       "      <td>...</td>\n",
       "      <td>9.856303</td>\n",
       "      <td>3.300776</td>\n",
       "      <td>22.716924</td>\n",
       "      <td>24.998119</td>\n",
       "      <td>15.808284</td>\n",
       "      <td>9.856303</td>\n",
       "      <td>57.696487</td>\n",
       "      <td>48.506653</td>\n",
       "      <td>42.554672</td>\n",
       "      <td>32.698369</td>\n",
       "    </tr>\n",
       "    <tr>\n",
       "      <th>16</th>\n",
       "      <td>2021-02-16</td>\n",
       "      <td>9.947949e+08</td>\n",
       "      <td>25.9706</td>\n",
       "      <td>629.27</td>\n",
       "      <td>43.349367</td>\n",
       "      <td>9.947982e+08</td>\n",
       "      <td>128963.0</td>\n",
       "      <td>27236539.61</td>\n",
       "      <td>21567725.84</td>\n",
       "      <td>4500000</td>\n",
       "      <td>...</td>\n",
       "      <td>9.856271</td>\n",
       "      <td>3.300776</td>\n",
       "      <td>22.669824</td>\n",
       "      <td>24.998035</td>\n",
       "      <td>15.808232</td>\n",
       "      <td>9.856271</td>\n",
       "      <td>57.649634</td>\n",
       "      <td>48.459830</td>\n",
       "      <td>42.507869</td>\n",
       "      <td>32.651599</td>\n",
       "    </tr>\n",
       "    <tr>\n",
       "      <th>17</th>\n",
       "      <td>2021-03-15</td>\n",
       "      <td>9.947982e+08</td>\n",
       "      <td>25.9281</td>\n",
       "      <td>629.47</td>\n",
       "      <td>43.151208</td>\n",
       "      <td>9.947971e+08</td>\n",
       "      <td>128681.0</td>\n",
       "      <td>28083461.70</td>\n",
       "      <td>20517323.57</td>\n",
       "      <td>4500000</td>\n",
       "      <td>...</td>\n",
       "      <td>9.856282</td>\n",
       "      <td>3.300776</td>\n",
       "      <td>22.627324</td>\n",
       "      <td>24.998063</td>\n",
       "      <td>15.808249</td>\n",
       "      <td>9.856282</td>\n",
       "      <td>57.607017</td>\n",
       "      <td>48.417203</td>\n",
       "      <td>42.465236</td>\n",
       "      <td>32.608954</td>\n",
       "    </tr>\n",
       "    <tr>\n",
       "      <th>18</th>\n",
       "      <td>2021-04-14</td>\n",
       "      <td>9.947971e+08</td>\n",
       "      <td>25.8603</td>\n",
       "      <td>629.76</td>\n",
       "      <td>43.072368</td>\n",
       "      <td>9.947933e+08</td>\n",
       "      <td>128054.0</td>\n",
       "      <td>37306773.37</td>\n",
       "      <td>20350238.78</td>\n",
       "      <td>4500000</td>\n",
       "      <td>...</td>\n",
       "      <td>9.856319</td>\n",
       "      <td>3.300776</td>\n",
       "      <td>22.559524</td>\n",
       "      <td>24.998158</td>\n",
       "      <td>15.808309</td>\n",
       "      <td>9.856319</td>\n",
       "      <td>57.538944</td>\n",
       "      <td>48.349095</td>\n",
       "      <td>42.397105</td>\n",
       "      <td>32.540786</td>\n",
       "    </tr>\n",
       "    <tr>\n",
       "      <th>19</th>\n",
       "      <td>2021-05-14</td>\n",
       "      <td>9.947933e+08</td>\n",
       "      <td>25.8176</td>\n",
       "      <td>630.03</td>\n",
       "      <td>42.799217</td>\n",
       "      <td>9.948020e+08</td>\n",
       "      <td>128095.0</td>\n",
       "      <td>34367389.87</td>\n",
       "      <td>21359310.37</td>\n",
       "      <td>4500000</td>\n",
       "      <td>...</td>\n",
       "      <td>9.856233</td>\n",
       "      <td>3.300776</td>\n",
       "      <td>22.516824</td>\n",
       "      <td>24.997939</td>\n",
       "      <td>15.808171</td>\n",
       "      <td>9.856233</td>\n",
       "      <td>57.496939</td>\n",
       "      <td>48.307171</td>\n",
       "      <td>42.355233</td>\n",
       "      <td>32.499000</td>\n",
       "    </tr>\n",
       "    <tr>\n",
       "      <th>20</th>\n",
       "      <td>2021-06-14</td>\n",
       "      <td>9.948020e+08</td>\n",
       "      <td>25.8081</td>\n",
       "      <td>630.25</td>\n",
       "      <td>42.673172</td>\n",
       "      <td>9.948018e+08</td>\n",
       "      <td>128165.0</td>\n",
       "      <td>31231834.70</td>\n",
       "      <td>20157097.64</td>\n",
       "      <td>4500000</td>\n",
       "      <td>...</td>\n",
       "      <td>9.856235</td>\n",
       "      <td>3.300776</td>\n",
       "      <td>22.507324</td>\n",
       "      <td>24.997944</td>\n",
       "      <td>15.808174</td>\n",
       "      <td>9.856235</td>\n",
       "      <td>57.487335</td>\n",
       "      <td>48.297565</td>\n",
       "      <td>42.345626</td>\n",
       "      <td>32.489391</td>\n",
       "    </tr>\n",
       "    <tr>\n",
       "      <th>21</th>\n",
       "      <td>2021-07-14</td>\n",
       "      <td>9.948018e+08</td>\n",
       "      <td>25.8100</td>\n",
       "      <td>630.48</td>\n",
       "      <td>42.580006</td>\n",
       "      <td>9.947966e+08</td>\n",
       "      <td>128169.0</td>\n",
       "      <td>32765044.99</td>\n",
       "      <td>20621009.95</td>\n",
       "      <td>4500000</td>\n",
       "      <td>...</td>\n",
       "      <td>9.856286</td>\n",
       "      <td>3.300776</td>\n",
       "      <td>22.509224</td>\n",
       "      <td>24.998074</td>\n",
       "      <td>15.808256</td>\n",
       "      <td>9.856286</td>\n",
       "      <td>57.488849</td>\n",
       "      <td>48.299031</td>\n",
       "      <td>42.347061</td>\n",
       "      <td>32.490775</td>\n",
       "    </tr>\n",
       "    <tr>\n",
       "      <th>22</th>\n",
       "      <td>2021-08-16</td>\n",
       "      <td>9.947966e+08</td>\n",
       "      <td>25.8200</td>\n",
       "      <td>630.63</td>\n",
       "      <td>42.380000</td>\n",
       "      <td>9.947950e+08</td>\n",
       "      <td>128184.0</td>\n",
       "      <td>33600079.45</td>\n",
       "      <td>21118880.31</td>\n",
       "      <td>4500000</td>\n",
       "      <td>...</td>\n",
       "      <td>9.856302</td>\n",
       "      <td>3.300776</td>\n",
       "      <td>22.519224</td>\n",
       "      <td>24.998115</td>\n",
       "      <td>15.808282</td>\n",
       "      <td>9.856302</td>\n",
       "      <td>57.498778</td>\n",
       "      <td>48.308945</td>\n",
       "      <td>42.356965</td>\n",
       "      <td>32.500663</td>\n",
       "    </tr>\n",
       "    <tr>\n",
       "      <th>23</th>\n",
       "      <td>2021-09-14</td>\n",
       "      <td>9.947950e+08</td>\n",
       "      <td>25.8189</td>\n",
       "      <td>630.74</td>\n",
       "      <td>42.406457</td>\n",
       "      <td>9.947952e+08</td>\n",
       "      <td>128201.0</td>\n",
       "      <td>33431720.51</td>\n",
       "      <td>20597123.62</td>\n",
       "      <td>4500000</td>\n",
       "      <td>...</td>\n",
       "      <td>9.856300</td>\n",
       "      <td>3.300776</td>\n",
       "      <td>22.518124</td>\n",
       "      <td>24.998109</td>\n",
       "      <td>15.808278</td>\n",
       "      <td>9.856300</td>\n",
       "      <td>57.497710</td>\n",
       "      <td>48.307879</td>\n",
       "      <td>42.355901</td>\n",
       "      <td>32.499601</td>\n",
       "    </tr>\n",
       "    <tr>\n",
       "      <th>24</th>\n",
       "      <td>2021-10-14</td>\n",
       "      <td>9.947952e+08</td>\n",
       "      <td>25.8295</td>\n",
       "      <td>630.80</td>\n",
       "      <td>42.318299</td>\n",
       "      <td>9.947944e+08</td>\n",
       "      <td>128242.0</td>\n",
       "      <td>32704352.37</td>\n",
       "      <td>20711243.90</td>\n",
       "      <td>4500000</td>\n",
       "      <td>...</td>\n",
       "      <td>9.856308</td>\n",
       "      <td>3.300776</td>\n",
       "      <td>22.528724</td>\n",
       "      <td>24.998131</td>\n",
       "      <td>15.808292</td>\n",
       "      <td>9.856308</td>\n",
       "      <td>57.508242</td>\n",
       "      <td>48.318403</td>\n",
       "      <td>42.366419</td>\n",
       "      <td>32.510111</td>\n",
       "    </tr>\n",
       "    <tr>\n",
       "      <th>25</th>\n",
       "      <td>2021-11-15</td>\n",
       "      <td>9.947944e+08</td>\n",
       "      <td>25.7901</td>\n",
       "      <td>630.74</td>\n",
       "      <td>42.343255</td>\n",
       "      <td>9.948046e+08</td>\n",
       "      <td>128071.0</td>\n",
       "      <td>34138016.97</td>\n",
       "      <td>20850529.37</td>\n",
       "      <td>4500000</td>\n",
       "      <td>...</td>\n",
       "      <td>9.856207</td>\n",
       "      <td>3.300776</td>\n",
       "      <td>22.489324</td>\n",
       "      <td>24.997873</td>\n",
       "      <td>15.808129</td>\n",
       "      <td>9.856207</td>\n",
       "      <td>57.469625</td>\n",
       "      <td>48.279880</td>\n",
       "      <td>42.327958</td>\n",
       "      <td>32.471751</td>\n",
       "    </tr>\n",
       "    <tr>\n",
       "      <th>26</th>\n",
       "      <td>2021-12-14</td>\n",
       "      <td>9.948046e+08</td>\n",
       "      <td>25.7484</td>\n",
       "      <td>630.80</td>\n",
       "      <td>42.489710</td>\n",
       "      <td>9.948025e+08</td>\n",
       "      <td>127560.0</td>\n",
       "      <td>32114687.16</td>\n",
       "      <td>20277600.20</td>\n",
       "      <td>4500000</td>\n",
       "      <td>...</td>\n",
       "      <td>9.856228</td>\n",
       "      <td>3.300776</td>\n",
       "      <td>22.447624</td>\n",
       "      <td>24.997927</td>\n",
       "      <td>15.808163</td>\n",
       "      <td>9.856228</td>\n",
       "      <td>57.427660</td>\n",
       "      <td>48.237896</td>\n",
       "      <td>42.285961</td>\n",
       "      <td>32.429733</td>\n",
       "    </tr>\n",
       "    <tr>\n",
       "      <th>27</th>\n",
       "      <td>2022-01-14</td>\n",
       "      <td>9.948025e+08</td>\n",
       "      <td>25.7074</td>\n",
       "      <td>630.77</td>\n",
       "      <td>42.585680</td>\n",
       "      <td>9.947953e+08</td>\n",
       "      <td>127069.0</td>\n",
       "      <td>33243215.55</td>\n",
       "      <td>20480382.49</td>\n",
       "      <td>4500000</td>\n",
       "      <td>...</td>\n",
       "      <td>9.856299</td>\n",
       "      <td>3.300776</td>\n",
       "      <td>22.406624</td>\n",
       "      <td>24.998107</td>\n",
       "      <td>15.808277</td>\n",
       "      <td>9.856299</td>\n",
       "      <td>57.386144</td>\n",
       "      <td>48.196314</td>\n",
       "      <td>42.244336</td>\n",
       "      <td>32.388037</td>\n",
       "    </tr>\n",
       "    <tr>\n",
       "      <th>28</th>\n",
       "      <td>2022-02-14</td>\n",
       "      <td>9.947953e+08</td>\n",
       "      <td>25.7260</td>\n",
       "      <td>630.52</td>\n",
       "      <td>42.492300</td>\n",
       "      <td>9.948070e+08</td>\n",
       "      <td>127121.0</td>\n",
       "      <td>31647047.71</td>\n",
       "      <td>20540336.91</td>\n",
       "      <td>4500000</td>\n",
       "      <td>...</td>\n",
       "      <td>9.856183</td>\n",
       "      <td>3.300776</td>\n",
       "      <td>22.425224</td>\n",
       "      <td>24.997814</td>\n",
       "      <td>15.808091</td>\n",
       "      <td>9.856183</td>\n",
       "      <td>57.405695</td>\n",
       "      <td>48.215972</td>\n",
       "      <td>42.264064</td>\n",
       "      <td>32.407881</td>\n",
       "    </tr>\n",
       "    <tr>\n",
       "      <th>29</th>\n",
       "      <td>2022-03-14</td>\n",
       "      <td>9.948070e+08</td>\n",
       "      <td>25.7708</td>\n",
       "      <td>630.31</td>\n",
       "      <td>42.454711</td>\n",
       "      <td>9.947946e+08</td>\n",
       "      <td>127057.0</td>\n",
       "      <td>32416048.62</td>\n",
       "      <td>20342230.52</td>\n",
       "      <td>4500000</td>\n",
       "      <td>...</td>\n",
       "      <td>9.856306</td>\n",
       "      <td>3.300776</td>\n",
       "      <td>22.470024</td>\n",
       "      <td>24.998124</td>\n",
       "      <td>15.808288</td>\n",
       "      <td>9.856306</td>\n",
       "      <td>57.449445</td>\n",
       "      <td>48.259609</td>\n",
       "      <td>42.307627</td>\n",
       "      <td>32.451321</td>\n",
       "    </tr>\n",
       "    <tr>\n",
       "      <th>30</th>\n",
       "      <td>2022-04-14</td>\n",
       "      <td>9.947946e+08</td>\n",
       "      <td>25.7879</td>\n",
       "      <td>630.12</td>\n",
       "      <td>42.556154</td>\n",
       "      <td>9.948007e+08</td>\n",
       "      <td>126767.0</td>\n",
       "      <td>37656229.72</td>\n",
       "      <td>19818286.83</td>\n",
       "      <td>4500000</td>\n",
       "      <td>...</td>\n",
       "      <td>9.856246</td>\n",
       "      <td>3.300776</td>\n",
       "      <td>22.487124</td>\n",
       "      <td>24.997972</td>\n",
       "      <td>15.808191</td>\n",
       "      <td>9.856246</td>\n",
       "      <td>57.467127</td>\n",
       "      <td>48.277346</td>\n",
       "      <td>42.325400</td>\n",
       "      <td>32.469155</td>\n",
       "    </tr>\n",
       "    <tr>\n",
       "      <th>31</th>\n",
       "      <td>2022-05-16</td>\n",
       "      <td>9.948007e+08</td>\n",
       "      <td>25.7992</td>\n",
       "      <td>630.03</td>\n",
       "      <td>42.584987</td>\n",
       "      <td>9.947972e+08</td>\n",
       "      <td>126421.0</td>\n",
       "      <td>34346408.54</td>\n",
       "      <td>21056527.56</td>\n",
       "      <td>4500000</td>\n",
       "      <td>...</td>\n",
       "      <td>9.856280</td>\n",
       "      <td>3.300776</td>\n",
       "      <td>22.498424</td>\n",
       "      <td>24.998060</td>\n",
       "      <td>15.808247</td>\n",
       "      <td>9.856280</td>\n",
       "      <td>57.478102</td>\n",
       "      <td>48.288289</td>\n",
       "      <td>42.336322</td>\n",
       "      <td>32.480042</td>\n",
       "    </tr>\n",
       "    <tr>\n",
       "      <th>32</th>\n",
       "      <td>2022-06-14</td>\n",
       "      <td>9.947972e+08</td>\n",
       "      <td>25.8213</td>\n",
       "      <td>629.94</td>\n",
       "      <td>42.815324</td>\n",
       "      <td>9.947957e+08</td>\n",
       "      <td>125676.0</td>\n",
       "      <td>33036096.36</td>\n",
       "      <td>19927831.85</td>\n",
       "      <td>4500000</td>\n",
       "      <td>...</td>\n",
       "      <td>9.856295</td>\n",
       "      <td>3.300776</td>\n",
       "      <td>22.520524</td>\n",
       "      <td>24.998096</td>\n",
       "      <td>15.808270</td>\n",
       "      <td>9.856295</td>\n",
       "      <td>57.500127</td>\n",
       "      <td>48.310301</td>\n",
       "      <td>42.358325</td>\n",
       "      <td>32.502031</td>\n",
       "    </tr>\n",
       "    <tr>\n",
       "      <th>33</th>\n",
       "      <td>2022-07-14</td>\n",
       "      <td>9.947957e+08</td>\n",
       "      <td>25.8277</td>\n",
       "      <td>629.75</td>\n",
       "      <td>42.966718</td>\n",
       "      <td>9.947965e+08</td>\n",
       "      <td>125002.0</td>\n",
       "      <td>32534834.17</td>\n",
       "      <td>20418154.72</td>\n",
       "      <td>4500000</td>\n",
       "      <td>...</td>\n",
       "      <td>9.856288</td>\n",
       "      <td>3.300776</td>\n",
       "      <td>22.526924</td>\n",
       "      <td>24.998079</td>\n",
       "      <td>15.808259</td>\n",
       "      <td>9.856288</td>\n",
       "      <td>57.506595</td>\n",
       "      <td>48.316776</td>\n",
       "      <td>42.364804</td>\n",
       "      <td>32.508517</td>\n",
       "    </tr>\n",
       "    <tr>\n",
       "      <th>34</th>\n",
       "      <td>2022-08-15</td>\n",
       "      <td>9.947965e+08</td>\n",
       "      <td>25.7978</td>\n",
       "      <td>629.58</td>\n",
       "      <td>43.056918</td>\n",
       "      <td>9.947966e+08</td>\n",
       "      <td>124678.0</td>\n",
       "      <td>31480802.47</td>\n",
       "      <td>20402653.00</td>\n",
       "      <td>4500000</td>\n",
       "      <td>...</td>\n",
       "      <td>9.856286</td>\n",
       "      <td>3.300776</td>\n",
       "      <td>22.497024</td>\n",
       "      <td>24.998075</td>\n",
       "      <td>15.808257</td>\n",
       "      <td>9.856286</td>\n",
       "      <td>57.476700</td>\n",
       "      <td>48.286881</td>\n",
       "      <td>42.334911</td>\n",
       "      <td>32.478625</td>\n",
       "    </tr>\n",
       "    <tr>\n",
       "      <th>35</th>\n",
       "      <td>2022-09-14</td>\n",
       "      <td>9.947966e+08</td>\n",
       "      <td>25.7549</td>\n",
       "      <td>629.62</td>\n",
       "      <td>43.110943</td>\n",
       "      <td>9.947931e+08</td>\n",
       "      <td>124626.0</td>\n",
       "      <td>31116780.63</td>\n",
       "      <td>20295612.15</td>\n",
       "      <td>4500000</td>\n",
       "      <td>...</td>\n",
       "      <td>9.856321</td>\n",
       "      <td>3.300776</td>\n",
       "      <td>22.454124</td>\n",
       "      <td>24.998164</td>\n",
       "      <td>15.808313</td>\n",
       "      <td>9.856321</td>\n",
       "      <td>57.433531</td>\n",
       "      <td>48.243680</td>\n",
       "      <td>42.291689</td>\n",
       "      <td>32.435367</td>\n",
       "    </tr>\n",
       "    <tr>\n",
       "      <th>36</th>\n",
       "      <td>2022-10-14</td>\n",
       "      <td>9.947931e+08</td>\n",
       "      <td>25.7325</td>\n",
       "      <td>629.58</td>\n",
       "      <td>43.181346</td>\n",
       "      <td>9.948057e+08</td>\n",
       "      <td>124261.0</td>\n",
       "      <td>29599895.91</td>\n",
       "      <td>20847598.70</td>\n",
       "      <td>4500000</td>\n",
       "      <td>...</td>\n",
       "      <td>9.856196</td>\n",
       "      <td>3.300776</td>\n",
       "      <td>22.431724</td>\n",
       "      <td>24.997847</td>\n",
       "      <td>15.808112</td>\n",
       "      <td>9.856196</td>\n",
       "      <td>57.412117</td>\n",
       "      <td>48.222383</td>\n",
       "      <td>42.270467</td>\n",
       "      <td>32.414270</td>\n",
       "    </tr>\n",
       "    <tr>\n",
       "      <th>37</th>\n",
       "      <td>2022-11-14</td>\n",
       "      <td>9.948057e+08</td>\n",
       "      <td>25.7233</td>\n",
       "      <td>629.56</td>\n",
       "      <td>43.184169</td>\n",
       "      <td>9.947982e+08</td>\n",
       "      <td>124249.0</td>\n",
       "      <td>28361859.57</td>\n",
       "      <td>19654684.63</td>\n",
       "      <td>4500000</td>\n",
       "      <td>...</td>\n",
       "      <td>9.856271</td>\n",
       "      <td>3.300776</td>\n",
       "      <td>22.422524</td>\n",
       "      <td>24.998036</td>\n",
       "      <td>15.808232</td>\n",
       "      <td>9.856271</td>\n",
       "      <td>57.402223</td>\n",
       "      <td>48.212419</td>\n",
       "      <td>42.260458</td>\n",
       "      <td>32.404187</td>\n",
       "    </tr>\n",
       "    <tr>\n",
       "      <th>38</th>\n",
       "      <td>2022-12-14</td>\n",
       "      <td>9.947982e+08</td>\n",
       "      <td>25.7064</td>\n",
       "      <td>629.51</td>\n",
       "      <td>43.402606</td>\n",
       "      <td>9.947944e+08</td>\n",
       "      <td>123309.0</td>\n",
       "      <td>26462350.56</td>\n",
       "      <td>19746127.43</td>\n",
       "      <td>4500000</td>\n",
       "      <td>...</td>\n",
       "      <td>9.856308</td>\n",
       "      <td>3.300776</td>\n",
       "      <td>22.405624</td>\n",
       "      <td>24.998131</td>\n",
       "      <td>15.808292</td>\n",
       "      <td>9.856308</td>\n",
       "      <td>57.385113</td>\n",
       "      <td>48.195274</td>\n",
       "      <td>42.243290</td>\n",
       "      <td>32.386981</td>\n",
       "    </tr>\n",
       "    <tr>\n",
       "      <th>39</th>\n",
       "      <td>2023-01-17</td>\n",
       "      <td>9.947944e+08</td>\n",
       "      <td>25.6736</td>\n",
       "      <td>629.38</td>\n",
       "      <td>43.469387</td>\n",
       "      <td>9.948061e+08</td>\n",
       "      <td>122764.0</td>\n",
       "      <td>26450311.27</td>\n",
       "      <td>20049261.45</td>\n",
       "      <td>4500000</td>\n",
       "      <td>...</td>\n",
       "      <td>9.856192</td>\n",
       "      <td>3.300776</td>\n",
       "      <td>22.372824</td>\n",
       "      <td>24.997837</td>\n",
       "      <td>15.808106</td>\n",
       "      <td>9.856192</td>\n",
       "      <td>57.353235</td>\n",
       "      <td>48.163504</td>\n",
       "      <td>42.211591</td>\n",
       "      <td>32.355399</td>\n",
       "    </tr>\n",
       "    <tr>\n",
       "      <th>40</th>\n",
       "      <td>2023-02-14</td>\n",
       "      <td>9.948061e+08</td>\n",
       "      <td>25.6625</td>\n",
       "      <td>629.21</td>\n",
       "      <td>43.358973</td>\n",
       "      <td>9.947998e+08</td>\n",
       "      <td>122753.0</td>\n",
       "      <td>26429794.60</td>\n",
       "      <td>20053690.31</td>\n",
       "      <td>4500000</td>\n",
       "      <td>...</td>\n",
       "      <td>9.856255</td>\n",
       "      <td>3.300776</td>\n",
       "      <td>22.361724</td>\n",
       "      <td>24.997996</td>\n",
       "      <td>15.808207</td>\n",
       "      <td>9.856255</td>\n",
       "      <td>57.341540</td>\n",
       "      <td>48.151751</td>\n",
       "      <td>42.199799</td>\n",
       "      <td>32.343544</td>\n",
       "    </tr>\n",
       "    <tr>\n",
       "      <th>41</th>\n",
       "      <td>2023-03-14</td>\n",
       "      <td>9.947998e+08</td>\n",
       "      <td>25.6463</td>\n",
       "      <td>629.05</td>\n",
       "      <td>43.251859</td>\n",
       "      <td>9.948076e+08</td>\n",
       "      <td>122727.0</td>\n",
       "      <td>27607339.30</td>\n",
       "      <td>19923295.48</td>\n",
       "      <td>4500000</td>\n",
       "      <td>...</td>\n",
       "      <td>9.856177</td>\n",
       "      <td>3.300776</td>\n",
       "      <td>22.345524</td>\n",
       "      <td>24.997798</td>\n",
       "      <td>15.808082</td>\n",
       "      <td>9.856177</td>\n",
       "      <td>57.325997</td>\n",
       "      <td>48.136280</td>\n",
       "      <td>42.184376</td>\n",
       "      <td>32.328199</td>\n",
       "    </tr>\n",
       "    <tr>\n",
       "      <th>42</th>\n",
       "      <td>2023-04-14</td>\n",
       "      <td>9.948076e+08</td>\n",
       "      <td>25.6240</td>\n",
       "      <td>628.89</td>\n",
       "      <td>43.242493</td>\n",
       "      <td>9.947951e+08</td>\n",
       "      <td>122673.0</td>\n",
       "      <td>31176832.59</td>\n",
       "      <td>19974362.56</td>\n",
       "      <td>4500000</td>\n",
       "      <td>...</td>\n",
       "      <td>9.856302</td>\n",
       "      <td>3.300776</td>\n",
       "      <td>22.323224</td>\n",
       "      <td>24.998114</td>\n",
       "      <td>15.808281</td>\n",
       "      <td>9.856302</td>\n",
       "      <td>57.302670</td>\n",
       "      <td>48.112838</td>\n",
       "      <td>42.160858</td>\n",
       "      <td>32.304557</td>\n",
       "    </tr>\n",
       "    <tr>\n",
       "      <th>43</th>\n",
       "      <td>2023-05-15</td>\n",
       "      <td>9.947951e+08</td>\n",
       "      <td>25.5940</td>\n",
       "      <td>628.83</td>\n",
       "      <td>43.240201</td>\n",
       "      <td>9.947932e+08</td>\n",
       "      <td>122483.0</td>\n",
       "      <td>27130118.44</td>\n",
       "      <td>19749649.67</td>\n",
       "      <td>4500000</td>\n",
       "      <td>...</td>\n",
       "      <td>9.856320</td>\n",
       "      <td>3.300776</td>\n",
       "      <td>22.293224</td>\n",
       "      <td>24.998160</td>\n",
       "      <td>15.808310</td>\n",
       "      <td>9.856320</td>\n",
       "      <td>57.272658</td>\n",
       "      <td>48.082808</td>\n",
       "      <td>42.130817</td>\n",
       "      <td>32.274498</td>\n",
       "    </tr>\n",
       "    <tr>\n",
       "      <th>44</th>\n",
       "      <td>2023-06-14</td>\n",
       "      <td>9.947932e+08</td>\n",
       "      <td>25.5811</td>\n",
       "      <td>628.82</td>\n",
       "      <td>43.312221</td>\n",
       "      <td>9.948000e+08</td>\n",
       "      <td>122243.0</td>\n",
       "      <td>27483533.78</td>\n",
       "      <td>19502043.94</td>\n",
       "      <td>4500000</td>\n",
       "      <td>...</td>\n",
       "      <td>9.856253</td>\n",
       "      <td>3.300776</td>\n",
       "      <td>22.280324</td>\n",
       "      <td>24.997991</td>\n",
       "      <td>15.808203</td>\n",
       "      <td>9.856253</td>\n",
       "      <td>57.260284</td>\n",
       "      <td>48.070497</td>\n",
       "      <td>42.118547</td>\n",
       "      <td>32.262294</td>\n",
       "    </tr>\n",
       "    <tr>\n",
       "      <th>45</th>\n",
       "      <td>2023-07-14</td>\n",
       "      <td>9.948000e+08</td>\n",
       "      <td>25.5660</td>\n",
       "      <td>628.59</td>\n",
       "      <td>43.319593</td>\n",
       "      <td>9.947929e+08</td>\n",
       "      <td>122038.0</td>\n",
       "      <td>27178808.01</td>\n",
       "      <td>20525575.77</td>\n",
       "      <td>4500000</td>\n",
       "      <td>...</td>\n",
       "      <td>9.856323</td>\n",
       "      <td>3.300776</td>\n",
       "      <td>22.265224</td>\n",
       "      <td>24.998168</td>\n",
       "      <td>15.808315</td>\n",
       "      <td>9.856323</td>\n",
       "      <td>57.244585</td>\n",
       "      <td>48.054733</td>\n",
       "      <td>42.102740</td>\n",
       "      <td>32.246417</td>\n",
       "    </tr>\n",
       "    <tr>\n",
       "      <th>46</th>\n",
       "      <td>2023-08-14</td>\n",
       "      <td>9.947929e+08</td>\n",
       "      <td>25.5841</td>\n",
       "      <td>628.43</td>\n",
       "      <td>43.310952</td>\n",
       "      <td>9.947953e+08</td>\n",
       "      <td>122022.0</td>\n",
       "      <td>26199383.43</td>\n",
       "      <td>19282482.82</td>\n",
       "      <td>4500000</td>\n",
       "      <td>...</td>\n",
       "      <td>9.856299</td>\n",
       "      <td>3.300776</td>\n",
       "      <td>22.283324</td>\n",
       "      <td>24.998108</td>\n",
       "      <td>15.808277</td>\n",
       "      <td>9.856299</td>\n",
       "      <td>57.262936</td>\n",
       "      <td>48.073106</td>\n",
       "      <td>42.121127</td>\n",
       "      <td>32.264828</td>\n",
       "    </tr>\n",
       "    <tr>\n",
       "      <th>47</th>\n",
       "      <td>2023-09-14</td>\n",
       "      <td>9.947953e+08</td>\n",
       "      <td>25.6036</td>\n",
       "      <td>628.58</td>\n",
       "      <td>43.333592</td>\n",
       "      <td>9.947939e+08</td>\n",
       "      <td>122137.0</td>\n",
       "      <td>26545517.40</td>\n",
       "      <td>19821223.38</td>\n",
       "      <td>4500000</td>\n",
       "      <td>...</td>\n",
       "      <td>9.856313</td>\n",
       "      <td>3.300776</td>\n",
       "      <td>22.302824</td>\n",
       "      <td>24.998143</td>\n",
       "      <td>15.808299</td>\n",
       "      <td>9.856313</td>\n",
       "      <td>57.282308</td>\n",
       "      <td>48.092465</td>\n",
       "      <td>42.140478</td>\n",
       "      <td>32.284165</td>\n",
       "    </tr>\n",
       "    <tr>\n",
       "      <th>48</th>\n",
       "      <td>2023-10-16</td>\n",
       "      <td>9.947939e+08</td>\n",
       "      <td>25.6049</td>\n",
       "      <td>628.87</td>\n",
       "      <td>43.278203</td>\n",
       "      <td>9.947976e+08</td>\n",
       "      <td>122637.0</td>\n",
       "      <td>25971418.23</td>\n",
       "      <td>20232194.16</td>\n",
       "      <td>4500000</td>\n",
       "      <td>...</td>\n",
       "      <td>9.856276</td>\n",
       "      <td>3.300776</td>\n",
       "      <td>22.304124</td>\n",
       "      <td>24.998050</td>\n",
       "      <td>15.808241</td>\n",
       "      <td>9.856276</td>\n",
       "      <td>57.283899</td>\n",
       "      <td>48.094090</td>\n",
       "      <td>42.142125</td>\n",
       "      <td>32.285849</td>\n",
       "    </tr>\n",
       "  </tbody>\n",
       "</table>\n",
       "<p>49 rows × 45 columns</p>\n",
       "</div>"
      ],
      "text/plain": [
       "   payment_date       beg_bal      wac  wa_fico       wart  ending_balance  \\\n",
       "0    2019-10-15  9.473742e+08  26.9000   629.00  47.000000    9.474302e+08   \n",
       "1    2019-11-14  9.474302e+08  26.8690   628.73  47.143849    9.474250e+08   \n",
       "2    2019-12-16  9.474250e+08  26.8148   628.49  47.091538    9.474261e+08   \n",
       "3    2020-01-14  9.474261e+08  26.7715   628.29  46.898766    9.474281e+08   \n",
       "4    2020-02-14  9.474281e+08  26.7108   628.09  46.575797    9.474294e+08   \n",
       "5    2020-03-16  9.474294e+08  26.6160   627.89  46.255265    9.474349e+08   \n",
       "6    2020-04-14  9.474349e+08  26.5487   627.77  45.885982    9.474282e+08   \n",
       "7    2020-05-14  9.474282e+08  26.1735   627.50  45.929313    9.947993e+08   \n",
       "8    2020-06-15  9.947993e+08  25.9223   627.48  45.504034    9.947980e+08   \n",
       "9    2020-07-14  9.947980e+08  26.0488   627.68  45.133056    9.947959e+08   \n",
       "10   2020-08-14  9.947959e+08  26.1969   627.91  44.764131    9.947945e+08   \n",
       "11   2020-09-14  9.947945e+08  26.1979   628.16  44.440793    9.947987e+08   \n",
       "12   2020-10-14  9.947987e+08  26.1589   628.38  44.206667    9.947937e+08   \n",
       "13   2020-11-16  9.947937e+08  26.1047   628.65  43.944103    9.947953e+08   \n",
       "14   2020-12-14  9.947953e+08  26.0755   628.91  43.874407    9.947945e+08   \n",
       "15   2021-01-14  9.947945e+08  26.0177   629.16  43.755606    9.947949e+08   \n",
       "16   2021-02-16  9.947949e+08  25.9706   629.27  43.349367    9.947982e+08   \n",
       "17   2021-03-15  9.947982e+08  25.9281   629.47  43.151208    9.947971e+08   \n",
       "18   2021-04-14  9.947971e+08  25.8603   629.76  43.072368    9.947933e+08   \n",
       "19   2021-05-14  9.947933e+08  25.8176   630.03  42.799217    9.948020e+08   \n",
       "20   2021-06-14  9.948020e+08  25.8081   630.25  42.673172    9.948018e+08   \n",
       "21   2021-07-14  9.948018e+08  25.8100   630.48  42.580006    9.947966e+08   \n",
       "22   2021-08-16  9.947966e+08  25.8200   630.63  42.380000    9.947950e+08   \n",
       "23   2021-09-14  9.947950e+08  25.8189   630.74  42.406457    9.947952e+08   \n",
       "24   2021-10-14  9.947952e+08  25.8295   630.80  42.318299    9.947944e+08   \n",
       "25   2021-11-15  9.947944e+08  25.7901   630.74  42.343255    9.948046e+08   \n",
       "26   2021-12-14  9.948046e+08  25.7484   630.80  42.489710    9.948025e+08   \n",
       "27   2022-01-14  9.948025e+08  25.7074   630.77  42.585680    9.947953e+08   \n",
       "28   2022-02-14  9.947953e+08  25.7260   630.52  42.492300    9.948070e+08   \n",
       "29   2022-03-14  9.948070e+08  25.7708   630.31  42.454711    9.947946e+08   \n",
       "30   2022-04-14  9.947946e+08  25.7879   630.12  42.556154    9.948007e+08   \n",
       "31   2022-05-16  9.948007e+08  25.7992   630.03  42.584987    9.947972e+08   \n",
       "32   2022-06-14  9.947972e+08  25.8213   629.94  42.815324    9.947957e+08   \n",
       "33   2022-07-14  9.947957e+08  25.8277   629.75  42.966718    9.947965e+08   \n",
       "34   2022-08-15  9.947965e+08  25.7978   629.58  43.056918    9.947966e+08   \n",
       "35   2022-09-14  9.947966e+08  25.7549   629.62  43.110943    9.947931e+08   \n",
       "36   2022-10-14  9.947931e+08  25.7325   629.58  43.181346    9.948057e+08   \n",
       "37   2022-11-14  9.948057e+08  25.7233   629.56  43.184169    9.947982e+08   \n",
       "38   2022-12-14  9.947982e+08  25.7064   629.51  43.402606    9.947944e+08   \n",
       "39   2023-01-17  9.947944e+08  25.6736   629.38  43.469387    9.948061e+08   \n",
       "40   2023-02-14  9.948061e+08  25.6625   629.21  43.358973    9.947998e+08   \n",
       "41   2023-03-14  9.947998e+08  25.6463   629.05  43.251859    9.948076e+08   \n",
       "42   2023-04-14  9.948076e+08  25.6240   628.89  43.242493    9.947951e+08   \n",
       "43   2023-05-15  9.947951e+08  25.5940   628.83  43.240201    9.947932e+08   \n",
       "44   2023-06-14  9.947932e+08  25.5811   628.82  43.312221    9.948000e+08   \n",
       "45   2023-07-14  9.948000e+08  25.5660   628.59  43.319593    9.947929e+08   \n",
       "46   2023-08-14  9.947929e+08  25.5841   628.43  43.310952    9.947953e+08   \n",
       "47   2023-09-14  9.947953e+08  25.6036   628.58  43.333592    9.947939e+08   \n",
       "48   2023-10-16  9.947939e+08  25.6049   628.87  43.278203    9.947976e+08   \n",
       "\n",
       "    num_loans  total_prin_coll  total_int_coll  reserve_acct_bal  ...  \\\n",
       "0    126478.0      21238282.59     20422691.08           4500000  ...   \n",
       "1    125787.0      23244260.58     20285276.13           4500000  ...   \n",
       "2    124616.0      21917157.92     20819435.76           4500000  ...   \n",
       "3    124101.0      21558623.72     19454255.41           4500000  ...   \n",
       "4    123814.0      22119150.17     21098722.08           4500000  ...   \n",
       "5    123437.0      23210406.20     20099411.73           4500000  ...   \n",
       "6    123667.0      23284459.01     18897837.31           4500000  ...   \n",
       "7    128450.0      22080028.05     19344946.61           4500000  ...   \n",
       "8    128628.0      25669886.34     20537830.07           4500000  ...   \n",
       "9    128909.0      27359920.41     20736804.90           4500000  ...   \n",
       "10   129133.0      27935604.56     21354872.76           4500000  ...   \n",
       "11   129340.0      26493420.75     20795942.78           4500000  ...   \n",
       "12   129238.0      26708516.82     20836664.06           4500000  ...   \n",
       "13   129296.0      28318981.73     21248037.36           4500000  ...   \n",
       "14   128761.0      25001964.92     20387940.33           4500000  ...   \n",
       "15   128457.0      26469674.72     20256004.36           4500000  ...   \n",
       "16   128963.0      27236539.61     21567725.84           4500000  ...   \n",
       "17   128681.0      28083461.70     20517323.57           4500000  ...   \n",
       "18   128054.0      37306773.37     20350238.78           4500000  ...   \n",
       "19   128095.0      34367389.87     21359310.37           4500000  ...   \n",
       "20   128165.0      31231834.70     20157097.64           4500000  ...   \n",
       "21   128169.0      32765044.99     20621009.95           4500000  ...   \n",
       "22   128184.0      33600079.45     21118880.31           4500000  ...   \n",
       "23   128201.0      33431720.51     20597123.62           4500000  ...   \n",
       "24   128242.0      32704352.37     20711243.90           4500000  ...   \n",
       "25   128071.0      34138016.97     20850529.37           4500000  ...   \n",
       "26   127560.0      32114687.16     20277600.20           4500000  ...   \n",
       "27   127069.0      33243215.55     20480382.49           4500000  ...   \n",
       "28   127121.0      31647047.71     20540336.91           4500000  ...   \n",
       "29   127057.0      32416048.62     20342230.52           4500000  ...   \n",
       "30   126767.0      37656229.72     19818286.83           4500000  ...   \n",
       "31   126421.0      34346408.54     21056527.56           4500000  ...   \n",
       "32   125676.0      33036096.36     19927831.85           4500000  ...   \n",
       "33   125002.0      32534834.17     20418154.72           4500000  ...   \n",
       "34   124678.0      31480802.47     20402653.00           4500000  ...   \n",
       "35   124626.0      31116780.63     20295612.15           4500000  ...   \n",
       "36   124261.0      29599895.91     20847598.70           4500000  ...   \n",
       "37   124249.0      28361859.57     19654684.63           4500000  ...   \n",
       "38   123309.0      26462350.56     19746127.43           4500000  ...   \n",
       "39   122764.0      26450311.27     20049261.45           4500000  ...   \n",
       "40   122753.0      26429794.60     20053690.31           4500000  ...   \n",
       "41   122727.0      27607339.30     19923295.48           4500000  ...   \n",
       "42   122673.0      31176832.59     19974362.56           4500000  ...   \n",
       "43   122483.0      27130118.44     19749649.67           4500000  ...   \n",
       "44   122243.0      27483533.78     19502043.94           4500000  ...   \n",
       "45   122038.0      27178808.01     20525575.77           4500000  ...   \n",
       "46   122022.0      26199383.43     19282482.82           4500000  ...   \n",
       "47   122137.0      26545517.40     19821223.38           4500000  ...   \n",
       "48   122637.0      25971418.23     20232194.16           4500000  ...   \n",
       "\n",
       "    class_d_pct_of_pool  bond_wac excess_spread  class_a_subordination  \\\n",
       "0             10.349048  3.300776     23.599224              26.247845   \n",
       "1             10.349104  3.300776     23.568224              26.247988   \n",
       "2             10.349092  3.300776     23.514024              26.247958   \n",
       "3             10.349071  3.300776     23.470724              26.247903   \n",
       "4             10.349056  3.300776     23.410024              26.247866   \n",
       "5             10.348996  3.300776     23.315224              26.247714   \n",
       "6             10.349069  3.300776     23.247924              26.247899   \n",
       "7              9.856259  3.300776     22.872724              24.998007   \n",
       "8              9.856272  3.300776     22.621524              24.998039   \n",
       "9              9.856293  3.300776     22.748024              24.998093   \n",
       "10             9.856307  3.300776     22.896124              24.998127   \n",
       "11             9.856265  3.300776     22.897124              24.998022   \n",
       "12             9.856315  3.300776     22.858124              24.998149   \n",
       "13             9.856299  3.300776     22.803924              24.998109   \n",
       "14             9.856307  3.300776     22.774724              24.998127   \n",
       "15             9.856303  3.300776     22.716924              24.998119   \n",
       "16             9.856271  3.300776     22.669824              24.998035   \n",
       "17             9.856282  3.300776     22.627324              24.998063   \n",
       "18             9.856319  3.300776     22.559524              24.998158   \n",
       "19             9.856233  3.300776     22.516824              24.997939   \n",
       "20             9.856235  3.300776     22.507324              24.997944   \n",
       "21             9.856286  3.300776     22.509224              24.998074   \n",
       "22             9.856302  3.300776     22.519224              24.998115   \n",
       "23             9.856300  3.300776     22.518124              24.998109   \n",
       "24             9.856308  3.300776     22.528724              24.998131   \n",
       "25             9.856207  3.300776     22.489324              24.997873   \n",
       "26             9.856228  3.300776     22.447624              24.997927   \n",
       "27             9.856299  3.300776     22.406624              24.998107   \n",
       "28             9.856183  3.300776     22.425224              24.997814   \n",
       "29             9.856306  3.300776     22.470024              24.998124   \n",
       "30             9.856246  3.300776     22.487124              24.997972   \n",
       "31             9.856280  3.300776     22.498424              24.998060   \n",
       "32             9.856295  3.300776     22.520524              24.998096   \n",
       "33             9.856288  3.300776     22.526924              24.998079   \n",
       "34             9.856286  3.300776     22.497024              24.998075   \n",
       "35             9.856321  3.300776     22.454124              24.998164   \n",
       "36             9.856196  3.300776     22.431724              24.997847   \n",
       "37             9.856271  3.300776     22.422524              24.998036   \n",
       "38             9.856308  3.300776     22.405624              24.998131   \n",
       "39             9.856192  3.300776     22.372824              24.997837   \n",
       "40             9.856255  3.300776     22.361724              24.997996   \n",
       "41             9.856177  3.300776     22.345524              24.997798   \n",
       "42             9.856302  3.300776     22.323224              24.998114   \n",
       "43             9.856320  3.300776     22.293224              24.998160   \n",
       "44             9.856253  3.300776     22.280324              24.997991   \n",
       "45             9.856323  3.300776     22.265224              24.998168   \n",
       "46             9.856299  3.300776     22.283324              24.998108   \n",
       "47             9.856313  3.300776     22.302824              24.998143   \n",
       "48             9.856276  3.300776     22.304124              24.998050   \n",
       "\n",
       "    class_b_subordination  class_c_subordination  class_a_ce  class_b_ce  \\\n",
       "0               16.598585              10.349048   55.328553   45.679293   \n",
       "1               16.598676              10.349104   55.296826   45.647514   \n",
       "2               16.598656              10.349092   55.242742   45.593441   \n",
       "3               16.598622              10.349071   55.199589   45.550307   \n",
       "4               16.598598              10.349056   55.138983   45.489715   \n",
       "5               16.598502              10.348996   55.044602   45.395390   \n",
       "6               16.598619              10.349069   54.976750   45.327470   \n",
       "7               15.808213               9.856259   58.351664   49.161871   \n",
       "8               15.808234               9.856272   57.601279   48.411474   \n",
       "9               15.808268               9.856293   57.727630   48.537805   \n",
       "10              15.808290               9.856307   57.875648   48.685810   \n",
       "11              15.808223               9.856265   57.876979   48.687180   \n",
       "12              15.808303               9.856315   57.837555   48.647710   \n",
       "13              15.808278               9.856299   57.783526   48.593696   \n",
       "14              15.808290               9.856307   57.754255   48.564418   \n",
       "15              15.808284               9.856303   57.696487   48.506653   \n",
       "16              15.808232               9.856271   57.649634   48.459830   \n",
       "17              15.808249               9.856282   57.607017   48.417203   \n",
       "18              15.808309               9.856319   57.538944   48.349095   \n",
       "19              15.808171               9.856233   57.496939   48.307171   \n",
       "20              15.808174               9.856235   57.487335   48.297565   \n",
       "21              15.808256               9.856286   57.488849   48.299031   \n",
       "22              15.808282               9.856302   57.498778   48.308945   \n",
       "23              15.808278               9.856300   57.497710   48.307879   \n",
       "24              15.808292               9.856308   57.508242   48.318403   \n",
       "25              15.808129               9.856207   57.469625   48.279880   \n",
       "26              15.808163               9.856228   57.427660   48.237896   \n",
       "27              15.808277               9.856299   57.386144   48.196314   \n",
       "28              15.808091               9.856183   57.405695   48.215972   \n",
       "29              15.808288               9.856306   57.449445   48.259609   \n",
       "30              15.808191               9.856246   57.467127   48.277346   \n",
       "31              15.808247               9.856280   57.478102   48.288289   \n",
       "32              15.808270               9.856295   57.500127   48.310301   \n",
       "33              15.808259               9.856288   57.506595   48.316776   \n",
       "34              15.808257               9.856286   57.476700   48.286881   \n",
       "35              15.808313               9.856321   57.433531   48.243680   \n",
       "36              15.808112               9.856196   57.412117   48.222383   \n",
       "37              15.808232               9.856271   57.402223   48.212419   \n",
       "38              15.808292               9.856308   57.385113   48.195274   \n",
       "39              15.808106               9.856192   57.353235   48.163504   \n",
       "40              15.808207               9.856255   57.341540   48.151751   \n",
       "41              15.808082               9.856177   57.325997   48.136280   \n",
       "42              15.808281               9.856302   57.302670   48.112838   \n",
       "43              15.808310               9.856320   57.272658   48.082808   \n",
       "44              15.808203               9.856253   57.260284   48.070497   \n",
       "45              15.808315               9.856323   57.244585   48.054733   \n",
       "46              15.808277               9.856299   57.262936   48.073106   \n",
       "47              15.808299               9.856313   57.282308   48.092465   \n",
       "48              15.808241               9.856276   57.283899   48.094090   \n",
       "\n",
       "    class_c_ce  class_d_ce  \n",
       "0    39.429756   29.080708  \n",
       "1    39.397942   29.048838  \n",
       "2    39.343877   28.994785  \n",
       "3    39.300756   28.951685  \n",
       "4    39.240173   28.891117  \n",
       "5    39.145884   28.796888  \n",
       "6    39.077920   28.728851  \n",
       "7    43.209917   33.353658  \n",
       "8    42.459512   32.603240  \n",
       "9    42.585830   32.729537  \n",
       "10   42.733827   32.877520  \n",
       "11   42.735222   32.878957  \n",
       "12   42.695722   32.839406  \n",
       "13   42.641717   32.785418  \n",
       "14   42.612435   32.756128  \n",
       "15   42.554672   32.698369  \n",
       "16   42.507869   32.651599  \n",
       "17   42.465236   32.608954  \n",
       "18   42.397105   32.540786  \n",
       "19   42.355233   32.499000  \n",
       "20   42.345626   32.489391  \n",
       "21   42.347061   32.490775  \n",
       "22   42.356965   32.500663  \n",
       "23   42.355901   32.499601  \n",
       "24   42.366419   32.510111  \n",
       "25   42.327958   32.471751  \n",
       "26   42.285961   32.429733  \n",
       "27   42.244336   32.388037  \n",
       "28   42.264064   32.407881  \n",
       "29   42.307627   32.451321  \n",
       "30   42.325400   32.469155  \n",
       "31   42.336322   32.480042  \n",
       "32   42.358325   32.502031  \n",
       "33   42.364804   32.508517  \n",
       "34   42.334911   32.478625  \n",
       "35   42.291689   32.435367  \n",
       "36   42.270467   32.414270  \n",
       "37   42.260458   32.404187  \n",
       "38   42.243290   32.386981  \n",
       "39   42.211591   32.355399  \n",
       "40   42.199799   32.343544  \n",
       "41   42.184376   32.328199  \n",
       "42   42.160858   32.304557  \n",
       "43   42.130817   32.274498  \n",
       "44   42.118547   32.262294  \n",
       "45   42.102740   32.246417  \n",
       "46   42.121127   32.264828  \n",
       "47   42.140478   32.284165  \n",
       "48   42.142125   32.285849  \n",
       "\n",
       "[49 rows x 45 columns]"
      ]
     },
     "execution_count": 54,
     "metadata": {},
     "output_type": "execute_result"
    }
   ],
   "source": [
    "combined_df"
   ]
  },
  {
   "cell_type": "code",
   "execution_count": 55,
   "id": "f02c9b86",
   "metadata": {},
   "outputs": [],
   "source": [
    "import plotly.express as px\n",
    "import plotly.graph_objects as go\n",
    "from plotly.subplots import make_subplots"
   ]
  },
  {
   "cell_type": "code",
   "execution_count": 63,
   "id": "c146e611",
   "metadata": {},
   "outputs": [
    {
     "data": {
      "application/vnd.plotly.v1+json": {
       "config": {
        "plotlyServerURL": "https://plot.ly"
       },
       "data": [
        {
         "marker": {
          "color": "#ADD8E6"
         },
         "name": "Ending Balance",
         "type": "bar",
         "x": [
          "2019-10-15T00:00:00",
          "2019-11-14T00:00:00",
          "2019-12-16T00:00:00",
          "2020-01-14T00:00:00",
          "2020-02-14T00:00:00",
          "2020-03-16T00:00:00",
          "2020-04-14T00:00:00",
          "2020-05-14T00:00:00",
          "2020-06-15T00:00:00",
          "2020-07-14T00:00:00",
          "2020-08-14T00:00:00",
          "2020-09-14T00:00:00",
          "2020-10-14T00:00:00",
          "2020-11-16T00:00:00",
          "2020-12-14T00:00:00",
          "2021-01-14T00:00:00",
          "2021-02-16T00:00:00",
          "2021-03-15T00:00:00",
          "2021-04-14T00:00:00",
          "2021-05-14T00:00:00",
          "2021-06-14T00:00:00",
          "2021-07-14T00:00:00",
          "2021-08-16T00:00:00",
          "2021-09-14T00:00:00",
          "2021-10-14T00:00:00",
          "2021-11-15T00:00:00",
          "2021-12-14T00:00:00",
          "2022-01-14T00:00:00",
          "2022-02-14T00:00:00",
          "2022-03-14T00:00:00",
          "2022-04-14T00:00:00",
          "2022-05-16T00:00:00",
          "2022-06-14T00:00:00",
          "2022-07-14T00:00:00",
          "2022-08-15T00:00:00",
          "2022-09-14T00:00:00",
          "2022-10-14T00:00:00",
          "2022-11-14T00:00:00",
          "2022-12-14T00:00:00",
          "2023-01-17T00:00:00",
          "2023-02-14T00:00:00",
          "2023-03-14T00:00:00",
          "2023-04-14T00:00:00",
          "2023-05-15T00:00:00",
          "2023-06-14T00:00:00",
          "2023-07-14T00:00:00",
          "2023-08-14T00:00:00",
          "2023-09-14T00:00:00",
          "2023-10-16T00:00:00"
         ],
         "xaxis": "x",
         "y": [
          947430162.18,
          947424989.11,
          947426092.06,
          947428054.87,
          947429412.48,
          947434890.57,
          947428211.7,
          994799319.07,
          994798041.17,
          994795894.36,
          994794517.85,
          994798725.69,
          994793667.06,
          994795264.23,
          994794532.32,
          994794863.29,
          994798179.24,
          994797072.21,
          994793302.61,
          994802016.83,
          994801800.76,
          994796646.93,
          994795015.65,
          994795231.51,
          994794356.6,
          994804618.45,
          994802478.45,
          994795339.71,
          994807004.57,
          994794640.1,
          994800702.76,
          994797200.66,
          994795744.74,
          994796456.72,
          994796609.14,
          994793066.86,
          994805676.87,
          994798150.73,
          994794354.58,
          994806084.5,
          994799751.98,
          994807619.68,
          994795054.63,
          994793213.54,
          994799953.1,
          994792900.24,
          994795293.07,
          994793912.04,
          994797589.59
         ],
         "yaxis": "y"
        },
        {
         "line": {
          "color": "blue"
         },
         "name": "Interest Collections",
         "type": "scatter",
         "x": [
          "2019-10-15T00:00:00",
          "2019-11-14T00:00:00",
          "2019-12-16T00:00:00",
          "2020-01-14T00:00:00",
          "2020-02-14T00:00:00",
          "2020-03-16T00:00:00",
          "2020-04-14T00:00:00",
          "2020-05-14T00:00:00",
          "2020-06-15T00:00:00",
          "2020-07-14T00:00:00",
          "2020-08-14T00:00:00",
          "2020-09-14T00:00:00",
          "2020-10-14T00:00:00",
          "2020-11-16T00:00:00",
          "2020-12-14T00:00:00",
          "2021-01-14T00:00:00",
          "2021-02-16T00:00:00",
          "2021-03-15T00:00:00",
          "2021-04-14T00:00:00",
          "2021-05-14T00:00:00",
          "2021-06-14T00:00:00",
          "2021-07-14T00:00:00",
          "2021-08-16T00:00:00",
          "2021-09-14T00:00:00",
          "2021-10-14T00:00:00",
          "2021-11-15T00:00:00",
          "2021-12-14T00:00:00",
          "2022-01-14T00:00:00",
          "2022-02-14T00:00:00",
          "2022-03-14T00:00:00",
          "2022-04-14T00:00:00",
          "2022-05-16T00:00:00",
          "2022-06-14T00:00:00",
          "2022-07-14T00:00:00",
          "2022-08-15T00:00:00",
          "2022-09-14T00:00:00",
          "2022-10-14T00:00:00",
          "2022-11-14T00:00:00",
          "2022-12-14T00:00:00",
          "2023-01-17T00:00:00",
          "2023-02-14T00:00:00",
          "2023-03-14T00:00:00",
          "2023-04-14T00:00:00",
          "2023-05-15T00:00:00",
          "2023-06-14T00:00:00",
          "2023-07-14T00:00:00",
          "2023-08-14T00:00:00",
          "2023-09-14T00:00:00",
          "2023-10-16T00:00:00"
         ],
         "xaxis": "x",
         "y": [
          20422691.08,
          20285276.13,
          20819435.76,
          19454255.41,
          21098722.08,
          20099411.73,
          18897837.31,
          19344946.61,
          20537830.07,
          20736804.9,
          21354872.76,
          20795942.78,
          20836664.06,
          21248037.36,
          20387940.33,
          20256004.36,
          21567725.84,
          20517323.57,
          20350238.78,
          21359310.37,
          20157097.64,
          20621009.95,
          21118880.31,
          20597123.62,
          20711243.9,
          20850529.37,
          20277600.2,
          20480382.49,
          20540336.91,
          20342230.52,
          19818286.83,
          21056527.56,
          19927831.85,
          20418154.72,
          20402653,
          20295612.15,
          20847598.7,
          19654684.63,
          19746127.43,
          20049261.45,
          20053690.31,
          19923295.48,
          19974362.56,
          19749649.67,
          19502043.94,
          20525575.77,
          19282482.82,
          19821223.38,
          20232194.16
         ],
         "yaxis": "y2"
        },
        {
         "line": {
          "color": "red"
         },
         "name": "Principal Collections",
         "type": "scatter",
         "x": [
          "2019-10-15T00:00:00",
          "2019-11-14T00:00:00",
          "2019-12-16T00:00:00",
          "2020-01-14T00:00:00",
          "2020-02-14T00:00:00",
          "2020-03-16T00:00:00",
          "2020-04-14T00:00:00",
          "2020-05-14T00:00:00",
          "2020-06-15T00:00:00",
          "2020-07-14T00:00:00",
          "2020-08-14T00:00:00",
          "2020-09-14T00:00:00",
          "2020-10-14T00:00:00",
          "2020-11-16T00:00:00",
          "2020-12-14T00:00:00",
          "2021-01-14T00:00:00",
          "2021-02-16T00:00:00",
          "2021-03-15T00:00:00",
          "2021-04-14T00:00:00",
          "2021-05-14T00:00:00",
          "2021-06-14T00:00:00",
          "2021-07-14T00:00:00",
          "2021-08-16T00:00:00",
          "2021-09-14T00:00:00",
          "2021-10-14T00:00:00",
          "2021-11-15T00:00:00",
          "2021-12-14T00:00:00",
          "2022-01-14T00:00:00",
          "2022-02-14T00:00:00",
          "2022-03-14T00:00:00",
          "2022-04-14T00:00:00",
          "2022-05-16T00:00:00",
          "2022-06-14T00:00:00",
          "2022-07-14T00:00:00",
          "2022-08-15T00:00:00",
          "2022-09-14T00:00:00",
          "2022-10-14T00:00:00",
          "2022-11-14T00:00:00",
          "2022-12-14T00:00:00",
          "2023-01-17T00:00:00",
          "2023-02-14T00:00:00",
          "2023-03-14T00:00:00",
          "2023-04-14T00:00:00",
          "2023-05-15T00:00:00",
          "2023-06-14T00:00:00",
          "2023-07-14T00:00:00",
          "2023-08-14T00:00:00",
          "2023-09-14T00:00:00",
          "2023-10-16T00:00:00"
         ],
         "xaxis": "x",
         "y": [
          21238282.59,
          23244260.58,
          21917157.92,
          21558623.72,
          22119150.17,
          23210406.2,
          23284459.01,
          22080028.05,
          25669886.34,
          27359920.41,
          27935604.56,
          26493420.75,
          26708516.819999997,
          28318981.73,
          25001964.919999998,
          26469674.719999995,
          27236539.61,
          28083461.700000003,
          37306773.370000005,
          34367389.87,
          31231834.7,
          32765044.990000002,
          33600079.45,
          33431720.51,
          32704352.369999997,
          34138016.97,
          32114687.16,
          33243215.55,
          31647047.71,
          32416048.62,
          37656229.720000006,
          34346408.54,
          33036096.360000003,
          32534834.17,
          31480802.47,
          31116780.63,
          29599895.91,
          28361859.569999997,
          26462350.56,
          26450311.27,
          26429794.6,
          27607339.3,
          31176832.589999996,
          27130118.44,
          27483533.78,
          27178808.01,
          26199383.43,
          26545517.4,
          25971418.23
         ],
         "yaxis": "y2"
        },
        {
         "line": {
          "color": "green"
         },
         "name": "Total Collections",
         "type": "scatter",
         "x": [
          "2019-10-15T00:00:00",
          "2019-11-14T00:00:00",
          "2019-12-16T00:00:00",
          "2020-01-14T00:00:00",
          "2020-02-14T00:00:00",
          "2020-03-16T00:00:00",
          "2020-04-14T00:00:00",
          "2020-05-14T00:00:00",
          "2020-06-15T00:00:00",
          "2020-07-14T00:00:00",
          "2020-08-14T00:00:00",
          "2020-09-14T00:00:00",
          "2020-10-14T00:00:00",
          "2020-11-16T00:00:00",
          "2020-12-14T00:00:00",
          "2021-01-14T00:00:00",
          "2021-02-16T00:00:00",
          "2021-03-15T00:00:00",
          "2021-04-14T00:00:00",
          "2021-05-14T00:00:00",
          "2021-06-14T00:00:00",
          "2021-07-14T00:00:00",
          "2021-08-16T00:00:00",
          "2021-09-14T00:00:00",
          "2021-10-14T00:00:00",
          "2021-11-15T00:00:00",
          "2021-12-14T00:00:00",
          "2022-01-14T00:00:00",
          "2022-02-14T00:00:00",
          "2022-03-14T00:00:00",
          "2022-04-14T00:00:00",
          "2022-05-16T00:00:00",
          "2022-06-14T00:00:00",
          "2022-07-14T00:00:00",
          "2022-08-15T00:00:00",
          "2022-09-14T00:00:00",
          "2022-10-14T00:00:00",
          "2022-11-14T00:00:00",
          "2022-12-14T00:00:00",
          "2023-01-17T00:00:00",
          "2023-02-14T00:00:00",
          "2023-03-14T00:00:00",
          "2023-04-14T00:00:00",
          "2023-05-15T00:00:00",
          "2023-06-14T00:00:00",
          "2023-07-14T00:00:00",
          "2023-08-14T00:00:00",
          "2023-09-14T00:00:00",
          "2023-10-16T00:00:00"
         ],
         "xaxis": "x",
         "y": [
          41660973.67,
          43529536.70999999,
          42736593.68000001,
          41012879.129999995,
          43217872.25,
          43309817.93,
          42182296.32,
          41424974.66,
          46207716.41,
          48096725.31,
          49290477.32,
          47289363.53,
          47545180.879999995,
          49567019.09,
          45389905.25,
          46725679.08,
          48804265.45,
          48600785.27,
          57657012.150000006,
          55726700.239999995,
          51388932.34,
          53386054.94,
          54718959.760000005,
          54028844.13,
          53415596.269999996,
          54988546.34,
          52392287.36,
          53723598.04,
          52187384.620000005,
          52758279.14,
          57474516.550000004,
          55402936.099999994,
          52963928.21000001,
          52952988.89,
          51883455.47,
          51412392.78,
          50447494.61,
          48016544.199999996,
          46208477.989999995,
          46499572.72,
          46483484.91,
          47530634.78,
          51151195.14999999,
          46879768.11,
          46985577.72,
          47704383.78,
          45481866.25,
          46366740.78,
          46203612.39
         ],
         "yaxis": "y2"
        }
       ],
       "layout": {
        "template": {
         "data": {
          "bar": [
           {
            "error_x": {
             "color": "#2a3f5f"
            },
            "error_y": {
             "color": "#2a3f5f"
            },
            "marker": {
             "line": {
              "color": "#E5ECF6",
              "width": 0.5
             },
             "pattern": {
              "fillmode": "overlay",
              "size": 10,
              "solidity": 0.2
             }
            },
            "type": "bar"
           }
          ],
          "barpolar": [
           {
            "marker": {
             "line": {
              "color": "#E5ECF6",
              "width": 0.5
             },
             "pattern": {
              "fillmode": "overlay",
              "size": 10,
              "solidity": 0.2
             }
            },
            "type": "barpolar"
           }
          ],
          "carpet": [
           {
            "aaxis": {
             "endlinecolor": "#2a3f5f",
             "gridcolor": "white",
             "linecolor": "white",
             "minorgridcolor": "white",
             "startlinecolor": "#2a3f5f"
            },
            "baxis": {
             "endlinecolor": "#2a3f5f",
             "gridcolor": "white",
             "linecolor": "white",
             "minorgridcolor": "white",
             "startlinecolor": "#2a3f5f"
            },
            "type": "carpet"
           }
          ],
          "choropleth": [
           {
            "colorbar": {
             "outlinewidth": 0,
             "ticks": ""
            },
            "type": "choropleth"
           }
          ],
          "contour": [
           {
            "colorbar": {
             "outlinewidth": 0,
             "ticks": ""
            },
            "colorscale": [
             [
              0,
              "#0d0887"
             ],
             [
              0.1111111111111111,
              "#46039f"
             ],
             [
              0.2222222222222222,
              "#7201a8"
             ],
             [
              0.3333333333333333,
              "#9c179e"
             ],
             [
              0.4444444444444444,
              "#bd3786"
             ],
             [
              0.5555555555555556,
              "#d8576b"
             ],
             [
              0.6666666666666666,
              "#ed7953"
             ],
             [
              0.7777777777777778,
              "#fb9f3a"
             ],
             [
              0.8888888888888888,
              "#fdca26"
             ],
             [
              1,
              "#f0f921"
             ]
            ],
            "type": "contour"
           }
          ],
          "contourcarpet": [
           {
            "colorbar": {
             "outlinewidth": 0,
             "ticks": ""
            },
            "type": "contourcarpet"
           }
          ],
          "heatmap": [
           {
            "colorbar": {
             "outlinewidth": 0,
             "ticks": ""
            },
            "colorscale": [
             [
              0,
              "#0d0887"
             ],
             [
              0.1111111111111111,
              "#46039f"
             ],
             [
              0.2222222222222222,
              "#7201a8"
             ],
             [
              0.3333333333333333,
              "#9c179e"
             ],
             [
              0.4444444444444444,
              "#bd3786"
             ],
             [
              0.5555555555555556,
              "#d8576b"
             ],
             [
              0.6666666666666666,
              "#ed7953"
             ],
             [
              0.7777777777777778,
              "#fb9f3a"
             ],
             [
              0.8888888888888888,
              "#fdca26"
             ],
             [
              1,
              "#f0f921"
             ]
            ],
            "type": "heatmap"
           }
          ],
          "heatmapgl": [
           {
            "colorbar": {
             "outlinewidth": 0,
             "ticks": ""
            },
            "colorscale": [
             [
              0,
              "#0d0887"
             ],
             [
              0.1111111111111111,
              "#46039f"
             ],
             [
              0.2222222222222222,
              "#7201a8"
             ],
             [
              0.3333333333333333,
              "#9c179e"
             ],
             [
              0.4444444444444444,
              "#bd3786"
             ],
             [
              0.5555555555555556,
              "#d8576b"
             ],
             [
              0.6666666666666666,
              "#ed7953"
             ],
             [
              0.7777777777777778,
              "#fb9f3a"
             ],
             [
              0.8888888888888888,
              "#fdca26"
             ],
             [
              1,
              "#f0f921"
             ]
            ],
            "type": "heatmapgl"
           }
          ],
          "histogram": [
           {
            "marker": {
             "pattern": {
              "fillmode": "overlay",
              "size": 10,
              "solidity": 0.2
             }
            },
            "type": "histogram"
           }
          ],
          "histogram2d": [
           {
            "colorbar": {
             "outlinewidth": 0,
             "ticks": ""
            },
            "colorscale": [
             [
              0,
              "#0d0887"
             ],
             [
              0.1111111111111111,
              "#46039f"
             ],
             [
              0.2222222222222222,
              "#7201a8"
             ],
             [
              0.3333333333333333,
              "#9c179e"
             ],
             [
              0.4444444444444444,
              "#bd3786"
             ],
             [
              0.5555555555555556,
              "#d8576b"
             ],
             [
              0.6666666666666666,
              "#ed7953"
             ],
             [
              0.7777777777777778,
              "#fb9f3a"
             ],
             [
              0.8888888888888888,
              "#fdca26"
             ],
             [
              1,
              "#f0f921"
             ]
            ],
            "type": "histogram2d"
           }
          ],
          "histogram2dcontour": [
           {
            "colorbar": {
             "outlinewidth": 0,
             "ticks": ""
            },
            "colorscale": [
             [
              0,
              "#0d0887"
             ],
             [
              0.1111111111111111,
              "#46039f"
             ],
             [
              0.2222222222222222,
              "#7201a8"
             ],
             [
              0.3333333333333333,
              "#9c179e"
             ],
             [
              0.4444444444444444,
              "#bd3786"
             ],
             [
              0.5555555555555556,
              "#d8576b"
             ],
             [
              0.6666666666666666,
              "#ed7953"
             ],
             [
              0.7777777777777778,
              "#fb9f3a"
             ],
             [
              0.8888888888888888,
              "#fdca26"
             ],
             [
              1,
              "#f0f921"
             ]
            ],
            "type": "histogram2dcontour"
           }
          ],
          "mesh3d": [
           {
            "colorbar": {
             "outlinewidth": 0,
             "ticks": ""
            },
            "type": "mesh3d"
           }
          ],
          "parcoords": [
           {
            "line": {
             "colorbar": {
              "outlinewidth": 0,
              "ticks": ""
             }
            },
            "type": "parcoords"
           }
          ],
          "pie": [
           {
            "automargin": true,
            "type": "pie"
           }
          ],
          "scatter": [
           {
            "fillpattern": {
             "fillmode": "overlay",
             "size": 10,
             "solidity": 0.2
            },
            "type": "scatter"
           }
          ],
          "scatter3d": [
           {
            "line": {
             "colorbar": {
              "outlinewidth": 0,
              "ticks": ""
             }
            },
            "marker": {
             "colorbar": {
              "outlinewidth": 0,
              "ticks": ""
             }
            },
            "type": "scatter3d"
           }
          ],
          "scattercarpet": [
           {
            "marker": {
             "colorbar": {
              "outlinewidth": 0,
              "ticks": ""
             }
            },
            "type": "scattercarpet"
           }
          ],
          "scattergeo": [
           {
            "marker": {
             "colorbar": {
              "outlinewidth": 0,
              "ticks": ""
             }
            },
            "type": "scattergeo"
           }
          ],
          "scattergl": [
           {
            "marker": {
             "colorbar": {
              "outlinewidth": 0,
              "ticks": ""
             }
            },
            "type": "scattergl"
           }
          ],
          "scattermapbox": [
           {
            "marker": {
             "colorbar": {
              "outlinewidth": 0,
              "ticks": ""
             }
            },
            "type": "scattermapbox"
           }
          ],
          "scatterpolar": [
           {
            "marker": {
             "colorbar": {
              "outlinewidth": 0,
              "ticks": ""
             }
            },
            "type": "scatterpolar"
           }
          ],
          "scatterpolargl": [
           {
            "marker": {
             "colorbar": {
              "outlinewidth": 0,
              "ticks": ""
             }
            },
            "type": "scatterpolargl"
           }
          ],
          "scatterternary": [
           {
            "marker": {
             "colorbar": {
              "outlinewidth": 0,
              "ticks": ""
             }
            },
            "type": "scatterternary"
           }
          ],
          "surface": [
           {
            "colorbar": {
             "outlinewidth": 0,
             "ticks": ""
            },
            "colorscale": [
             [
              0,
              "#0d0887"
             ],
             [
              0.1111111111111111,
              "#46039f"
             ],
             [
              0.2222222222222222,
              "#7201a8"
             ],
             [
              0.3333333333333333,
              "#9c179e"
             ],
             [
              0.4444444444444444,
              "#bd3786"
             ],
             [
              0.5555555555555556,
              "#d8576b"
             ],
             [
              0.6666666666666666,
              "#ed7953"
             ],
             [
              0.7777777777777778,
              "#fb9f3a"
             ],
             [
              0.8888888888888888,
              "#fdca26"
             ],
             [
              1,
              "#f0f921"
             ]
            ],
            "type": "surface"
           }
          ],
          "table": [
           {
            "cells": {
             "fill": {
              "color": "#EBF0F8"
             },
             "line": {
              "color": "white"
             }
            },
            "header": {
             "fill": {
              "color": "#C8D4E3"
             },
             "line": {
              "color": "white"
             }
            },
            "type": "table"
           }
          ]
         },
         "layout": {
          "annotationdefaults": {
           "arrowcolor": "#2a3f5f",
           "arrowhead": 0,
           "arrowwidth": 1
          },
          "autotypenumbers": "strict",
          "coloraxis": {
           "colorbar": {
            "outlinewidth": 0,
            "ticks": ""
           }
          },
          "colorscale": {
           "diverging": [
            [
             0,
             "#8e0152"
            ],
            [
             0.1,
             "#c51b7d"
            ],
            [
             0.2,
             "#de77ae"
            ],
            [
             0.3,
             "#f1b6da"
            ],
            [
             0.4,
             "#fde0ef"
            ],
            [
             0.5,
             "#f7f7f7"
            ],
            [
             0.6,
             "#e6f5d0"
            ],
            [
             0.7,
             "#b8e186"
            ],
            [
             0.8,
             "#7fbc41"
            ],
            [
             0.9,
             "#4d9221"
            ],
            [
             1,
             "#276419"
            ]
           ],
           "sequential": [
            [
             0,
             "#0d0887"
            ],
            [
             0.1111111111111111,
             "#46039f"
            ],
            [
             0.2222222222222222,
             "#7201a8"
            ],
            [
             0.3333333333333333,
             "#9c179e"
            ],
            [
             0.4444444444444444,
             "#bd3786"
            ],
            [
             0.5555555555555556,
             "#d8576b"
            ],
            [
             0.6666666666666666,
             "#ed7953"
            ],
            [
             0.7777777777777778,
             "#fb9f3a"
            ],
            [
             0.8888888888888888,
             "#fdca26"
            ],
            [
             1,
             "#f0f921"
            ]
           ],
           "sequentialminus": [
            [
             0,
             "#0d0887"
            ],
            [
             0.1111111111111111,
             "#46039f"
            ],
            [
             0.2222222222222222,
             "#7201a8"
            ],
            [
             0.3333333333333333,
             "#9c179e"
            ],
            [
             0.4444444444444444,
             "#bd3786"
            ],
            [
             0.5555555555555556,
             "#d8576b"
            ],
            [
             0.6666666666666666,
             "#ed7953"
            ],
            [
             0.7777777777777778,
             "#fb9f3a"
            ],
            [
             0.8888888888888888,
             "#fdca26"
            ],
            [
             1,
             "#f0f921"
            ]
           ]
          },
          "colorway": [
           "#636efa",
           "#EF553B",
           "#00cc96",
           "#ab63fa",
           "#FFA15A",
           "#19d3f3",
           "#FF6692",
           "#B6E880",
           "#FF97FF",
           "#FECB52"
          ],
          "font": {
           "color": "#2a3f5f"
          },
          "geo": {
           "bgcolor": "white",
           "lakecolor": "white",
           "landcolor": "#E5ECF6",
           "showlakes": true,
           "showland": true,
           "subunitcolor": "white"
          },
          "hoverlabel": {
           "align": "left"
          },
          "hovermode": "closest",
          "mapbox": {
           "style": "light"
          },
          "paper_bgcolor": "white",
          "plot_bgcolor": "#E5ECF6",
          "polar": {
           "angularaxis": {
            "gridcolor": "white",
            "linecolor": "white",
            "ticks": ""
           },
           "bgcolor": "#E5ECF6",
           "radialaxis": {
            "gridcolor": "white",
            "linecolor": "white",
            "ticks": ""
           }
          },
          "scene": {
           "xaxis": {
            "backgroundcolor": "#E5ECF6",
            "gridcolor": "white",
            "gridwidth": 2,
            "linecolor": "white",
            "showbackground": true,
            "ticks": "",
            "zerolinecolor": "white"
           },
           "yaxis": {
            "backgroundcolor": "#E5ECF6",
            "gridcolor": "white",
            "gridwidth": 2,
            "linecolor": "white",
            "showbackground": true,
            "ticks": "",
            "zerolinecolor": "white"
           },
           "zaxis": {
            "backgroundcolor": "#E5ECF6",
            "gridcolor": "white",
            "gridwidth": 2,
            "linecolor": "white",
            "showbackground": true,
            "ticks": "",
            "zerolinecolor": "white"
           }
          },
          "shapedefaults": {
           "line": {
            "color": "#2a3f5f"
           }
          },
          "ternary": {
           "aaxis": {
            "gridcolor": "white",
            "linecolor": "white",
            "ticks": ""
           },
           "baxis": {
            "gridcolor": "white",
            "linecolor": "white",
            "ticks": ""
           },
           "bgcolor": "#E5ECF6",
           "caxis": {
            "gridcolor": "white",
            "linecolor": "white",
            "ticks": ""
           }
          },
          "title": {
           "x": 0.05
          },
          "xaxis": {
           "automargin": true,
           "gridcolor": "white",
           "linecolor": "white",
           "ticks": "",
           "title": {
            "standoff": 15
           },
           "zerolinecolor": "white",
           "zerolinewidth": 2
          },
          "yaxis": {
           "automargin": true,
           "gridcolor": "white",
           "linecolor": "white",
           "ticks": "",
           "title": {
            "standoff": 15
           },
           "zerolinecolor": "white",
           "zerolinewidth": 2
          }
         }
        },
        "title": {
         "text": "Balance and Collections"
        },
        "xaxis": {
         "anchor": "y",
         "domain": [
          0,
          0.94
         ],
         "title": {
          "text": "Payment Date"
         }
        },
        "yaxis": {
         "anchor": "x",
         "domain": [
          0,
          1
         ],
         "title": {
          "text": "<b>Ending Balance</b>"
         }
        },
        "yaxis2": {
         "anchor": "x",
         "overlaying": "y",
         "side": "right",
         "title": {
          "text": "<b>Collections</b>"
         }
        }
       }
      },
      "text/html": [
       "<div>                            <div id=\"365e50c4-e98b-4052-b2ed-218470f620a4\" class=\"plotly-graph-div\" style=\"height:525px; width:100%;\"></div>            <script type=\"text/javascript\">                require([\"plotly\"], function(Plotly) {                    window.PLOTLYENV=window.PLOTLYENV || {};                                    if (document.getElementById(\"365e50c4-e98b-4052-b2ed-218470f620a4\")) {                    Plotly.newPlot(                        \"365e50c4-e98b-4052-b2ed-218470f620a4\",                        [{\"name\":\"Ending Balance\",\"x\":[\"2019-10-15T00:00:00\",\"2019-11-14T00:00:00\",\"2019-12-16T00:00:00\",\"2020-01-14T00:00:00\",\"2020-02-14T00:00:00\",\"2020-03-16T00:00:00\",\"2020-04-14T00:00:00\",\"2020-05-14T00:00:00\",\"2020-06-15T00:00:00\",\"2020-07-14T00:00:00\",\"2020-08-14T00:00:00\",\"2020-09-14T00:00:00\",\"2020-10-14T00:00:00\",\"2020-11-16T00:00:00\",\"2020-12-14T00:00:00\",\"2021-01-14T00:00:00\",\"2021-02-16T00:00:00\",\"2021-03-15T00:00:00\",\"2021-04-14T00:00:00\",\"2021-05-14T00:00:00\",\"2021-06-14T00:00:00\",\"2021-07-14T00:00:00\",\"2021-08-16T00:00:00\",\"2021-09-14T00:00:00\",\"2021-10-14T00:00:00\",\"2021-11-15T00:00:00\",\"2021-12-14T00:00:00\",\"2022-01-14T00:00:00\",\"2022-02-14T00:00:00\",\"2022-03-14T00:00:00\",\"2022-04-14T00:00:00\",\"2022-05-16T00:00:00\",\"2022-06-14T00:00:00\",\"2022-07-14T00:00:00\",\"2022-08-15T00:00:00\",\"2022-09-14T00:00:00\",\"2022-10-14T00:00:00\",\"2022-11-14T00:00:00\",\"2022-12-14T00:00:00\",\"2023-01-17T00:00:00\",\"2023-02-14T00:00:00\",\"2023-03-14T00:00:00\",\"2023-04-14T00:00:00\",\"2023-05-15T00:00:00\",\"2023-06-14T00:00:00\",\"2023-07-14T00:00:00\",\"2023-08-14T00:00:00\",\"2023-09-14T00:00:00\",\"2023-10-16T00:00:00\"],\"y\":[947430162.18,947424989.11,947426092.06,947428054.87,947429412.48,947434890.57,947428211.7,994799319.07,994798041.17,994795894.36,994794517.85,994798725.69,994793667.06,994795264.23,994794532.32,994794863.29,994798179.24,994797072.21,994793302.61,994802016.83,994801800.76,994796646.93,994795015.65,994795231.51,994794356.6,994804618.45,994802478.45,994795339.71,994807004.57,994794640.1,994800702.76,994797200.66,994795744.74,994796456.72,994796609.14,994793066.86,994805676.87,994798150.73,994794354.58,994806084.5,994799751.98,994807619.68,994795054.63,994793213.54,994799953.1,994792900.24,994795293.07,994793912.04,994797589.59],\"type\":\"bar\",\"xaxis\":\"x\",\"yaxis\":\"y\",\"marker\":{\"color\":\"#ADD8E6\"}},{\"line\":{\"color\":\"blue\"},\"name\":\"Interest Collections\",\"x\":[\"2019-10-15T00:00:00\",\"2019-11-14T00:00:00\",\"2019-12-16T00:00:00\",\"2020-01-14T00:00:00\",\"2020-02-14T00:00:00\",\"2020-03-16T00:00:00\",\"2020-04-14T00:00:00\",\"2020-05-14T00:00:00\",\"2020-06-15T00:00:00\",\"2020-07-14T00:00:00\",\"2020-08-14T00:00:00\",\"2020-09-14T00:00:00\",\"2020-10-14T00:00:00\",\"2020-11-16T00:00:00\",\"2020-12-14T00:00:00\",\"2021-01-14T00:00:00\",\"2021-02-16T00:00:00\",\"2021-03-15T00:00:00\",\"2021-04-14T00:00:00\",\"2021-05-14T00:00:00\",\"2021-06-14T00:00:00\",\"2021-07-14T00:00:00\",\"2021-08-16T00:00:00\",\"2021-09-14T00:00:00\",\"2021-10-14T00:00:00\",\"2021-11-15T00:00:00\",\"2021-12-14T00:00:00\",\"2022-01-14T00:00:00\",\"2022-02-14T00:00:00\",\"2022-03-14T00:00:00\",\"2022-04-14T00:00:00\",\"2022-05-16T00:00:00\",\"2022-06-14T00:00:00\",\"2022-07-14T00:00:00\",\"2022-08-15T00:00:00\",\"2022-09-14T00:00:00\",\"2022-10-14T00:00:00\",\"2022-11-14T00:00:00\",\"2022-12-14T00:00:00\",\"2023-01-17T00:00:00\",\"2023-02-14T00:00:00\",\"2023-03-14T00:00:00\",\"2023-04-14T00:00:00\",\"2023-05-15T00:00:00\",\"2023-06-14T00:00:00\",\"2023-07-14T00:00:00\",\"2023-08-14T00:00:00\",\"2023-09-14T00:00:00\",\"2023-10-16T00:00:00\"],\"y\":[20422691.08,20285276.13,20819435.76,19454255.41,21098722.08,20099411.73,18897837.31,19344946.61,20537830.07,20736804.9,21354872.76,20795942.78,20836664.06,21248037.36,20387940.33,20256004.36,21567725.84,20517323.57,20350238.78,21359310.37,20157097.64,20621009.95,21118880.31,20597123.62,20711243.9,20850529.37,20277600.2,20480382.49,20540336.91,20342230.52,19818286.83,21056527.56,19927831.85,20418154.72,20402653.0,20295612.15,20847598.7,19654684.63,19746127.43,20049261.45,20053690.31,19923295.48,19974362.56,19749649.67,19502043.94,20525575.77,19282482.82,19821223.38,20232194.16],\"type\":\"scatter\",\"xaxis\":\"x\",\"yaxis\":\"y2\"},{\"line\":{\"color\":\"red\"},\"name\":\"Principal Collections\",\"x\":[\"2019-10-15T00:00:00\",\"2019-11-14T00:00:00\",\"2019-12-16T00:00:00\",\"2020-01-14T00:00:00\",\"2020-02-14T00:00:00\",\"2020-03-16T00:00:00\",\"2020-04-14T00:00:00\",\"2020-05-14T00:00:00\",\"2020-06-15T00:00:00\",\"2020-07-14T00:00:00\",\"2020-08-14T00:00:00\",\"2020-09-14T00:00:00\",\"2020-10-14T00:00:00\",\"2020-11-16T00:00:00\",\"2020-12-14T00:00:00\",\"2021-01-14T00:00:00\",\"2021-02-16T00:00:00\",\"2021-03-15T00:00:00\",\"2021-04-14T00:00:00\",\"2021-05-14T00:00:00\",\"2021-06-14T00:00:00\",\"2021-07-14T00:00:00\",\"2021-08-16T00:00:00\",\"2021-09-14T00:00:00\",\"2021-10-14T00:00:00\",\"2021-11-15T00:00:00\",\"2021-12-14T00:00:00\",\"2022-01-14T00:00:00\",\"2022-02-14T00:00:00\",\"2022-03-14T00:00:00\",\"2022-04-14T00:00:00\",\"2022-05-16T00:00:00\",\"2022-06-14T00:00:00\",\"2022-07-14T00:00:00\",\"2022-08-15T00:00:00\",\"2022-09-14T00:00:00\",\"2022-10-14T00:00:00\",\"2022-11-14T00:00:00\",\"2022-12-14T00:00:00\",\"2023-01-17T00:00:00\",\"2023-02-14T00:00:00\",\"2023-03-14T00:00:00\",\"2023-04-14T00:00:00\",\"2023-05-15T00:00:00\",\"2023-06-14T00:00:00\",\"2023-07-14T00:00:00\",\"2023-08-14T00:00:00\",\"2023-09-14T00:00:00\",\"2023-10-16T00:00:00\"],\"y\":[21238282.59,23244260.58,21917157.92,21558623.72,22119150.17,23210406.2,23284459.01,22080028.05,25669886.34,27359920.41,27935604.56,26493420.75,26708516.819999997,28318981.73,25001964.919999998,26469674.719999995,27236539.61,28083461.700000003,37306773.370000005,34367389.87,31231834.7,32765044.990000002,33600079.45,33431720.51,32704352.369999997,34138016.97,32114687.16,33243215.55,31647047.71,32416048.62,37656229.720000006,34346408.54,33036096.360000003,32534834.17,31480802.47,31116780.63,29599895.91,28361859.569999997,26462350.56,26450311.27,26429794.6,27607339.3,31176832.589999996,27130118.44,27483533.78,27178808.01,26199383.43,26545517.4,25971418.23],\"type\":\"scatter\",\"xaxis\":\"x\",\"yaxis\":\"y2\"},{\"line\":{\"color\":\"green\"},\"name\":\"Total Collections\",\"x\":[\"2019-10-15T00:00:00\",\"2019-11-14T00:00:00\",\"2019-12-16T00:00:00\",\"2020-01-14T00:00:00\",\"2020-02-14T00:00:00\",\"2020-03-16T00:00:00\",\"2020-04-14T00:00:00\",\"2020-05-14T00:00:00\",\"2020-06-15T00:00:00\",\"2020-07-14T00:00:00\",\"2020-08-14T00:00:00\",\"2020-09-14T00:00:00\",\"2020-10-14T00:00:00\",\"2020-11-16T00:00:00\",\"2020-12-14T00:00:00\",\"2021-01-14T00:00:00\",\"2021-02-16T00:00:00\",\"2021-03-15T00:00:00\",\"2021-04-14T00:00:00\",\"2021-05-14T00:00:00\",\"2021-06-14T00:00:00\",\"2021-07-14T00:00:00\",\"2021-08-16T00:00:00\",\"2021-09-14T00:00:00\",\"2021-10-14T00:00:00\",\"2021-11-15T00:00:00\",\"2021-12-14T00:00:00\",\"2022-01-14T00:00:00\",\"2022-02-14T00:00:00\",\"2022-03-14T00:00:00\",\"2022-04-14T00:00:00\",\"2022-05-16T00:00:00\",\"2022-06-14T00:00:00\",\"2022-07-14T00:00:00\",\"2022-08-15T00:00:00\",\"2022-09-14T00:00:00\",\"2022-10-14T00:00:00\",\"2022-11-14T00:00:00\",\"2022-12-14T00:00:00\",\"2023-01-17T00:00:00\",\"2023-02-14T00:00:00\",\"2023-03-14T00:00:00\",\"2023-04-14T00:00:00\",\"2023-05-15T00:00:00\",\"2023-06-14T00:00:00\",\"2023-07-14T00:00:00\",\"2023-08-14T00:00:00\",\"2023-09-14T00:00:00\",\"2023-10-16T00:00:00\"],\"y\":[41660973.67,43529536.70999999,42736593.68000001,41012879.129999995,43217872.25,43309817.93,42182296.32,41424974.66,46207716.41,48096725.31,49290477.32,47289363.53,47545180.879999995,49567019.09,45389905.25,46725679.08,48804265.45,48600785.27,57657012.150000006,55726700.239999995,51388932.34,53386054.94,54718959.760000005,54028844.13,53415596.269999996,54988546.34,52392287.36,53723598.04,52187384.620000005,52758279.14,57474516.550000004,55402936.099999994,52963928.21000001,52952988.89,51883455.47,51412392.78,50447494.61,48016544.199999996,46208477.989999995,46499572.72,46483484.91,47530634.78,51151195.14999999,46879768.11,46985577.72,47704383.78,45481866.25,46366740.78,46203612.39],\"type\":\"scatter\",\"xaxis\":\"x\",\"yaxis\":\"y2\"}],                        {\"template\":{\"data\":{\"histogram2dcontour\":[{\"type\":\"histogram2dcontour\",\"colorbar\":{\"outlinewidth\":0,\"ticks\":\"\"},\"colorscale\":[[0.0,\"#0d0887\"],[0.1111111111111111,\"#46039f\"],[0.2222222222222222,\"#7201a8\"],[0.3333333333333333,\"#9c179e\"],[0.4444444444444444,\"#bd3786\"],[0.5555555555555556,\"#d8576b\"],[0.6666666666666666,\"#ed7953\"],[0.7777777777777778,\"#fb9f3a\"],[0.8888888888888888,\"#fdca26\"],[1.0,\"#f0f921\"]]}],\"choropleth\":[{\"type\":\"choropleth\",\"colorbar\":{\"outlinewidth\":0,\"ticks\":\"\"}}],\"histogram2d\":[{\"type\":\"histogram2d\",\"colorbar\":{\"outlinewidth\":0,\"ticks\":\"\"},\"colorscale\":[[0.0,\"#0d0887\"],[0.1111111111111111,\"#46039f\"],[0.2222222222222222,\"#7201a8\"],[0.3333333333333333,\"#9c179e\"],[0.4444444444444444,\"#bd3786\"],[0.5555555555555556,\"#d8576b\"],[0.6666666666666666,\"#ed7953\"],[0.7777777777777778,\"#fb9f3a\"],[0.8888888888888888,\"#fdca26\"],[1.0,\"#f0f921\"]]}],\"heatmap\":[{\"type\":\"heatmap\",\"colorbar\":{\"outlinewidth\":0,\"ticks\":\"\"},\"colorscale\":[[0.0,\"#0d0887\"],[0.1111111111111111,\"#46039f\"],[0.2222222222222222,\"#7201a8\"],[0.3333333333333333,\"#9c179e\"],[0.4444444444444444,\"#bd3786\"],[0.5555555555555556,\"#d8576b\"],[0.6666666666666666,\"#ed7953\"],[0.7777777777777778,\"#fb9f3a\"],[0.8888888888888888,\"#fdca26\"],[1.0,\"#f0f921\"]]}],\"heatmapgl\":[{\"type\":\"heatmapgl\",\"colorbar\":{\"outlinewidth\":0,\"ticks\":\"\"},\"colorscale\":[[0.0,\"#0d0887\"],[0.1111111111111111,\"#46039f\"],[0.2222222222222222,\"#7201a8\"],[0.3333333333333333,\"#9c179e\"],[0.4444444444444444,\"#bd3786\"],[0.5555555555555556,\"#d8576b\"],[0.6666666666666666,\"#ed7953\"],[0.7777777777777778,\"#fb9f3a\"],[0.8888888888888888,\"#fdca26\"],[1.0,\"#f0f921\"]]}],\"contourcarpet\":[{\"type\":\"contourcarpet\",\"colorbar\":{\"outlinewidth\":0,\"ticks\":\"\"}}],\"contour\":[{\"type\":\"contour\",\"colorbar\":{\"outlinewidth\":0,\"ticks\":\"\"},\"colorscale\":[[0.0,\"#0d0887\"],[0.1111111111111111,\"#46039f\"],[0.2222222222222222,\"#7201a8\"],[0.3333333333333333,\"#9c179e\"],[0.4444444444444444,\"#bd3786\"],[0.5555555555555556,\"#d8576b\"],[0.6666666666666666,\"#ed7953\"],[0.7777777777777778,\"#fb9f3a\"],[0.8888888888888888,\"#fdca26\"],[1.0,\"#f0f921\"]]}],\"surface\":[{\"type\":\"surface\",\"colorbar\":{\"outlinewidth\":0,\"ticks\":\"\"},\"colorscale\":[[0.0,\"#0d0887\"],[0.1111111111111111,\"#46039f\"],[0.2222222222222222,\"#7201a8\"],[0.3333333333333333,\"#9c179e\"],[0.4444444444444444,\"#bd3786\"],[0.5555555555555556,\"#d8576b\"],[0.6666666666666666,\"#ed7953\"],[0.7777777777777778,\"#fb9f3a\"],[0.8888888888888888,\"#fdca26\"],[1.0,\"#f0f921\"]]}],\"mesh3d\":[{\"type\":\"mesh3d\",\"colorbar\":{\"outlinewidth\":0,\"ticks\":\"\"}}],\"scatter\":[{\"fillpattern\":{\"fillmode\":\"overlay\",\"size\":10,\"solidity\":0.2},\"type\":\"scatter\"}],\"parcoords\":[{\"type\":\"parcoords\",\"line\":{\"colorbar\":{\"outlinewidth\":0,\"ticks\":\"\"}}}],\"scatterpolargl\":[{\"type\":\"scatterpolargl\",\"marker\":{\"colorbar\":{\"outlinewidth\":0,\"ticks\":\"\"}}}],\"bar\":[{\"error_x\":{\"color\":\"#2a3f5f\"},\"error_y\":{\"color\":\"#2a3f5f\"},\"marker\":{\"line\":{\"color\":\"#E5ECF6\",\"width\":0.5},\"pattern\":{\"fillmode\":\"overlay\",\"size\":10,\"solidity\":0.2}},\"type\":\"bar\"}],\"scattergeo\":[{\"type\":\"scattergeo\",\"marker\":{\"colorbar\":{\"outlinewidth\":0,\"ticks\":\"\"}}}],\"scatterpolar\":[{\"type\":\"scatterpolar\",\"marker\":{\"colorbar\":{\"outlinewidth\":0,\"ticks\":\"\"}}}],\"histogram\":[{\"marker\":{\"pattern\":{\"fillmode\":\"overlay\",\"size\":10,\"solidity\":0.2}},\"type\":\"histogram\"}],\"scattergl\":[{\"type\":\"scattergl\",\"marker\":{\"colorbar\":{\"outlinewidth\":0,\"ticks\":\"\"}}}],\"scatter3d\":[{\"type\":\"scatter3d\",\"line\":{\"colorbar\":{\"outlinewidth\":0,\"ticks\":\"\"}},\"marker\":{\"colorbar\":{\"outlinewidth\":0,\"ticks\":\"\"}}}],\"scattermapbox\":[{\"type\":\"scattermapbox\",\"marker\":{\"colorbar\":{\"outlinewidth\":0,\"ticks\":\"\"}}}],\"scatterternary\":[{\"type\":\"scatterternary\",\"marker\":{\"colorbar\":{\"outlinewidth\":0,\"ticks\":\"\"}}}],\"scattercarpet\":[{\"type\":\"scattercarpet\",\"marker\":{\"colorbar\":{\"outlinewidth\":0,\"ticks\":\"\"}}}],\"carpet\":[{\"aaxis\":{\"endlinecolor\":\"#2a3f5f\",\"gridcolor\":\"white\",\"linecolor\":\"white\",\"minorgridcolor\":\"white\",\"startlinecolor\":\"#2a3f5f\"},\"baxis\":{\"endlinecolor\":\"#2a3f5f\",\"gridcolor\":\"white\",\"linecolor\":\"white\",\"minorgridcolor\":\"white\",\"startlinecolor\":\"#2a3f5f\"},\"type\":\"carpet\"}],\"table\":[{\"cells\":{\"fill\":{\"color\":\"#EBF0F8\"},\"line\":{\"color\":\"white\"}},\"header\":{\"fill\":{\"color\":\"#C8D4E3\"},\"line\":{\"color\":\"white\"}},\"type\":\"table\"}],\"barpolar\":[{\"marker\":{\"line\":{\"color\":\"#E5ECF6\",\"width\":0.5},\"pattern\":{\"fillmode\":\"overlay\",\"size\":10,\"solidity\":0.2}},\"type\":\"barpolar\"}],\"pie\":[{\"automargin\":true,\"type\":\"pie\"}]},\"layout\":{\"autotypenumbers\":\"strict\",\"colorway\":[\"#636efa\",\"#EF553B\",\"#00cc96\",\"#ab63fa\",\"#FFA15A\",\"#19d3f3\",\"#FF6692\",\"#B6E880\",\"#FF97FF\",\"#FECB52\"],\"font\":{\"color\":\"#2a3f5f\"},\"hovermode\":\"closest\",\"hoverlabel\":{\"align\":\"left\"},\"paper_bgcolor\":\"white\",\"plot_bgcolor\":\"#E5ECF6\",\"polar\":{\"bgcolor\":\"#E5ECF6\",\"angularaxis\":{\"gridcolor\":\"white\",\"linecolor\":\"white\",\"ticks\":\"\"},\"radialaxis\":{\"gridcolor\":\"white\",\"linecolor\":\"white\",\"ticks\":\"\"}},\"ternary\":{\"bgcolor\":\"#E5ECF6\",\"aaxis\":{\"gridcolor\":\"white\",\"linecolor\":\"white\",\"ticks\":\"\"},\"baxis\":{\"gridcolor\":\"white\",\"linecolor\":\"white\",\"ticks\":\"\"},\"caxis\":{\"gridcolor\":\"white\",\"linecolor\":\"white\",\"ticks\":\"\"}},\"coloraxis\":{\"colorbar\":{\"outlinewidth\":0,\"ticks\":\"\"}},\"colorscale\":{\"sequential\":[[0.0,\"#0d0887\"],[0.1111111111111111,\"#46039f\"],[0.2222222222222222,\"#7201a8\"],[0.3333333333333333,\"#9c179e\"],[0.4444444444444444,\"#bd3786\"],[0.5555555555555556,\"#d8576b\"],[0.6666666666666666,\"#ed7953\"],[0.7777777777777778,\"#fb9f3a\"],[0.8888888888888888,\"#fdca26\"],[1.0,\"#f0f921\"]],\"sequentialminus\":[[0.0,\"#0d0887\"],[0.1111111111111111,\"#46039f\"],[0.2222222222222222,\"#7201a8\"],[0.3333333333333333,\"#9c179e\"],[0.4444444444444444,\"#bd3786\"],[0.5555555555555556,\"#d8576b\"],[0.6666666666666666,\"#ed7953\"],[0.7777777777777778,\"#fb9f3a\"],[0.8888888888888888,\"#fdca26\"],[1.0,\"#f0f921\"]],\"diverging\":[[0,\"#8e0152\"],[0.1,\"#c51b7d\"],[0.2,\"#de77ae\"],[0.3,\"#f1b6da\"],[0.4,\"#fde0ef\"],[0.5,\"#f7f7f7\"],[0.6,\"#e6f5d0\"],[0.7,\"#b8e186\"],[0.8,\"#7fbc41\"],[0.9,\"#4d9221\"],[1,\"#276419\"]]},\"xaxis\":{\"gridcolor\":\"white\",\"linecolor\":\"white\",\"ticks\":\"\",\"title\":{\"standoff\":15},\"zerolinecolor\":\"white\",\"automargin\":true,\"zerolinewidth\":2},\"yaxis\":{\"gridcolor\":\"white\",\"linecolor\":\"white\",\"ticks\":\"\",\"title\":{\"standoff\":15},\"zerolinecolor\":\"white\",\"automargin\":true,\"zerolinewidth\":2},\"scene\":{\"xaxis\":{\"backgroundcolor\":\"#E5ECF6\",\"gridcolor\":\"white\",\"linecolor\":\"white\",\"showbackground\":true,\"ticks\":\"\",\"zerolinecolor\":\"white\",\"gridwidth\":2},\"yaxis\":{\"backgroundcolor\":\"#E5ECF6\",\"gridcolor\":\"white\",\"linecolor\":\"white\",\"showbackground\":true,\"ticks\":\"\",\"zerolinecolor\":\"white\",\"gridwidth\":2},\"zaxis\":{\"backgroundcolor\":\"#E5ECF6\",\"gridcolor\":\"white\",\"linecolor\":\"white\",\"showbackground\":true,\"ticks\":\"\",\"zerolinecolor\":\"white\",\"gridwidth\":2}},\"shapedefaults\":{\"line\":{\"color\":\"#2a3f5f\"}},\"annotationdefaults\":{\"arrowcolor\":\"#2a3f5f\",\"arrowhead\":0,\"arrowwidth\":1},\"geo\":{\"bgcolor\":\"white\",\"landcolor\":\"#E5ECF6\",\"subunitcolor\":\"white\",\"showland\":true,\"showlakes\":true,\"lakecolor\":\"white\"},\"title\":{\"x\":0.05},\"mapbox\":{\"style\":\"light\"}}},\"xaxis\":{\"anchor\":\"y\",\"domain\":[0.0,0.94],\"title\":{\"text\":\"Payment Date\"}},\"yaxis\":{\"anchor\":\"x\",\"domain\":[0.0,1.0],\"title\":{\"text\":\"<b>Ending Balance</b>\"}},\"yaxis2\":{\"anchor\":\"x\",\"overlaying\":\"y\",\"side\":\"right\",\"title\":{\"text\":\"<b>Collections</b>\"}},\"title\":{\"text\":\"Balance and Collections\"}},                        {\"responsive\": true}                    ).then(function(){\n",
       "                            \n",
       "var gd = document.getElementById('365e50c4-e98b-4052-b2ed-218470f620a4');\n",
       "var x = new MutationObserver(function (mutations, observer) {{\n",
       "        var display = window.getComputedStyle(gd).display;\n",
       "        if (!display || display === 'none') {{\n",
       "            console.log([gd, 'removed!']);\n",
       "            Plotly.purge(gd);\n",
       "            observer.disconnect();\n",
       "        }}\n",
       "}});\n",
       "\n",
       "// Listen for the removal of the full notebook cells\n",
       "var notebookContainer = gd.closest('#notebook-container');\n",
       "if (notebookContainer) {{\n",
       "    x.observe(notebookContainer, {childList: true});\n",
       "}}\n",
       "\n",
       "// Listen for the clearing of the current output cell\n",
       "var outputEl = gd.closest('.output');\n",
       "if (outputEl) {{\n",
       "    x.observe(outputEl, {childList: true});\n",
       "}}\n",
       "\n",
       "                        })                };                });            </script>        </div>"
      ]
     },
     "metadata": {},
     "output_type": "display_data"
    }
   ],
   "source": [
    "# Create figure with secondary y-axis\n",
    "fig = make_subplots(specs=[[{\"secondary_y\": True}]])\n",
    "\n",
    "# Add traces\n",
    "fig.add_trace(\n",
    "    go.Bar(x=combined_df['payment_date'], y=combined_df['ending_balance'], name=\"Ending Balance\"),\n",
    "    secondary_y=False,\n",
    ")\n",
    "fig.update_traces(marker_color='#ADD8E6')\n",
    "\n",
    "fig.add_trace(\n",
    "    go.Scatter(x=combined_df['payment_date'], y=combined_df['total_int_coll'], name=\"Interest Collections\", line_color='blue'),\n",
    "    secondary_y=True,\n",
    ")\n",
    "\n",
    "fig.add_trace(\n",
    "    go.Scatter(x=combined_df['payment_date'], y=combined_df['total_prin_coll'], name=\"Principal Collections\", line_color='red'),\n",
    "    secondary_y=True,\n",
    ")\n",
    "\n",
    "fig.add_trace(\n",
    "    go.Scatter(x=combined_df['payment_date'], y=combined_df['total_coll'], name=\"Total Collections\", line_color='green'),\n",
    "    secondary_y=True,\n",
    ")\n",
    "\n",
    "# Add figure title\n",
    "fig.update_layout(\n",
    "    title_text=\"Balance and Collections\"\n",
    ")\n",
    "\n",
    "# Set x-axis title\n",
    "fig.update_xaxes(title_text=\"Payment Date\")\n",
    "\n",
    "# Set y-axes titles\n",
    "fig.update_yaxes(title_text=\"<b>Ending Balance</b>\", secondary_y=False)\n",
    "fig.update_yaxes(title_text=\"<b>Collections</b>\", secondary_y=True)\n",
    "\n",
    "fig.show()"
   ]
  },
  {
   "cell_type": "code",
   "execution_count": 58,
   "id": "b01af335",
   "metadata": {},
   "outputs": [
    {
     "data": {
      "application/vnd.plotly.v1+json": {
       "config": {
        "plotlyServerURL": "https://plot.ly"
       },
       "data": [
        {
         "hovertemplate": "payment_date=%{x}<br>num_loans=%{y}<extra></extra>",
         "legendgroup": "",
         "line": {
          "color": "#636efa",
          "dash": "solid"
         },
         "marker": {
          "symbol": "circle"
         },
         "mode": "lines",
         "name": "",
         "orientation": "v",
         "showlegend": false,
         "type": "scatter",
         "x": [
          "2019-10-15T00:00:00",
          "2019-11-14T00:00:00",
          "2019-12-16T00:00:00",
          "2020-01-14T00:00:00",
          "2020-02-14T00:00:00",
          "2020-03-16T00:00:00",
          "2020-04-14T00:00:00",
          "2020-05-14T00:00:00",
          "2020-06-15T00:00:00",
          "2020-07-14T00:00:00",
          "2020-08-14T00:00:00",
          "2020-09-14T00:00:00",
          "2020-10-14T00:00:00",
          "2020-11-16T00:00:00",
          "2020-12-14T00:00:00",
          "2021-01-14T00:00:00",
          "2021-02-16T00:00:00",
          "2021-03-15T00:00:00",
          "2021-04-14T00:00:00",
          "2021-05-14T00:00:00",
          "2021-06-14T00:00:00",
          "2021-07-14T00:00:00",
          "2021-08-16T00:00:00",
          "2021-09-14T00:00:00",
          "2021-10-14T00:00:00",
          "2021-11-15T00:00:00",
          "2021-12-14T00:00:00",
          "2022-01-14T00:00:00",
          "2022-02-14T00:00:00",
          "2022-03-14T00:00:00",
          "2022-04-14T00:00:00",
          "2022-05-16T00:00:00",
          "2022-06-14T00:00:00",
          "2022-07-14T00:00:00",
          "2022-08-15T00:00:00",
          "2022-09-14T00:00:00",
          "2022-10-14T00:00:00",
          "2022-11-14T00:00:00",
          "2022-12-14T00:00:00",
          "2023-01-17T00:00:00",
          "2023-02-14T00:00:00",
          "2023-03-14T00:00:00",
          "2023-04-14T00:00:00",
          "2023-05-15T00:00:00",
          "2023-06-14T00:00:00",
          "2023-07-14T00:00:00",
          "2023-08-14T00:00:00",
          "2023-09-14T00:00:00",
          "2023-10-16T00:00:00"
         ],
         "xaxis": "x",
         "y": [
          126478,
          125787,
          124616,
          124101,
          123814,
          123437,
          123667,
          128450,
          128628,
          128909,
          129133,
          129340,
          129238,
          129296,
          128761,
          128457,
          128963,
          128681,
          128054,
          128095,
          128165,
          128169,
          128184,
          128201,
          128242,
          128071,
          127560,
          127069,
          127121,
          127057,
          126767,
          126421,
          125676,
          125002,
          124678,
          124626,
          124261,
          124249,
          123309,
          122764,
          122753,
          122727,
          122673,
          122483,
          122243,
          122038,
          122022,
          122137,
          122637
         ],
         "yaxis": "y"
        }
       ],
       "layout": {
        "legend": {
         "tracegroupgap": 0
        },
        "margin": {
         "t": 60
        },
        "template": {
         "data": {
          "bar": [
           {
            "error_x": {
             "color": "#2a3f5f"
            },
            "error_y": {
             "color": "#2a3f5f"
            },
            "marker": {
             "line": {
              "color": "#E5ECF6",
              "width": 0.5
             },
             "pattern": {
              "fillmode": "overlay",
              "size": 10,
              "solidity": 0.2
             }
            },
            "type": "bar"
           }
          ],
          "barpolar": [
           {
            "marker": {
             "line": {
              "color": "#E5ECF6",
              "width": 0.5
             },
             "pattern": {
              "fillmode": "overlay",
              "size": 10,
              "solidity": 0.2
             }
            },
            "type": "barpolar"
           }
          ],
          "carpet": [
           {
            "aaxis": {
             "endlinecolor": "#2a3f5f",
             "gridcolor": "white",
             "linecolor": "white",
             "minorgridcolor": "white",
             "startlinecolor": "#2a3f5f"
            },
            "baxis": {
             "endlinecolor": "#2a3f5f",
             "gridcolor": "white",
             "linecolor": "white",
             "minorgridcolor": "white",
             "startlinecolor": "#2a3f5f"
            },
            "type": "carpet"
           }
          ],
          "choropleth": [
           {
            "colorbar": {
             "outlinewidth": 0,
             "ticks": ""
            },
            "type": "choropleth"
           }
          ],
          "contour": [
           {
            "colorbar": {
             "outlinewidth": 0,
             "ticks": ""
            },
            "colorscale": [
             [
              0,
              "#0d0887"
             ],
             [
              0.1111111111111111,
              "#46039f"
             ],
             [
              0.2222222222222222,
              "#7201a8"
             ],
             [
              0.3333333333333333,
              "#9c179e"
             ],
             [
              0.4444444444444444,
              "#bd3786"
             ],
             [
              0.5555555555555556,
              "#d8576b"
             ],
             [
              0.6666666666666666,
              "#ed7953"
             ],
             [
              0.7777777777777778,
              "#fb9f3a"
             ],
             [
              0.8888888888888888,
              "#fdca26"
             ],
             [
              1,
              "#f0f921"
             ]
            ],
            "type": "contour"
           }
          ],
          "contourcarpet": [
           {
            "colorbar": {
             "outlinewidth": 0,
             "ticks": ""
            },
            "type": "contourcarpet"
           }
          ],
          "heatmap": [
           {
            "colorbar": {
             "outlinewidth": 0,
             "ticks": ""
            },
            "colorscale": [
             [
              0,
              "#0d0887"
             ],
             [
              0.1111111111111111,
              "#46039f"
             ],
             [
              0.2222222222222222,
              "#7201a8"
             ],
             [
              0.3333333333333333,
              "#9c179e"
             ],
             [
              0.4444444444444444,
              "#bd3786"
             ],
             [
              0.5555555555555556,
              "#d8576b"
             ],
             [
              0.6666666666666666,
              "#ed7953"
             ],
             [
              0.7777777777777778,
              "#fb9f3a"
             ],
             [
              0.8888888888888888,
              "#fdca26"
             ],
             [
              1,
              "#f0f921"
             ]
            ],
            "type": "heatmap"
           }
          ],
          "heatmapgl": [
           {
            "colorbar": {
             "outlinewidth": 0,
             "ticks": ""
            },
            "colorscale": [
             [
              0,
              "#0d0887"
             ],
             [
              0.1111111111111111,
              "#46039f"
             ],
             [
              0.2222222222222222,
              "#7201a8"
             ],
             [
              0.3333333333333333,
              "#9c179e"
             ],
             [
              0.4444444444444444,
              "#bd3786"
             ],
             [
              0.5555555555555556,
              "#d8576b"
             ],
             [
              0.6666666666666666,
              "#ed7953"
             ],
             [
              0.7777777777777778,
              "#fb9f3a"
             ],
             [
              0.8888888888888888,
              "#fdca26"
             ],
             [
              1,
              "#f0f921"
             ]
            ],
            "type": "heatmapgl"
           }
          ],
          "histogram": [
           {
            "marker": {
             "pattern": {
              "fillmode": "overlay",
              "size": 10,
              "solidity": 0.2
             }
            },
            "type": "histogram"
           }
          ],
          "histogram2d": [
           {
            "colorbar": {
             "outlinewidth": 0,
             "ticks": ""
            },
            "colorscale": [
             [
              0,
              "#0d0887"
             ],
             [
              0.1111111111111111,
              "#46039f"
             ],
             [
              0.2222222222222222,
              "#7201a8"
             ],
             [
              0.3333333333333333,
              "#9c179e"
             ],
             [
              0.4444444444444444,
              "#bd3786"
             ],
             [
              0.5555555555555556,
              "#d8576b"
             ],
             [
              0.6666666666666666,
              "#ed7953"
             ],
             [
              0.7777777777777778,
              "#fb9f3a"
             ],
             [
              0.8888888888888888,
              "#fdca26"
             ],
             [
              1,
              "#f0f921"
             ]
            ],
            "type": "histogram2d"
           }
          ],
          "histogram2dcontour": [
           {
            "colorbar": {
             "outlinewidth": 0,
             "ticks": ""
            },
            "colorscale": [
             [
              0,
              "#0d0887"
             ],
             [
              0.1111111111111111,
              "#46039f"
             ],
             [
              0.2222222222222222,
              "#7201a8"
             ],
             [
              0.3333333333333333,
              "#9c179e"
             ],
             [
              0.4444444444444444,
              "#bd3786"
             ],
             [
              0.5555555555555556,
              "#d8576b"
             ],
             [
              0.6666666666666666,
              "#ed7953"
             ],
             [
              0.7777777777777778,
              "#fb9f3a"
             ],
             [
              0.8888888888888888,
              "#fdca26"
             ],
             [
              1,
              "#f0f921"
             ]
            ],
            "type": "histogram2dcontour"
           }
          ],
          "mesh3d": [
           {
            "colorbar": {
             "outlinewidth": 0,
             "ticks": ""
            },
            "type": "mesh3d"
           }
          ],
          "parcoords": [
           {
            "line": {
             "colorbar": {
              "outlinewidth": 0,
              "ticks": ""
             }
            },
            "type": "parcoords"
           }
          ],
          "pie": [
           {
            "automargin": true,
            "type": "pie"
           }
          ],
          "scatter": [
           {
            "fillpattern": {
             "fillmode": "overlay",
             "size": 10,
             "solidity": 0.2
            },
            "type": "scatter"
           }
          ],
          "scatter3d": [
           {
            "line": {
             "colorbar": {
              "outlinewidth": 0,
              "ticks": ""
             }
            },
            "marker": {
             "colorbar": {
              "outlinewidth": 0,
              "ticks": ""
             }
            },
            "type": "scatter3d"
           }
          ],
          "scattercarpet": [
           {
            "marker": {
             "colorbar": {
              "outlinewidth": 0,
              "ticks": ""
             }
            },
            "type": "scattercarpet"
           }
          ],
          "scattergeo": [
           {
            "marker": {
             "colorbar": {
              "outlinewidth": 0,
              "ticks": ""
             }
            },
            "type": "scattergeo"
           }
          ],
          "scattergl": [
           {
            "marker": {
             "colorbar": {
              "outlinewidth": 0,
              "ticks": ""
             }
            },
            "type": "scattergl"
           }
          ],
          "scattermapbox": [
           {
            "marker": {
             "colorbar": {
              "outlinewidth": 0,
              "ticks": ""
             }
            },
            "type": "scattermapbox"
           }
          ],
          "scatterpolar": [
           {
            "marker": {
             "colorbar": {
              "outlinewidth": 0,
              "ticks": ""
             }
            },
            "type": "scatterpolar"
           }
          ],
          "scatterpolargl": [
           {
            "marker": {
             "colorbar": {
              "outlinewidth": 0,
              "ticks": ""
             }
            },
            "type": "scatterpolargl"
           }
          ],
          "scatterternary": [
           {
            "marker": {
             "colorbar": {
              "outlinewidth": 0,
              "ticks": ""
             }
            },
            "type": "scatterternary"
           }
          ],
          "surface": [
           {
            "colorbar": {
             "outlinewidth": 0,
             "ticks": ""
            },
            "colorscale": [
             [
              0,
              "#0d0887"
             ],
             [
              0.1111111111111111,
              "#46039f"
             ],
             [
              0.2222222222222222,
              "#7201a8"
             ],
             [
              0.3333333333333333,
              "#9c179e"
             ],
             [
              0.4444444444444444,
              "#bd3786"
             ],
             [
              0.5555555555555556,
              "#d8576b"
             ],
             [
              0.6666666666666666,
              "#ed7953"
             ],
             [
              0.7777777777777778,
              "#fb9f3a"
             ],
             [
              0.8888888888888888,
              "#fdca26"
             ],
             [
              1,
              "#f0f921"
             ]
            ],
            "type": "surface"
           }
          ],
          "table": [
           {
            "cells": {
             "fill": {
              "color": "#EBF0F8"
             },
             "line": {
              "color": "white"
             }
            },
            "header": {
             "fill": {
              "color": "#C8D4E3"
             },
             "line": {
              "color": "white"
             }
            },
            "type": "table"
           }
          ]
         },
         "layout": {
          "annotationdefaults": {
           "arrowcolor": "#2a3f5f",
           "arrowhead": 0,
           "arrowwidth": 1
          },
          "autotypenumbers": "strict",
          "coloraxis": {
           "colorbar": {
            "outlinewidth": 0,
            "ticks": ""
           }
          },
          "colorscale": {
           "diverging": [
            [
             0,
             "#8e0152"
            ],
            [
             0.1,
             "#c51b7d"
            ],
            [
             0.2,
             "#de77ae"
            ],
            [
             0.3,
             "#f1b6da"
            ],
            [
             0.4,
             "#fde0ef"
            ],
            [
             0.5,
             "#f7f7f7"
            ],
            [
             0.6,
             "#e6f5d0"
            ],
            [
             0.7,
             "#b8e186"
            ],
            [
             0.8,
             "#7fbc41"
            ],
            [
             0.9,
             "#4d9221"
            ],
            [
             1,
             "#276419"
            ]
           ],
           "sequential": [
            [
             0,
             "#0d0887"
            ],
            [
             0.1111111111111111,
             "#46039f"
            ],
            [
             0.2222222222222222,
             "#7201a8"
            ],
            [
             0.3333333333333333,
             "#9c179e"
            ],
            [
             0.4444444444444444,
             "#bd3786"
            ],
            [
             0.5555555555555556,
             "#d8576b"
            ],
            [
             0.6666666666666666,
             "#ed7953"
            ],
            [
             0.7777777777777778,
             "#fb9f3a"
            ],
            [
             0.8888888888888888,
             "#fdca26"
            ],
            [
             1,
             "#f0f921"
            ]
           ],
           "sequentialminus": [
            [
             0,
             "#0d0887"
            ],
            [
             0.1111111111111111,
             "#46039f"
            ],
            [
             0.2222222222222222,
             "#7201a8"
            ],
            [
             0.3333333333333333,
             "#9c179e"
            ],
            [
             0.4444444444444444,
             "#bd3786"
            ],
            [
             0.5555555555555556,
             "#d8576b"
            ],
            [
             0.6666666666666666,
             "#ed7953"
            ],
            [
             0.7777777777777778,
             "#fb9f3a"
            ],
            [
             0.8888888888888888,
             "#fdca26"
            ],
            [
             1,
             "#f0f921"
            ]
           ]
          },
          "colorway": [
           "#636efa",
           "#EF553B",
           "#00cc96",
           "#ab63fa",
           "#FFA15A",
           "#19d3f3",
           "#FF6692",
           "#B6E880",
           "#FF97FF",
           "#FECB52"
          ],
          "font": {
           "color": "#2a3f5f"
          },
          "geo": {
           "bgcolor": "white",
           "lakecolor": "white",
           "landcolor": "#E5ECF6",
           "showlakes": true,
           "showland": true,
           "subunitcolor": "white"
          },
          "hoverlabel": {
           "align": "left"
          },
          "hovermode": "closest",
          "mapbox": {
           "style": "light"
          },
          "paper_bgcolor": "white",
          "plot_bgcolor": "#E5ECF6",
          "polar": {
           "angularaxis": {
            "gridcolor": "white",
            "linecolor": "white",
            "ticks": ""
           },
           "bgcolor": "#E5ECF6",
           "radialaxis": {
            "gridcolor": "white",
            "linecolor": "white",
            "ticks": ""
           }
          },
          "scene": {
           "xaxis": {
            "backgroundcolor": "#E5ECF6",
            "gridcolor": "white",
            "gridwidth": 2,
            "linecolor": "white",
            "showbackground": true,
            "ticks": "",
            "zerolinecolor": "white"
           },
           "yaxis": {
            "backgroundcolor": "#E5ECF6",
            "gridcolor": "white",
            "gridwidth": 2,
            "linecolor": "white",
            "showbackground": true,
            "ticks": "",
            "zerolinecolor": "white"
           },
           "zaxis": {
            "backgroundcolor": "#E5ECF6",
            "gridcolor": "white",
            "gridwidth": 2,
            "linecolor": "white",
            "showbackground": true,
            "ticks": "",
            "zerolinecolor": "white"
           }
          },
          "shapedefaults": {
           "line": {
            "color": "#2a3f5f"
           }
          },
          "ternary": {
           "aaxis": {
            "gridcolor": "white",
            "linecolor": "white",
            "ticks": ""
           },
           "baxis": {
            "gridcolor": "white",
            "linecolor": "white",
            "ticks": ""
           },
           "bgcolor": "#E5ECF6",
           "caxis": {
            "gridcolor": "white",
            "linecolor": "white",
            "ticks": ""
           }
          },
          "title": {
           "x": 0.05
          },
          "xaxis": {
           "automargin": true,
           "gridcolor": "white",
           "linecolor": "white",
           "ticks": "",
           "title": {
            "standoff": 15
           },
           "zerolinecolor": "white",
           "zerolinewidth": 2
          },
          "yaxis": {
           "automargin": true,
           "gridcolor": "white",
           "linecolor": "white",
           "ticks": "",
           "title": {
            "standoff": 15
           },
           "zerolinecolor": "white",
           "zerolinewidth": 2
          }
         }
        },
        "xaxis": {
         "anchor": "y",
         "domain": [
          0,
          1
         ],
         "title": {
          "text": "payment_date"
         }
        },
        "yaxis": {
         "anchor": "x",
         "domain": [
          0,
          1
         ],
         "title": {
          "text": "num_loans"
         }
        }
       }
      },
      "text/html": [
       "<div>                            <div id=\"311cf6c9-d512-4bff-a74c-4e89c39be2b9\" class=\"plotly-graph-div\" style=\"height:525px; width:100%;\"></div>            <script type=\"text/javascript\">                require([\"plotly\"], function(Plotly) {                    window.PLOTLYENV=window.PLOTLYENV || {};                                    if (document.getElementById(\"311cf6c9-d512-4bff-a74c-4e89c39be2b9\")) {                    Plotly.newPlot(                        \"311cf6c9-d512-4bff-a74c-4e89c39be2b9\",                        [{\"hovertemplate\":\"payment_date=%{x}<br>num_loans=%{y}<extra></extra>\",\"legendgroup\":\"\",\"line\":{\"color\":\"#636efa\",\"dash\":\"solid\"},\"marker\":{\"symbol\":\"circle\"},\"mode\":\"lines\",\"name\":\"\",\"orientation\":\"v\",\"showlegend\":false,\"x\":[\"2019-10-15T00:00:00\",\"2019-11-14T00:00:00\",\"2019-12-16T00:00:00\",\"2020-01-14T00:00:00\",\"2020-02-14T00:00:00\",\"2020-03-16T00:00:00\",\"2020-04-14T00:00:00\",\"2020-05-14T00:00:00\",\"2020-06-15T00:00:00\",\"2020-07-14T00:00:00\",\"2020-08-14T00:00:00\",\"2020-09-14T00:00:00\",\"2020-10-14T00:00:00\",\"2020-11-16T00:00:00\",\"2020-12-14T00:00:00\",\"2021-01-14T00:00:00\",\"2021-02-16T00:00:00\",\"2021-03-15T00:00:00\",\"2021-04-14T00:00:00\",\"2021-05-14T00:00:00\",\"2021-06-14T00:00:00\",\"2021-07-14T00:00:00\",\"2021-08-16T00:00:00\",\"2021-09-14T00:00:00\",\"2021-10-14T00:00:00\",\"2021-11-15T00:00:00\",\"2021-12-14T00:00:00\",\"2022-01-14T00:00:00\",\"2022-02-14T00:00:00\",\"2022-03-14T00:00:00\",\"2022-04-14T00:00:00\",\"2022-05-16T00:00:00\",\"2022-06-14T00:00:00\",\"2022-07-14T00:00:00\",\"2022-08-15T00:00:00\",\"2022-09-14T00:00:00\",\"2022-10-14T00:00:00\",\"2022-11-14T00:00:00\",\"2022-12-14T00:00:00\",\"2023-01-17T00:00:00\",\"2023-02-14T00:00:00\",\"2023-03-14T00:00:00\",\"2023-04-14T00:00:00\",\"2023-05-15T00:00:00\",\"2023-06-14T00:00:00\",\"2023-07-14T00:00:00\",\"2023-08-14T00:00:00\",\"2023-09-14T00:00:00\",\"2023-10-16T00:00:00\"],\"xaxis\":\"x\",\"y\":[126478.0,125787.0,124616.0,124101.0,123814.0,123437.0,123667.0,128450.0,128628.0,128909.0,129133.0,129340.0,129238.0,129296.0,128761.0,128457.0,128963.0,128681.0,128054.0,128095.0,128165.0,128169.0,128184.0,128201.0,128242.0,128071.0,127560.0,127069.0,127121.0,127057.0,126767.0,126421.0,125676.0,125002.0,124678.0,124626.0,124261.0,124249.0,123309.0,122764.0,122753.0,122727.0,122673.0,122483.0,122243.0,122038.0,122022.0,122137.0,122637.0],\"yaxis\":\"y\",\"type\":\"scatter\"}],                        {\"template\":{\"data\":{\"histogram2dcontour\":[{\"type\":\"histogram2dcontour\",\"colorbar\":{\"outlinewidth\":0,\"ticks\":\"\"},\"colorscale\":[[0.0,\"#0d0887\"],[0.1111111111111111,\"#46039f\"],[0.2222222222222222,\"#7201a8\"],[0.3333333333333333,\"#9c179e\"],[0.4444444444444444,\"#bd3786\"],[0.5555555555555556,\"#d8576b\"],[0.6666666666666666,\"#ed7953\"],[0.7777777777777778,\"#fb9f3a\"],[0.8888888888888888,\"#fdca26\"],[1.0,\"#f0f921\"]]}],\"choropleth\":[{\"type\":\"choropleth\",\"colorbar\":{\"outlinewidth\":0,\"ticks\":\"\"}}],\"histogram2d\":[{\"type\":\"histogram2d\",\"colorbar\":{\"outlinewidth\":0,\"ticks\":\"\"},\"colorscale\":[[0.0,\"#0d0887\"],[0.1111111111111111,\"#46039f\"],[0.2222222222222222,\"#7201a8\"],[0.3333333333333333,\"#9c179e\"],[0.4444444444444444,\"#bd3786\"],[0.5555555555555556,\"#d8576b\"],[0.6666666666666666,\"#ed7953\"],[0.7777777777777778,\"#fb9f3a\"],[0.8888888888888888,\"#fdca26\"],[1.0,\"#f0f921\"]]}],\"heatmap\":[{\"type\":\"heatmap\",\"colorbar\":{\"outlinewidth\":0,\"ticks\":\"\"},\"colorscale\":[[0.0,\"#0d0887\"],[0.1111111111111111,\"#46039f\"],[0.2222222222222222,\"#7201a8\"],[0.3333333333333333,\"#9c179e\"],[0.4444444444444444,\"#bd3786\"],[0.5555555555555556,\"#d8576b\"],[0.6666666666666666,\"#ed7953\"],[0.7777777777777778,\"#fb9f3a\"],[0.8888888888888888,\"#fdca26\"],[1.0,\"#f0f921\"]]}],\"heatmapgl\":[{\"type\":\"heatmapgl\",\"colorbar\":{\"outlinewidth\":0,\"ticks\":\"\"},\"colorscale\":[[0.0,\"#0d0887\"],[0.1111111111111111,\"#46039f\"],[0.2222222222222222,\"#7201a8\"],[0.3333333333333333,\"#9c179e\"],[0.4444444444444444,\"#bd3786\"],[0.5555555555555556,\"#d8576b\"],[0.6666666666666666,\"#ed7953\"],[0.7777777777777778,\"#fb9f3a\"],[0.8888888888888888,\"#fdca26\"],[1.0,\"#f0f921\"]]}],\"contourcarpet\":[{\"type\":\"contourcarpet\",\"colorbar\":{\"outlinewidth\":0,\"ticks\":\"\"}}],\"contour\":[{\"type\":\"contour\",\"colorbar\":{\"outlinewidth\":0,\"ticks\":\"\"},\"colorscale\":[[0.0,\"#0d0887\"],[0.1111111111111111,\"#46039f\"],[0.2222222222222222,\"#7201a8\"],[0.3333333333333333,\"#9c179e\"],[0.4444444444444444,\"#bd3786\"],[0.5555555555555556,\"#d8576b\"],[0.6666666666666666,\"#ed7953\"],[0.7777777777777778,\"#fb9f3a\"],[0.8888888888888888,\"#fdca26\"],[1.0,\"#f0f921\"]]}],\"surface\":[{\"type\":\"surface\",\"colorbar\":{\"outlinewidth\":0,\"ticks\":\"\"},\"colorscale\":[[0.0,\"#0d0887\"],[0.1111111111111111,\"#46039f\"],[0.2222222222222222,\"#7201a8\"],[0.3333333333333333,\"#9c179e\"],[0.4444444444444444,\"#bd3786\"],[0.5555555555555556,\"#d8576b\"],[0.6666666666666666,\"#ed7953\"],[0.7777777777777778,\"#fb9f3a\"],[0.8888888888888888,\"#fdca26\"],[1.0,\"#f0f921\"]]}],\"mesh3d\":[{\"type\":\"mesh3d\",\"colorbar\":{\"outlinewidth\":0,\"ticks\":\"\"}}],\"scatter\":[{\"fillpattern\":{\"fillmode\":\"overlay\",\"size\":10,\"solidity\":0.2},\"type\":\"scatter\"}],\"parcoords\":[{\"type\":\"parcoords\",\"line\":{\"colorbar\":{\"outlinewidth\":0,\"ticks\":\"\"}}}],\"scatterpolargl\":[{\"type\":\"scatterpolargl\",\"marker\":{\"colorbar\":{\"outlinewidth\":0,\"ticks\":\"\"}}}],\"bar\":[{\"error_x\":{\"color\":\"#2a3f5f\"},\"error_y\":{\"color\":\"#2a3f5f\"},\"marker\":{\"line\":{\"color\":\"#E5ECF6\",\"width\":0.5},\"pattern\":{\"fillmode\":\"overlay\",\"size\":10,\"solidity\":0.2}},\"type\":\"bar\"}],\"scattergeo\":[{\"type\":\"scattergeo\",\"marker\":{\"colorbar\":{\"outlinewidth\":0,\"ticks\":\"\"}}}],\"scatterpolar\":[{\"type\":\"scatterpolar\",\"marker\":{\"colorbar\":{\"outlinewidth\":0,\"ticks\":\"\"}}}],\"histogram\":[{\"marker\":{\"pattern\":{\"fillmode\":\"overlay\",\"size\":10,\"solidity\":0.2}},\"type\":\"histogram\"}],\"scattergl\":[{\"type\":\"scattergl\",\"marker\":{\"colorbar\":{\"outlinewidth\":0,\"ticks\":\"\"}}}],\"scatter3d\":[{\"type\":\"scatter3d\",\"line\":{\"colorbar\":{\"outlinewidth\":0,\"ticks\":\"\"}},\"marker\":{\"colorbar\":{\"outlinewidth\":0,\"ticks\":\"\"}}}],\"scattermapbox\":[{\"type\":\"scattermapbox\",\"marker\":{\"colorbar\":{\"outlinewidth\":0,\"ticks\":\"\"}}}],\"scatterternary\":[{\"type\":\"scatterternary\",\"marker\":{\"colorbar\":{\"outlinewidth\":0,\"ticks\":\"\"}}}],\"scattercarpet\":[{\"type\":\"scattercarpet\",\"marker\":{\"colorbar\":{\"outlinewidth\":0,\"ticks\":\"\"}}}],\"carpet\":[{\"aaxis\":{\"endlinecolor\":\"#2a3f5f\",\"gridcolor\":\"white\",\"linecolor\":\"white\",\"minorgridcolor\":\"white\",\"startlinecolor\":\"#2a3f5f\"},\"baxis\":{\"endlinecolor\":\"#2a3f5f\",\"gridcolor\":\"white\",\"linecolor\":\"white\",\"minorgridcolor\":\"white\",\"startlinecolor\":\"#2a3f5f\"},\"type\":\"carpet\"}],\"table\":[{\"cells\":{\"fill\":{\"color\":\"#EBF0F8\"},\"line\":{\"color\":\"white\"}},\"header\":{\"fill\":{\"color\":\"#C8D4E3\"},\"line\":{\"color\":\"white\"}},\"type\":\"table\"}],\"barpolar\":[{\"marker\":{\"line\":{\"color\":\"#E5ECF6\",\"width\":0.5},\"pattern\":{\"fillmode\":\"overlay\",\"size\":10,\"solidity\":0.2}},\"type\":\"barpolar\"}],\"pie\":[{\"automargin\":true,\"type\":\"pie\"}]},\"layout\":{\"autotypenumbers\":\"strict\",\"colorway\":[\"#636efa\",\"#EF553B\",\"#00cc96\",\"#ab63fa\",\"#FFA15A\",\"#19d3f3\",\"#FF6692\",\"#B6E880\",\"#FF97FF\",\"#FECB52\"],\"font\":{\"color\":\"#2a3f5f\"},\"hovermode\":\"closest\",\"hoverlabel\":{\"align\":\"left\"},\"paper_bgcolor\":\"white\",\"plot_bgcolor\":\"#E5ECF6\",\"polar\":{\"bgcolor\":\"#E5ECF6\",\"angularaxis\":{\"gridcolor\":\"white\",\"linecolor\":\"white\",\"ticks\":\"\"},\"radialaxis\":{\"gridcolor\":\"white\",\"linecolor\":\"white\",\"ticks\":\"\"}},\"ternary\":{\"bgcolor\":\"#E5ECF6\",\"aaxis\":{\"gridcolor\":\"white\",\"linecolor\":\"white\",\"ticks\":\"\"},\"baxis\":{\"gridcolor\":\"white\",\"linecolor\":\"white\",\"ticks\":\"\"},\"caxis\":{\"gridcolor\":\"white\",\"linecolor\":\"white\",\"ticks\":\"\"}},\"coloraxis\":{\"colorbar\":{\"outlinewidth\":0,\"ticks\":\"\"}},\"colorscale\":{\"sequential\":[[0.0,\"#0d0887\"],[0.1111111111111111,\"#46039f\"],[0.2222222222222222,\"#7201a8\"],[0.3333333333333333,\"#9c179e\"],[0.4444444444444444,\"#bd3786\"],[0.5555555555555556,\"#d8576b\"],[0.6666666666666666,\"#ed7953\"],[0.7777777777777778,\"#fb9f3a\"],[0.8888888888888888,\"#fdca26\"],[1.0,\"#f0f921\"]],\"sequentialminus\":[[0.0,\"#0d0887\"],[0.1111111111111111,\"#46039f\"],[0.2222222222222222,\"#7201a8\"],[0.3333333333333333,\"#9c179e\"],[0.4444444444444444,\"#bd3786\"],[0.5555555555555556,\"#d8576b\"],[0.6666666666666666,\"#ed7953\"],[0.7777777777777778,\"#fb9f3a\"],[0.8888888888888888,\"#fdca26\"],[1.0,\"#f0f921\"]],\"diverging\":[[0,\"#8e0152\"],[0.1,\"#c51b7d\"],[0.2,\"#de77ae\"],[0.3,\"#f1b6da\"],[0.4,\"#fde0ef\"],[0.5,\"#f7f7f7\"],[0.6,\"#e6f5d0\"],[0.7,\"#b8e186\"],[0.8,\"#7fbc41\"],[0.9,\"#4d9221\"],[1,\"#276419\"]]},\"xaxis\":{\"gridcolor\":\"white\",\"linecolor\":\"white\",\"ticks\":\"\",\"title\":{\"standoff\":15},\"zerolinecolor\":\"white\",\"automargin\":true,\"zerolinewidth\":2},\"yaxis\":{\"gridcolor\":\"white\",\"linecolor\":\"white\",\"ticks\":\"\",\"title\":{\"standoff\":15},\"zerolinecolor\":\"white\",\"automargin\":true,\"zerolinewidth\":2},\"scene\":{\"xaxis\":{\"backgroundcolor\":\"#E5ECF6\",\"gridcolor\":\"white\",\"linecolor\":\"white\",\"showbackground\":true,\"ticks\":\"\",\"zerolinecolor\":\"white\",\"gridwidth\":2},\"yaxis\":{\"backgroundcolor\":\"#E5ECF6\",\"gridcolor\":\"white\",\"linecolor\":\"white\",\"showbackground\":true,\"ticks\":\"\",\"zerolinecolor\":\"white\",\"gridwidth\":2},\"zaxis\":{\"backgroundcolor\":\"#E5ECF6\",\"gridcolor\":\"white\",\"linecolor\":\"white\",\"showbackground\":true,\"ticks\":\"\",\"zerolinecolor\":\"white\",\"gridwidth\":2}},\"shapedefaults\":{\"line\":{\"color\":\"#2a3f5f\"}},\"annotationdefaults\":{\"arrowcolor\":\"#2a3f5f\",\"arrowhead\":0,\"arrowwidth\":1},\"geo\":{\"bgcolor\":\"white\",\"landcolor\":\"#E5ECF6\",\"subunitcolor\":\"white\",\"showland\":true,\"showlakes\":true,\"lakecolor\":\"white\"},\"title\":{\"x\":0.05},\"mapbox\":{\"style\":\"light\"}}},\"xaxis\":{\"anchor\":\"y\",\"domain\":[0.0,1.0],\"title\":{\"text\":\"payment_date\"}},\"yaxis\":{\"anchor\":\"x\",\"domain\":[0.0,1.0],\"title\":{\"text\":\"num_loans\"}},\"legend\":{\"tracegroupgap\":0},\"margin\":{\"t\":60}},                        {\"responsive\": true}                    ).then(function(){\n",
       "                            \n",
       "var gd = document.getElementById('311cf6c9-d512-4bff-a74c-4e89c39be2b9');\n",
       "var x = new MutationObserver(function (mutations, observer) {{\n",
       "        var display = window.getComputedStyle(gd).display;\n",
       "        if (!display || display === 'none') {{\n",
       "            console.log([gd, 'removed!']);\n",
       "            Plotly.purge(gd);\n",
       "            observer.disconnect();\n",
       "        }}\n",
       "}});\n",
       "\n",
       "// Listen for the removal of the full notebook cells\n",
       "var notebookContainer = gd.closest('#notebook-container');\n",
       "if (notebookContainer) {{\n",
       "    x.observe(notebookContainer, {childList: true});\n",
       "}}\n",
       "\n",
       "// Listen for the clearing of the current output cell\n",
       "var outputEl = gd.closest('.output');\n",
       "if (outputEl) {{\n",
       "    x.observe(outputEl, {childList: true});\n",
       "}}\n",
       "\n",
       "                        })                };                });            </script>        </div>"
      ]
     },
     "metadata": {},
     "output_type": "display_data"
    }
   ],
   "source": [
    "px.line(data_frame=combined_df, x=combined_df['payment_date'], y=combined_df['num_loans'])"
   ]
  },
  {
   "cell_type": "code",
   "execution_count": null,
   "id": "2392ade4",
   "metadata": {},
   "outputs": [],
   "source": [
    "fig, ax = plt.subplots()\n",
    "\n",
    "sns.barplot(x=combined_df['payment_date'], y=combined_df['ending_balance'], data = combined_df[['payment_date', 'ending_balance']], ax=ax)\n",
    "\n",
    "ax2 = ax.twinx()\n",
    "\n",
    "sns.lineplot(x=combined_df['payment_date'], y = combined_df['total_prin_coll'], data = combined_df[['payment_date', 'total_prin_coll']], ax=ax2)\n",
    "sns.lineplot(x=combined_df['payment_date'], y = combined_df['total_int_coll'], data = combined_df[['payment_date', 'total_int_coll']],ax=ax2)\n",
    "\n"
   ]
  },
  {
   "cell_type": "code",
   "execution_count": null,
   "id": "f5880720",
   "metadata": {},
   "outputs": [],
   "source": [
    "plt.figure(figsize = (12,6))\n",
    "\n",
    "sns.barplot(x=combined_df['payment_date'], y=combined_df['ending_balance'], data = combined_df[['payment_date', 'ending_balance']], color='blue')"
   ]
  },
  {
   "cell_type": "code",
   "execution_count": 59,
   "id": "13475775",
   "metadata": {},
   "outputs": [
    {
     "data": {
      "application/vnd.plotly.v1+json": {
       "config": {
        "plotlyServerURL": "https://plot.ly"
       },
       "data": [
        {
         "alignmentgroup": "True",
         "hovertemplate": "payment_date=%{x}<br>ending_balance=%{y}<extra></extra>",
         "legendgroup": "",
         "marker": {
          "color": "#636efa",
          "pattern": {
           "shape": ""
          }
         },
         "name": "",
         "offsetgroup": "",
         "orientation": "v",
         "showlegend": false,
         "textposition": "auto",
         "type": "bar",
         "x": [
          "2019-10-15T00:00:00",
          "2019-11-14T00:00:00",
          "2019-12-16T00:00:00",
          "2020-01-14T00:00:00",
          "2020-02-14T00:00:00",
          "2020-03-16T00:00:00",
          "2020-04-14T00:00:00",
          "2020-05-14T00:00:00",
          "2020-06-15T00:00:00",
          "2020-07-14T00:00:00",
          "2020-08-14T00:00:00",
          "2020-09-14T00:00:00",
          "2020-10-14T00:00:00",
          "2020-11-16T00:00:00",
          "2020-12-14T00:00:00",
          "2021-01-14T00:00:00",
          "2021-02-16T00:00:00",
          "2021-03-15T00:00:00",
          "2021-04-14T00:00:00",
          "2021-05-14T00:00:00",
          "2021-06-14T00:00:00",
          "2021-07-14T00:00:00",
          "2021-08-16T00:00:00",
          "2021-09-14T00:00:00",
          "2021-10-14T00:00:00",
          "2021-11-15T00:00:00",
          "2021-12-14T00:00:00",
          "2022-01-14T00:00:00",
          "2022-02-14T00:00:00",
          "2022-03-14T00:00:00",
          "2022-04-14T00:00:00",
          "2022-05-16T00:00:00",
          "2022-06-14T00:00:00",
          "2022-07-14T00:00:00",
          "2022-08-15T00:00:00",
          "2022-09-14T00:00:00",
          "2022-10-14T00:00:00",
          "2022-11-14T00:00:00",
          "2022-12-14T00:00:00",
          "2023-01-17T00:00:00",
          "2023-02-14T00:00:00",
          "2023-03-14T00:00:00",
          "2023-04-14T00:00:00",
          "2023-05-15T00:00:00",
          "2023-06-14T00:00:00",
          "2023-07-14T00:00:00",
          "2023-08-14T00:00:00",
          "2023-09-14T00:00:00",
          "2023-10-16T00:00:00"
         ],
         "xaxis": "x",
         "y": [
          947430162.18,
          947424989.11,
          947426092.06,
          947428054.87,
          947429412.48,
          947434890.57,
          947428211.7,
          994799319.07,
          994798041.17,
          994795894.36,
          994794517.85,
          994798725.69,
          994793667.06,
          994795264.23,
          994794532.32,
          994794863.29,
          994798179.24,
          994797072.21,
          994793302.61,
          994802016.83,
          994801800.76,
          994796646.93,
          994795015.65,
          994795231.51,
          994794356.6,
          994804618.45,
          994802478.45,
          994795339.71,
          994807004.57,
          994794640.1,
          994800702.76,
          994797200.66,
          994795744.74,
          994796456.72,
          994796609.14,
          994793066.86,
          994805676.87,
          994798150.73,
          994794354.58,
          994806084.5,
          994799751.98,
          994807619.68,
          994795054.63,
          994793213.54,
          994799953.1,
          994792900.24,
          994795293.07,
          994793912.04,
          994797589.59
         ],
         "yaxis": "y"
        }
       ],
       "layout": {
        "barmode": "relative",
        "legend": {
         "tracegroupgap": 0
        },
        "margin": {
         "t": 60
        },
        "template": {
         "data": {
          "bar": [
           {
            "error_x": {
             "color": "#2a3f5f"
            },
            "error_y": {
             "color": "#2a3f5f"
            },
            "marker": {
             "line": {
              "color": "#E5ECF6",
              "width": 0.5
             },
             "pattern": {
              "fillmode": "overlay",
              "size": 10,
              "solidity": 0.2
             }
            },
            "type": "bar"
           }
          ],
          "barpolar": [
           {
            "marker": {
             "line": {
              "color": "#E5ECF6",
              "width": 0.5
             },
             "pattern": {
              "fillmode": "overlay",
              "size": 10,
              "solidity": 0.2
             }
            },
            "type": "barpolar"
           }
          ],
          "carpet": [
           {
            "aaxis": {
             "endlinecolor": "#2a3f5f",
             "gridcolor": "white",
             "linecolor": "white",
             "minorgridcolor": "white",
             "startlinecolor": "#2a3f5f"
            },
            "baxis": {
             "endlinecolor": "#2a3f5f",
             "gridcolor": "white",
             "linecolor": "white",
             "minorgridcolor": "white",
             "startlinecolor": "#2a3f5f"
            },
            "type": "carpet"
           }
          ],
          "choropleth": [
           {
            "colorbar": {
             "outlinewidth": 0,
             "ticks": ""
            },
            "type": "choropleth"
           }
          ],
          "contour": [
           {
            "colorbar": {
             "outlinewidth": 0,
             "ticks": ""
            },
            "colorscale": [
             [
              0,
              "#0d0887"
             ],
             [
              0.1111111111111111,
              "#46039f"
             ],
             [
              0.2222222222222222,
              "#7201a8"
             ],
             [
              0.3333333333333333,
              "#9c179e"
             ],
             [
              0.4444444444444444,
              "#bd3786"
             ],
             [
              0.5555555555555556,
              "#d8576b"
             ],
             [
              0.6666666666666666,
              "#ed7953"
             ],
             [
              0.7777777777777778,
              "#fb9f3a"
             ],
             [
              0.8888888888888888,
              "#fdca26"
             ],
             [
              1,
              "#f0f921"
             ]
            ],
            "type": "contour"
           }
          ],
          "contourcarpet": [
           {
            "colorbar": {
             "outlinewidth": 0,
             "ticks": ""
            },
            "type": "contourcarpet"
           }
          ],
          "heatmap": [
           {
            "colorbar": {
             "outlinewidth": 0,
             "ticks": ""
            },
            "colorscale": [
             [
              0,
              "#0d0887"
             ],
             [
              0.1111111111111111,
              "#46039f"
             ],
             [
              0.2222222222222222,
              "#7201a8"
             ],
             [
              0.3333333333333333,
              "#9c179e"
             ],
             [
              0.4444444444444444,
              "#bd3786"
             ],
             [
              0.5555555555555556,
              "#d8576b"
             ],
             [
              0.6666666666666666,
              "#ed7953"
             ],
             [
              0.7777777777777778,
              "#fb9f3a"
             ],
             [
              0.8888888888888888,
              "#fdca26"
             ],
             [
              1,
              "#f0f921"
             ]
            ],
            "type": "heatmap"
           }
          ],
          "heatmapgl": [
           {
            "colorbar": {
             "outlinewidth": 0,
             "ticks": ""
            },
            "colorscale": [
             [
              0,
              "#0d0887"
             ],
             [
              0.1111111111111111,
              "#46039f"
             ],
             [
              0.2222222222222222,
              "#7201a8"
             ],
             [
              0.3333333333333333,
              "#9c179e"
             ],
             [
              0.4444444444444444,
              "#bd3786"
             ],
             [
              0.5555555555555556,
              "#d8576b"
             ],
             [
              0.6666666666666666,
              "#ed7953"
             ],
             [
              0.7777777777777778,
              "#fb9f3a"
             ],
             [
              0.8888888888888888,
              "#fdca26"
             ],
             [
              1,
              "#f0f921"
             ]
            ],
            "type": "heatmapgl"
           }
          ],
          "histogram": [
           {
            "marker": {
             "pattern": {
              "fillmode": "overlay",
              "size": 10,
              "solidity": 0.2
             }
            },
            "type": "histogram"
           }
          ],
          "histogram2d": [
           {
            "colorbar": {
             "outlinewidth": 0,
             "ticks": ""
            },
            "colorscale": [
             [
              0,
              "#0d0887"
             ],
             [
              0.1111111111111111,
              "#46039f"
             ],
             [
              0.2222222222222222,
              "#7201a8"
             ],
             [
              0.3333333333333333,
              "#9c179e"
             ],
             [
              0.4444444444444444,
              "#bd3786"
             ],
             [
              0.5555555555555556,
              "#d8576b"
             ],
             [
              0.6666666666666666,
              "#ed7953"
             ],
             [
              0.7777777777777778,
              "#fb9f3a"
             ],
             [
              0.8888888888888888,
              "#fdca26"
             ],
             [
              1,
              "#f0f921"
             ]
            ],
            "type": "histogram2d"
           }
          ],
          "histogram2dcontour": [
           {
            "colorbar": {
             "outlinewidth": 0,
             "ticks": ""
            },
            "colorscale": [
             [
              0,
              "#0d0887"
             ],
             [
              0.1111111111111111,
              "#46039f"
             ],
             [
              0.2222222222222222,
              "#7201a8"
             ],
             [
              0.3333333333333333,
              "#9c179e"
             ],
             [
              0.4444444444444444,
              "#bd3786"
             ],
             [
              0.5555555555555556,
              "#d8576b"
             ],
             [
              0.6666666666666666,
              "#ed7953"
             ],
             [
              0.7777777777777778,
              "#fb9f3a"
             ],
             [
              0.8888888888888888,
              "#fdca26"
             ],
             [
              1,
              "#f0f921"
             ]
            ],
            "type": "histogram2dcontour"
           }
          ],
          "mesh3d": [
           {
            "colorbar": {
             "outlinewidth": 0,
             "ticks": ""
            },
            "type": "mesh3d"
           }
          ],
          "parcoords": [
           {
            "line": {
             "colorbar": {
              "outlinewidth": 0,
              "ticks": ""
             }
            },
            "type": "parcoords"
           }
          ],
          "pie": [
           {
            "automargin": true,
            "type": "pie"
           }
          ],
          "scatter": [
           {
            "fillpattern": {
             "fillmode": "overlay",
             "size": 10,
             "solidity": 0.2
            },
            "type": "scatter"
           }
          ],
          "scatter3d": [
           {
            "line": {
             "colorbar": {
              "outlinewidth": 0,
              "ticks": ""
             }
            },
            "marker": {
             "colorbar": {
              "outlinewidth": 0,
              "ticks": ""
             }
            },
            "type": "scatter3d"
           }
          ],
          "scattercarpet": [
           {
            "marker": {
             "colorbar": {
              "outlinewidth": 0,
              "ticks": ""
             }
            },
            "type": "scattercarpet"
           }
          ],
          "scattergeo": [
           {
            "marker": {
             "colorbar": {
              "outlinewidth": 0,
              "ticks": ""
             }
            },
            "type": "scattergeo"
           }
          ],
          "scattergl": [
           {
            "marker": {
             "colorbar": {
              "outlinewidth": 0,
              "ticks": ""
             }
            },
            "type": "scattergl"
           }
          ],
          "scattermapbox": [
           {
            "marker": {
             "colorbar": {
              "outlinewidth": 0,
              "ticks": ""
             }
            },
            "type": "scattermapbox"
           }
          ],
          "scatterpolar": [
           {
            "marker": {
             "colorbar": {
              "outlinewidth": 0,
              "ticks": ""
             }
            },
            "type": "scatterpolar"
           }
          ],
          "scatterpolargl": [
           {
            "marker": {
             "colorbar": {
              "outlinewidth": 0,
              "ticks": ""
             }
            },
            "type": "scatterpolargl"
           }
          ],
          "scatterternary": [
           {
            "marker": {
             "colorbar": {
              "outlinewidth": 0,
              "ticks": ""
             }
            },
            "type": "scatterternary"
           }
          ],
          "surface": [
           {
            "colorbar": {
             "outlinewidth": 0,
             "ticks": ""
            },
            "colorscale": [
             [
              0,
              "#0d0887"
             ],
             [
              0.1111111111111111,
              "#46039f"
             ],
             [
              0.2222222222222222,
              "#7201a8"
             ],
             [
              0.3333333333333333,
              "#9c179e"
             ],
             [
              0.4444444444444444,
              "#bd3786"
             ],
             [
              0.5555555555555556,
              "#d8576b"
             ],
             [
              0.6666666666666666,
              "#ed7953"
             ],
             [
              0.7777777777777778,
              "#fb9f3a"
             ],
             [
              0.8888888888888888,
              "#fdca26"
             ],
             [
              1,
              "#f0f921"
             ]
            ],
            "type": "surface"
           }
          ],
          "table": [
           {
            "cells": {
             "fill": {
              "color": "#EBF0F8"
             },
             "line": {
              "color": "white"
             }
            },
            "header": {
             "fill": {
              "color": "#C8D4E3"
             },
             "line": {
              "color": "white"
             }
            },
            "type": "table"
           }
          ]
         },
         "layout": {
          "annotationdefaults": {
           "arrowcolor": "#2a3f5f",
           "arrowhead": 0,
           "arrowwidth": 1
          },
          "autotypenumbers": "strict",
          "coloraxis": {
           "colorbar": {
            "outlinewidth": 0,
            "ticks": ""
           }
          },
          "colorscale": {
           "diverging": [
            [
             0,
             "#8e0152"
            ],
            [
             0.1,
             "#c51b7d"
            ],
            [
             0.2,
             "#de77ae"
            ],
            [
             0.3,
             "#f1b6da"
            ],
            [
             0.4,
             "#fde0ef"
            ],
            [
             0.5,
             "#f7f7f7"
            ],
            [
             0.6,
             "#e6f5d0"
            ],
            [
             0.7,
             "#b8e186"
            ],
            [
             0.8,
             "#7fbc41"
            ],
            [
             0.9,
             "#4d9221"
            ],
            [
             1,
             "#276419"
            ]
           ],
           "sequential": [
            [
             0,
             "#0d0887"
            ],
            [
             0.1111111111111111,
             "#46039f"
            ],
            [
             0.2222222222222222,
             "#7201a8"
            ],
            [
             0.3333333333333333,
             "#9c179e"
            ],
            [
             0.4444444444444444,
             "#bd3786"
            ],
            [
             0.5555555555555556,
             "#d8576b"
            ],
            [
             0.6666666666666666,
             "#ed7953"
            ],
            [
             0.7777777777777778,
             "#fb9f3a"
            ],
            [
             0.8888888888888888,
             "#fdca26"
            ],
            [
             1,
             "#f0f921"
            ]
           ],
           "sequentialminus": [
            [
             0,
             "#0d0887"
            ],
            [
             0.1111111111111111,
             "#46039f"
            ],
            [
             0.2222222222222222,
             "#7201a8"
            ],
            [
             0.3333333333333333,
             "#9c179e"
            ],
            [
             0.4444444444444444,
             "#bd3786"
            ],
            [
             0.5555555555555556,
             "#d8576b"
            ],
            [
             0.6666666666666666,
             "#ed7953"
            ],
            [
             0.7777777777777778,
             "#fb9f3a"
            ],
            [
             0.8888888888888888,
             "#fdca26"
            ],
            [
             1,
             "#f0f921"
            ]
           ]
          },
          "colorway": [
           "#636efa",
           "#EF553B",
           "#00cc96",
           "#ab63fa",
           "#FFA15A",
           "#19d3f3",
           "#FF6692",
           "#B6E880",
           "#FF97FF",
           "#FECB52"
          ],
          "font": {
           "color": "#2a3f5f"
          },
          "geo": {
           "bgcolor": "white",
           "lakecolor": "white",
           "landcolor": "#E5ECF6",
           "showlakes": true,
           "showland": true,
           "subunitcolor": "white"
          },
          "hoverlabel": {
           "align": "left"
          },
          "hovermode": "closest",
          "mapbox": {
           "style": "light"
          },
          "paper_bgcolor": "white",
          "plot_bgcolor": "#E5ECF6",
          "polar": {
           "angularaxis": {
            "gridcolor": "white",
            "linecolor": "white",
            "ticks": ""
           },
           "bgcolor": "#E5ECF6",
           "radialaxis": {
            "gridcolor": "white",
            "linecolor": "white",
            "ticks": ""
           }
          },
          "scene": {
           "xaxis": {
            "backgroundcolor": "#E5ECF6",
            "gridcolor": "white",
            "gridwidth": 2,
            "linecolor": "white",
            "showbackground": true,
            "ticks": "",
            "zerolinecolor": "white"
           },
           "yaxis": {
            "backgroundcolor": "#E5ECF6",
            "gridcolor": "white",
            "gridwidth": 2,
            "linecolor": "white",
            "showbackground": true,
            "ticks": "",
            "zerolinecolor": "white"
           },
           "zaxis": {
            "backgroundcolor": "#E5ECF6",
            "gridcolor": "white",
            "gridwidth": 2,
            "linecolor": "white",
            "showbackground": true,
            "ticks": "",
            "zerolinecolor": "white"
           }
          },
          "shapedefaults": {
           "line": {
            "color": "#2a3f5f"
           }
          },
          "ternary": {
           "aaxis": {
            "gridcolor": "white",
            "linecolor": "white",
            "ticks": ""
           },
           "baxis": {
            "gridcolor": "white",
            "linecolor": "white",
            "ticks": ""
           },
           "bgcolor": "#E5ECF6",
           "caxis": {
            "gridcolor": "white",
            "linecolor": "white",
            "ticks": ""
           }
          },
          "title": {
           "x": 0.05
          },
          "xaxis": {
           "automargin": true,
           "gridcolor": "white",
           "linecolor": "white",
           "ticks": "",
           "title": {
            "standoff": 15
           },
           "zerolinecolor": "white",
           "zerolinewidth": 2
          },
          "yaxis": {
           "automargin": true,
           "gridcolor": "white",
           "linecolor": "white",
           "ticks": "",
           "title": {
            "standoff": 15
           },
           "zerolinecolor": "white",
           "zerolinewidth": 2
          }
         }
        },
        "xaxis": {
         "anchor": "y",
         "domain": [
          0,
          1
         ],
         "title": {
          "text": "payment_date"
         }
        },
        "yaxis": {
         "anchor": "x",
         "domain": [
          0,
          1
         ],
         "range": [
          937424989.11,
          995807619.68
         ],
         "title": {
          "text": "ending_balance"
         }
        }
       }
      },
      "text/html": [
       "<div>                            <div id=\"78d8a33f-cc73-48c4-a7c9-87728be81714\" class=\"plotly-graph-div\" style=\"height:525px; width:100%;\"></div>            <script type=\"text/javascript\">                require([\"plotly\"], function(Plotly) {                    window.PLOTLYENV=window.PLOTLYENV || {};                                    if (document.getElementById(\"78d8a33f-cc73-48c4-a7c9-87728be81714\")) {                    Plotly.newPlot(                        \"78d8a33f-cc73-48c4-a7c9-87728be81714\",                        [{\"alignmentgroup\":\"True\",\"hovertemplate\":\"payment_date=%{x}<br>ending_balance=%{y}<extra></extra>\",\"legendgroup\":\"\",\"marker\":{\"color\":\"#636efa\",\"pattern\":{\"shape\":\"\"}},\"name\":\"\",\"offsetgroup\":\"\",\"orientation\":\"v\",\"showlegend\":false,\"textposition\":\"auto\",\"x\":[\"2019-10-15T00:00:00\",\"2019-11-14T00:00:00\",\"2019-12-16T00:00:00\",\"2020-01-14T00:00:00\",\"2020-02-14T00:00:00\",\"2020-03-16T00:00:00\",\"2020-04-14T00:00:00\",\"2020-05-14T00:00:00\",\"2020-06-15T00:00:00\",\"2020-07-14T00:00:00\",\"2020-08-14T00:00:00\",\"2020-09-14T00:00:00\",\"2020-10-14T00:00:00\",\"2020-11-16T00:00:00\",\"2020-12-14T00:00:00\",\"2021-01-14T00:00:00\",\"2021-02-16T00:00:00\",\"2021-03-15T00:00:00\",\"2021-04-14T00:00:00\",\"2021-05-14T00:00:00\",\"2021-06-14T00:00:00\",\"2021-07-14T00:00:00\",\"2021-08-16T00:00:00\",\"2021-09-14T00:00:00\",\"2021-10-14T00:00:00\",\"2021-11-15T00:00:00\",\"2021-12-14T00:00:00\",\"2022-01-14T00:00:00\",\"2022-02-14T00:00:00\",\"2022-03-14T00:00:00\",\"2022-04-14T00:00:00\",\"2022-05-16T00:00:00\",\"2022-06-14T00:00:00\",\"2022-07-14T00:00:00\",\"2022-08-15T00:00:00\",\"2022-09-14T00:00:00\",\"2022-10-14T00:00:00\",\"2022-11-14T00:00:00\",\"2022-12-14T00:00:00\",\"2023-01-17T00:00:00\",\"2023-02-14T00:00:00\",\"2023-03-14T00:00:00\",\"2023-04-14T00:00:00\",\"2023-05-15T00:00:00\",\"2023-06-14T00:00:00\",\"2023-07-14T00:00:00\",\"2023-08-14T00:00:00\",\"2023-09-14T00:00:00\",\"2023-10-16T00:00:00\"],\"xaxis\":\"x\",\"y\":[947430162.18,947424989.11,947426092.06,947428054.87,947429412.48,947434890.57,947428211.7,994799319.07,994798041.17,994795894.36,994794517.85,994798725.69,994793667.06,994795264.23,994794532.32,994794863.29,994798179.24,994797072.21,994793302.61,994802016.83,994801800.76,994796646.93,994795015.65,994795231.51,994794356.6,994804618.45,994802478.45,994795339.71,994807004.57,994794640.1,994800702.76,994797200.66,994795744.74,994796456.72,994796609.14,994793066.86,994805676.87,994798150.73,994794354.58,994806084.5,994799751.98,994807619.68,994795054.63,994793213.54,994799953.1,994792900.24,994795293.07,994793912.04,994797589.59],\"yaxis\":\"y\",\"type\":\"bar\"}],                        {\"template\":{\"data\":{\"histogram2dcontour\":[{\"type\":\"histogram2dcontour\",\"colorbar\":{\"outlinewidth\":0,\"ticks\":\"\"},\"colorscale\":[[0.0,\"#0d0887\"],[0.1111111111111111,\"#46039f\"],[0.2222222222222222,\"#7201a8\"],[0.3333333333333333,\"#9c179e\"],[0.4444444444444444,\"#bd3786\"],[0.5555555555555556,\"#d8576b\"],[0.6666666666666666,\"#ed7953\"],[0.7777777777777778,\"#fb9f3a\"],[0.8888888888888888,\"#fdca26\"],[1.0,\"#f0f921\"]]}],\"choropleth\":[{\"type\":\"choropleth\",\"colorbar\":{\"outlinewidth\":0,\"ticks\":\"\"}}],\"histogram2d\":[{\"type\":\"histogram2d\",\"colorbar\":{\"outlinewidth\":0,\"ticks\":\"\"},\"colorscale\":[[0.0,\"#0d0887\"],[0.1111111111111111,\"#46039f\"],[0.2222222222222222,\"#7201a8\"],[0.3333333333333333,\"#9c179e\"],[0.4444444444444444,\"#bd3786\"],[0.5555555555555556,\"#d8576b\"],[0.6666666666666666,\"#ed7953\"],[0.7777777777777778,\"#fb9f3a\"],[0.8888888888888888,\"#fdca26\"],[1.0,\"#f0f921\"]]}],\"heatmap\":[{\"type\":\"heatmap\",\"colorbar\":{\"outlinewidth\":0,\"ticks\":\"\"},\"colorscale\":[[0.0,\"#0d0887\"],[0.1111111111111111,\"#46039f\"],[0.2222222222222222,\"#7201a8\"],[0.3333333333333333,\"#9c179e\"],[0.4444444444444444,\"#bd3786\"],[0.5555555555555556,\"#d8576b\"],[0.6666666666666666,\"#ed7953\"],[0.7777777777777778,\"#fb9f3a\"],[0.8888888888888888,\"#fdca26\"],[1.0,\"#f0f921\"]]}],\"heatmapgl\":[{\"type\":\"heatmapgl\",\"colorbar\":{\"outlinewidth\":0,\"ticks\":\"\"},\"colorscale\":[[0.0,\"#0d0887\"],[0.1111111111111111,\"#46039f\"],[0.2222222222222222,\"#7201a8\"],[0.3333333333333333,\"#9c179e\"],[0.4444444444444444,\"#bd3786\"],[0.5555555555555556,\"#d8576b\"],[0.6666666666666666,\"#ed7953\"],[0.7777777777777778,\"#fb9f3a\"],[0.8888888888888888,\"#fdca26\"],[1.0,\"#f0f921\"]]}],\"contourcarpet\":[{\"type\":\"contourcarpet\",\"colorbar\":{\"outlinewidth\":0,\"ticks\":\"\"}}],\"contour\":[{\"type\":\"contour\",\"colorbar\":{\"outlinewidth\":0,\"ticks\":\"\"},\"colorscale\":[[0.0,\"#0d0887\"],[0.1111111111111111,\"#46039f\"],[0.2222222222222222,\"#7201a8\"],[0.3333333333333333,\"#9c179e\"],[0.4444444444444444,\"#bd3786\"],[0.5555555555555556,\"#d8576b\"],[0.6666666666666666,\"#ed7953\"],[0.7777777777777778,\"#fb9f3a\"],[0.8888888888888888,\"#fdca26\"],[1.0,\"#f0f921\"]]}],\"surface\":[{\"type\":\"surface\",\"colorbar\":{\"outlinewidth\":0,\"ticks\":\"\"},\"colorscale\":[[0.0,\"#0d0887\"],[0.1111111111111111,\"#46039f\"],[0.2222222222222222,\"#7201a8\"],[0.3333333333333333,\"#9c179e\"],[0.4444444444444444,\"#bd3786\"],[0.5555555555555556,\"#d8576b\"],[0.6666666666666666,\"#ed7953\"],[0.7777777777777778,\"#fb9f3a\"],[0.8888888888888888,\"#fdca26\"],[1.0,\"#f0f921\"]]}],\"mesh3d\":[{\"type\":\"mesh3d\",\"colorbar\":{\"outlinewidth\":0,\"ticks\":\"\"}}],\"scatter\":[{\"fillpattern\":{\"fillmode\":\"overlay\",\"size\":10,\"solidity\":0.2},\"type\":\"scatter\"}],\"parcoords\":[{\"type\":\"parcoords\",\"line\":{\"colorbar\":{\"outlinewidth\":0,\"ticks\":\"\"}}}],\"scatterpolargl\":[{\"type\":\"scatterpolargl\",\"marker\":{\"colorbar\":{\"outlinewidth\":0,\"ticks\":\"\"}}}],\"bar\":[{\"error_x\":{\"color\":\"#2a3f5f\"},\"error_y\":{\"color\":\"#2a3f5f\"},\"marker\":{\"line\":{\"color\":\"#E5ECF6\",\"width\":0.5},\"pattern\":{\"fillmode\":\"overlay\",\"size\":10,\"solidity\":0.2}},\"type\":\"bar\"}],\"scattergeo\":[{\"type\":\"scattergeo\",\"marker\":{\"colorbar\":{\"outlinewidth\":0,\"ticks\":\"\"}}}],\"scatterpolar\":[{\"type\":\"scatterpolar\",\"marker\":{\"colorbar\":{\"outlinewidth\":0,\"ticks\":\"\"}}}],\"histogram\":[{\"marker\":{\"pattern\":{\"fillmode\":\"overlay\",\"size\":10,\"solidity\":0.2}},\"type\":\"histogram\"}],\"scattergl\":[{\"type\":\"scattergl\",\"marker\":{\"colorbar\":{\"outlinewidth\":0,\"ticks\":\"\"}}}],\"scatter3d\":[{\"type\":\"scatter3d\",\"line\":{\"colorbar\":{\"outlinewidth\":0,\"ticks\":\"\"}},\"marker\":{\"colorbar\":{\"outlinewidth\":0,\"ticks\":\"\"}}}],\"scattermapbox\":[{\"type\":\"scattermapbox\",\"marker\":{\"colorbar\":{\"outlinewidth\":0,\"ticks\":\"\"}}}],\"scatterternary\":[{\"type\":\"scatterternary\",\"marker\":{\"colorbar\":{\"outlinewidth\":0,\"ticks\":\"\"}}}],\"scattercarpet\":[{\"type\":\"scattercarpet\",\"marker\":{\"colorbar\":{\"outlinewidth\":0,\"ticks\":\"\"}}}],\"carpet\":[{\"aaxis\":{\"endlinecolor\":\"#2a3f5f\",\"gridcolor\":\"white\",\"linecolor\":\"white\",\"minorgridcolor\":\"white\",\"startlinecolor\":\"#2a3f5f\"},\"baxis\":{\"endlinecolor\":\"#2a3f5f\",\"gridcolor\":\"white\",\"linecolor\":\"white\",\"minorgridcolor\":\"white\",\"startlinecolor\":\"#2a3f5f\"},\"type\":\"carpet\"}],\"table\":[{\"cells\":{\"fill\":{\"color\":\"#EBF0F8\"},\"line\":{\"color\":\"white\"}},\"header\":{\"fill\":{\"color\":\"#C8D4E3\"},\"line\":{\"color\":\"white\"}},\"type\":\"table\"}],\"barpolar\":[{\"marker\":{\"line\":{\"color\":\"#E5ECF6\",\"width\":0.5},\"pattern\":{\"fillmode\":\"overlay\",\"size\":10,\"solidity\":0.2}},\"type\":\"barpolar\"}],\"pie\":[{\"automargin\":true,\"type\":\"pie\"}]},\"layout\":{\"autotypenumbers\":\"strict\",\"colorway\":[\"#636efa\",\"#EF553B\",\"#00cc96\",\"#ab63fa\",\"#FFA15A\",\"#19d3f3\",\"#FF6692\",\"#B6E880\",\"#FF97FF\",\"#FECB52\"],\"font\":{\"color\":\"#2a3f5f\"},\"hovermode\":\"closest\",\"hoverlabel\":{\"align\":\"left\"},\"paper_bgcolor\":\"white\",\"plot_bgcolor\":\"#E5ECF6\",\"polar\":{\"bgcolor\":\"#E5ECF6\",\"angularaxis\":{\"gridcolor\":\"white\",\"linecolor\":\"white\",\"ticks\":\"\"},\"radialaxis\":{\"gridcolor\":\"white\",\"linecolor\":\"white\",\"ticks\":\"\"}},\"ternary\":{\"bgcolor\":\"#E5ECF6\",\"aaxis\":{\"gridcolor\":\"white\",\"linecolor\":\"white\",\"ticks\":\"\"},\"baxis\":{\"gridcolor\":\"white\",\"linecolor\":\"white\",\"ticks\":\"\"},\"caxis\":{\"gridcolor\":\"white\",\"linecolor\":\"white\",\"ticks\":\"\"}},\"coloraxis\":{\"colorbar\":{\"outlinewidth\":0,\"ticks\":\"\"}},\"colorscale\":{\"sequential\":[[0.0,\"#0d0887\"],[0.1111111111111111,\"#46039f\"],[0.2222222222222222,\"#7201a8\"],[0.3333333333333333,\"#9c179e\"],[0.4444444444444444,\"#bd3786\"],[0.5555555555555556,\"#d8576b\"],[0.6666666666666666,\"#ed7953\"],[0.7777777777777778,\"#fb9f3a\"],[0.8888888888888888,\"#fdca26\"],[1.0,\"#f0f921\"]],\"sequentialminus\":[[0.0,\"#0d0887\"],[0.1111111111111111,\"#46039f\"],[0.2222222222222222,\"#7201a8\"],[0.3333333333333333,\"#9c179e\"],[0.4444444444444444,\"#bd3786\"],[0.5555555555555556,\"#d8576b\"],[0.6666666666666666,\"#ed7953\"],[0.7777777777777778,\"#fb9f3a\"],[0.8888888888888888,\"#fdca26\"],[1.0,\"#f0f921\"]],\"diverging\":[[0,\"#8e0152\"],[0.1,\"#c51b7d\"],[0.2,\"#de77ae\"],[0.3,\"#f1b6da\"],[0.4,\"#fde0ef\"],[0.5,\"#f7f7f7\"],[0.6,\"#e6f5d0\"],[0.7,\"#b8e186\"],[0.8,\"#7fbc41\"],[0.9,\"#4d9221\"],[1,\"#276419\"]]},\"xaxis\":{\"gridcolor\":\"white\",\"linecolor\":\"white\",\"ticks\":\"\",\"title\":{\"standoff\":15},\"zerolinecolor\":\"white\",\"automargin\":true,\"zerolinewidth\":2},\"yaxis\":{\"gridcolor\":\"white\",\"linecolor\":\"white\",\"ticks\":\"\",\"title\":{\"standoff\":15},\"zerolinecolor\":\"white\",\"automargin\":true,\"zerolinewidth\":2},\"scene\":{\"xaxis\":{\"backgroundcolor\":\"#E5ECF6\",\"gridcolor\":\"white\",\"linecolor\":\"white\",\"showbackground\":true,\"ticks\":\"\",\"zerolinecolor\":\"white\",\"gridwidth\":2},\"yaxis\":{\"backgroundcolor\":\"#E5ECF6\",\"gridcolor\":\"white\",\"linecolor\":\"white\",\"showbackground\":true,\"ticks\":\"\",\"zerolinecolor\":\"white\",\"gridwidth\":2},\"zaxis\":{\"backgroundcolor\":\"#E5ECF6\",\"gridcolor\":\"white\",\"linecolor\":\"white\",\"showbackground\":true,\"ticks\":\"\",\"zerolinecolor\":\"white\",\"gridwidth\":2}},\"shapedefaults\":{\"line\":{\"color\":\"#2a3f5f\"}},\"annotationdefaults\":{\"arrowcolor\":\"#2a3f5f\",\"arrowhead\":0,\"arrowwidth\":1},\"geo\":{\"bgcolor\":\"white\",\"landcolor\":\"#E5ECF6\",\"subunitcolor\":\"white\",\"showland\":true,\"showlakes\":true,\"lakecolor\":\"white\"},\"title\":{\"x\":0.05},\"mapbox\":{\"style\":\"light\"}}},\"xaxis\":{\"anchor\":\"y\",\"domain\":[0.0,1.0],\"title\":{\"text\":\"payment_date\"}},\"yaxis\":{\"anchor\":\"x\",\"domain\":[0.0,1.0],\"title\":{\"text\":\"ending_balance\"},\"range\":[937424989.11,995807619.68]},\"legend\":{\"tracegroupgap\":0},\"margin\":{\"t\":60},\"barmode\":\"relative\"},                        {\"responsive\": true}                    ).then(function(){\n",
       "                            \n",
       "var gd = document.getElementById('78d8a33f-cc73-48c4-a7c9-87728be81714');\n",
       "var x = new MutationObserver(function (mutations, observer) {{\n",
       "        var display = window.getComputedStyle(gd).display;\n",
       "        if (!display || display === 'none') {{\n",
       "            console.log([gd, 'removed!']);\n",
       "            Plotly.purge(gd);\n",
       "            observer.disconnect();\n",
       "        }}\n",
       "}});\n",
       "\n",
       "// Listen for the removal of the full notebook cells\n",
       "var notebookContainer = gd.closest('#notebook-container');\n",
       "if (notebookContainer) {{\n",
       "    x.observe(notebookContainer, {childList: true});\n",
       "}}\n",
       "\n",
       "// Listen for the clearing of the current output cell\n",
       "var outputEl = gd.closest('.output');\n",
       "if (outputEl) {{\n",
       "    x.observe(outputEl, {childList: true});\n",
       "}}\n",
       "\n",
       "                        })                };                });            </script>        </div>"
      ]
     },
     "metadata": {},
     "output_type": "display_data"
    }
   ],
   "source": [
    "max_bal = combined_df['ending_balance'].max()+1000000\n",
    "min_bal = combined_df['ending_balance'].min()-10000000\n",
    "px.bar(data_frame=combined_df, x=combined_df['payment_date'], y=combined_df['ending_balance'], range_y=[min_bal, max_bal])\n"
   ]
  }
 ],
 "metadata": {
  "kernelspec": {
   "display_name": "Python 3 (ipykernel)",
   "language": "python",
   "name": "python3"
  },
  "language_info": {
   "codemirror_mode": {
    "name": "ipython",
    "version": 3
   },
   "file_extension": ".py",
   "mimetype": "text/x-python",
   "name": "python",
   "nbconvert_exporter": "python",
   "pygments_lexer": "ipython3",
   "version": "3.11.4"
  }
 },
 "nbformat": 4,
 "nbformat_minor": 5
}
